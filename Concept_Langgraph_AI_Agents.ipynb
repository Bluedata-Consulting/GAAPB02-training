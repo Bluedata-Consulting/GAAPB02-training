{
 "cells": [
  {
   "cell_type": "markdown",
   "id": "d93896a9",
   "metadata": {},
   "source": [
    "# Getting Started with LangGraph\n",
    "## LangGraph: A Framework for Stateful, Graph-Based AI Workflows\n",
    "\n",
    "\n",
    "This Jupyter Notebook is designed to help you understand key concepts in LangGraph, a powerful framework for building stateful, graph-based AI workflows using Large Language Models (LLMs). It is assumed you are familiar with LangChain, but LangGraph is new to you. The notebook is divided into three parts: Beginner, Intermediate, and Advanced, guiding you step-by-step from basic concepts to complex multi-agent systems."
   ]
  },
  {
   "cell_type": "markdown",
   "id": "72b7e36a",
   "metadata": {},
   "source": [
    "## What is LangGraph?\n",
    "LangGraph is a library built on top of LangChain that allows you to create stateful, graph-based workflows for AI applications. Unlike traditional linear chains in LangChain, LangGraph models interactions as a graph, where nodes represent actions (e.g., calling an LLM, using a tool) and edges define how to move between them. This is particularly useful for applications requiring state management, cycles, or complex decision-making.\n",
    "\n",
    "Key Components:\n",
    "- Nodes: Individual steps or actions (e.g., call an LLM, execute a tool).\n",
    "- Edges: Connections between nodes, defining the flow (can be conditional).\n",
    "- State: A shared data structure that persists across nodes, tracking information like user input, LLM outputs, or tool results.\n",
    "- Graph: The overall structure combining nodes and edges.\n",
    "\n",
    "Why LangGraph?:\n",
    "- Enables stateful workflows where previous steps influence future ones.\n",
    "- Supports cycles for iterative processes (e.g., retrying a tool if the answer is incorrect).\n",
    "- Ideal for agentic systems where an AI decides which tools to use dynamically.\n",
    "\n",
    "## When to Use LangGraph?\n",
    "Use LangGraph when your application needs:\n",
    "- Complex workflows: When a simple linear chain (e.g., LangChain’s Chain) isn’t enough.\n",
    "- State persistence: To maintain context across multiple steps (e.g., user query history).\n",
    "- Decision-making agents: For scenarios where an AI must choose tools or actions dynamically.\n",
    "- Iterative processes: When you need loops, retries, or conditional branching (e.g., verify and retry if a tool’s output is wrong).\n",
    "\n",
    "Examples:\n",
    "- Building a chatbot that uses tools (e.g., search, calculator) based on user queries.\n",
    "- Creating multi-agent systems where agents collaborate to solve a task.\n",
    "- Managing workflows with conditional logic, like routing queries to different LLMs or tools."
   ]
  },
  {
   "cell_type": "markdown",
   "id": "dd05add9",
   "metadata": {},
   "source": [
    "## Example 1: Simple LangGraph with LLM\n",
    "\n",
    "Let’s start with a basic LangGraph example. The user provides a query, it goes to an LLM, and the LLM’s output is the final answer. This introduces you to setting up a graph, nodes, and state.\n",
    "\n",
    "# Step-by-Step Explanation\n",
    "- Define the State: We’ll create a simple state to hold the user’s query and the LLM’s response.\n",
    "- Create Nodes: One node for the LLM to process the query.\n",
    "- Build the Graph: Connect the start to the LLM node and then to the end.\n",
    "- Execute: Run the graph with a user query."
   ]
  },
  {
   "cell_type": "code",
   "execution_count": 1,
   "id": "52f6761f",
   "metadata": {},
   "outputs": [],
   "source": [
    "# Install required packages (run this in your terminal or a cell if needed)\n",
    "# !pip install -r requirements.txt\n",
    "\n",
    "from typing import TypedDict\n",
    "from langgraph.graph import StateGraph, START, END\n",
    "from langchain.prompts import PromptTemplate\n",
    "from langchain_openai import AzureChatOpenAI\n",
    "from dotenv import load_dotenv\n",
    "\n",
    "load_dotenv()\n",
    "\n",
    "llm = AzureChatOpenAI(model=\"gpt-4.1-mini\")"
   ]
  },
  {
   "cell_type": "code",
   "execution_count": 2,
   "id": "1980603d",
   "metadata": {},
   "outputs": [],
   "source": [
    "# Define the state to hold data across nodes\n",
    "class SimpleState(TypedDict):\n",
    "    query:str\n",
    "    response:str"
   ]
  },
  {
   "cell_type": "code",
   "execution_count": 3,
   "id": "b5fe4c7d",
   "metadata": {},
   "outputs": [],
   "source": [
    "# Node: Call the LLM/chat\n",
    "# define a node: a node will always take state (SImplestate)as input and return state as output or modified key from the state\n",
    "\n",
    "def chat(state:SimpleState)->SimpleState:\n",
    "    prompt = PromptTemplate(input_variables=[\"query\"],\n",
    "                            template=\"Answer the following question in concise way {query}\")\n",
    "    response = llm.invoke(prompt.format(query=state[\"query\"])).content\n",
    "    return {\"response\":response}\n"
   ]
  },
  {
   "cell_type": "code",
   "execution_count": 4,
   "id": "0b3746d4",
   "metadata": {},
   "outputs": [],
   "source": [
    "# Build the graph\n",
    "\n",
    "builder = StateGraph(SimpleState)\n",
    "builder.add_node(\"chat\",chat)\n",
    "builder.add_edge(START,\"chat\")\n",
    "builder.add_edge(\"chat\",END)\n",
    "\n",
    "graph = builder.compile()"
   ]
  },
  {
   "cell_type": "code",
   "execution_count": 5,
   "id": "f908ed3d",
   "metadata": {},
   "outputs": [
    {
     "data": {
      "image/png": "[encoded data removed]",
      "text/plain": [
       "<langgraph.graph.state.CompiledStateGraph object at 0x7141a72dfb60>"
      ]
     },
     "execution_count": 5,
     "metadata": {},
     "output_type": "execute_result"
    }
   ],
   "source": [
    "graph"
   ]
  },
  {
   "cell_type": "code",
   "execution_count": 6,
   "id": "abe391c7",
   "metadata": {},
   "outputs": [
    {
     "name": "stdout",
     "output_type": "stream",
     "text": [
      "{'query': 'What is the capital city of France?', 'response': 'The capital city of France is Paris.'}\n"
     ]
    }
   ],
   "source": [
    "# Run the graph\n",
    "input_state = {\"query\":\"What is the capital city of France?\"}\n",
    "\n",
    "result = graph.invoke(input_state)\n",
    "\n",
    "print(result)"
   ]
  },
  {
   "cell_type": "code",
   "execution_count": 7,
   "id": "add3684c",
   "metadata": {},
   "outputs": [
    {
     "name": "stdout",
     "output_type": "stream",
     "text": [
      "The capital city of France is Paris.\n"
     ]
    }
   ],
   "source": [
    "print(result['response'])"
   ]
  },
  {
   "cell_type": "markdown",
   "id": "c5cb3acd",
   "metadata": {},
   "source": [
    "# Explanation of Code\n",
    "\n",
    "- State (SimpleState): A dictionary-like structure (TypedDict) that holds the query (user input) and response (LLM output).\n",
    "- Node (chat): Takes the state, extracts the query, formats it into a prompt, calls the LLM, and updates the state with the response.\n",
    "- Graph: Starts at START, goes to chat node, and ends at END.\n",
    "- Execution: We pass an initial state with a query, and the graph processes it to produce the response."
   ]
  },
  {
   "cell_type": "code",
   "execution_count": 8,
   "id": "cc43606e",
   "metadata": {},
   "outputs": [],
   "source": [
    "from typing import TypedDict,Dict,Tuple,Any\n",
    "\n",
    "class StateA(TypedDict):\n",
    "    config:Dict[str,str]\n",
    "    params: Tuple[Any]"
   ]
  },
  {
   "cell_type": "code",
   "execution_count": 9,
   "id": "605aaafb",
   "metadata": {},
   "outputs": [],
   "source": [
    "# Define the state to hold data across nodes\n",
    "class SimpleState(TypedDict):\n",
    "    query:str\n",
    "    response:str\n",
    "    valid:bool"
   ]
  },
  {
   "cell_type": "code",
   "execution_count": 10,
   "id": "d2e05113",
   "metadata": {},
   "outputs": [],
   "source": [
    "def checker(State:SimpleState)->SimpleState:\n",
    "    if len(State[\"query\"].strip())<10:\n",
    "        return {\"valid\":False}\n",
    "    else:\n",
    "        return {\"valid\":True}"
   ]
  },
  {
   "cell_type": "code",
   "execution_count": 11,
   "id": "6abfbdee",
   "metadata": {},
   "outputs": [],
   "source": [
    "from typing import Literal\n",
    "def route(state:SimpleState)->Literal[\"chat\",END]:\n",
    "    if state[\"valid\"]:\n",
    "        return \"chat\"\n",
    "    else:\n",
    "        return END"
   ]
  },
  {
   "cell_type": "code",
   "execution_count": 12,
   "id": "56a55d7e",
   "metadata": {},
   "outputs": [
    {
     "data": {
      "image/png": "[encoded data removed]",
      "text/plain": [
       "<langgraph.graph.state.CompiledStateGraph object at 0x7141a735ea20>"
      ]
     },
     "execution_count": 12,
     "metadata": {},
     "output_type": "execute_result"
    }
   ],
   "source": [
    "# Build the graph\n",
    "\n",
    "builder = StateGraph(SimpleState)\n",
    "\n",
    "builder.add_node(\"checker\",checker)\n",
    "builder.add_node(\"chat\",chat)\n",
    "\n",
    "builder.add_edge(START,\"checker\")\n",
    "builder.add_conditional_edges(\"checker\",route)\n",
    "builder.add_edge(\"chat\",END)\n",
    "builder.add_edge(\"checker\",END)\n",
    "\n",
    "graph = builder.compile()\n",
    "graph"
   ]
  },
  {
   "cell_type": "code",
   "execution_count": 13,
   "id": "56e7cbff",
   "metadata": {},
   "outputs": [
    {
     "name": "stdout",
     "output_type": "stream",
     "text": [
      "{'query': 'What is the capital city of France?', 'response': 'The capital city of France is Paris.', 'valid': True}\n"
     ]
    }
   ],
   "source": [
    "# Run the graph\n",
    "input_state = {\"query\":\"What is the capital city of France?\"}\n",
    "\n",
    "result = graph.invoke(input_state)\n",
    "\n",
    "print(result)"
   ]
  },
  {
   "cell_type": "code",
   "execution_count": 14,
   "id": "a6af0aab",
   "metadata": {},
   "outputs": [
    {
     "name": "stdout",
     "output_type": "stream",
     "text": [
      "{'query': 'What?        ', 'valid': False}\n"
     ]
    }
   ],
   "source": [
    "# Run the graph\n",
    "input_state = {\"query\":\"What?        \"}\n",
    "\n",
    "result = graph.invoke(input_state)\n",
    "\n",
    "print(result)"
   ]
  },
  {
   "cell_type": "markdown",
   "id": "cb1ebc72",
   "metadata": {},
   "source": [
    "## Example 2.1: Implementing an AI Agent with Langgraph & Langchain"
   ]
  },
  {
   "cell_type": "code",
   "execution_count": 2,
   "id": "9b43cf81",
   "metadata": {},
   "outputs": [],
   "source": [
    "!pip install pyowm wikipedia --quiet"
   ]
  },
  {
   "cell_type": "code",
   "execution_count": 2,
   "id": "c6d7bd2d",
   "metadata": {},
   "outputs": [],
   "source": [
    "from langchain_openai import AzureChatOpenAI\n",
    "model = AzureChatOpenAI(model=\"gpt-4.1-mini\")\n",
    "\n",
    "# load a tool\n",
    "from langchain.utilities import WikipediaAPIWrapper\n",
    "from langchain.tools import OpenWeatherMapQueryRun,WikipediaQueryRun\n",
    "\n",
    "wiki = WikipediaQueryRun(api_wrapper=WikipediaAPIWrapper())\n",
    "#owm = OpenWeatherMapQueryRun() # make sure to have env variable for OPENWEATHERMAP_API_KEY\n",
    "\n",
    "tools = [wiki]\n",
    "\n",
    "# initialize agent\n",
    "from langgraph.prebuilt import create_react_agent\n",
    "agent = create_react_agent(model,tools)"
   ]
  },
  {
   "cell_type": "code",
   "execution_count": 4,
   "id": "56c2331e",
   "metadata": {},
   "outputs": [
    {
     "data": {
      "text/plain": [
       "[HumanMessage(content='hi', additional_kwargs={}, response_metadata={}, id='1f0d42df-fb65-4d05-9c98-10772780fbdb'),\n",
       " AIMessage(content='Hello! How can I assist you today?', additional_kwargs={'refusal': None}, response_metadata={'token_usage': {'completion_tokens': 11, 'prompt_tokens': 82, 'total_tokens': 93, 'completion_tokens_details': {'accepted_prediction_tokens': 0, 'audio_tokens': 0, 'reasoning_tokens': 0, 'rejected_prediction_tokens': 0}, 'prompt_tokens_details': {'audio_tokens': 0, 'cached_tokens': 0}}, 'model_name': 'gpt-4.1-mini-2025-04-14', 'system_fingerprint': 'fp_178c8d546f', 'id': 'chatcmpl-BbN53lznu1zpfaoqViexYx6fE3Jbo', 'service_tier': None, 'prompt_filter_results': [{'prompt_index': 0, 'content_filter_results': {'hate': {'filtered': False, 'severity': 'safe'}, 'jailbreak': {'filtered': False, 'detected': False}, 'self_harm': {'filtered': False, 'severity': 'safe'}, 'sexual': {'filtered': False, 'severity': 'safe'}, 'violence': {'filtered': False, 'severity': 'safe'}}}], 'finish_reason': 'stop', 'logprobs': None, 'content_filter_results': {'hate': {'filtered': False, 'severity': 'safe'}, 'protected_material_code': {'filtered': False, 'detected': False}, 'protected_material_text': {'filtered': False, 'detected': False}, 'self_harm': {'filtered': False, 'severity': 'safe'}, 'sexual': {'filtered': False, 'severity': 'safe'}, 'violence': {'filtered': False, 'severity': 'safe'}}}, id='run--34dae4f1-2436-4a00-b1d6-04cca77c2a61-0', usage_metadata={'input_tokens': 82, 'output_tokens': 11, 'total_tokens': 93, 'input_token_details': {'audio': 0, 'cache_read': 0}, 'output_token_details': {'audio': 0, 'reasoning': 0}})]"
      ]
     },
     "execution_count": 4,
     "metadata": {},
     "output_type": "execute_result"
    }
   ],
   "source": [
    "from langchain_core.messages import HumanMessage\n",
    "response = agent.invoke({\"messages\":HumanMessage(content=\"hi\")})\n",
    "response['messages']"
   ]
  },
  {
   "cell_type": "code",
   "execution_count": 5,
   "id": "08770f33",
   "metadata": {},
   "outputs": [
    {
     "data": {
      "text/plain": [
       "[HumanMessage(content='Where is the city Kualalumpur located?', additional_kwargs={}, response_metadata={}, id='bbbfcb1c-0dfe-46f6-be66-3bb7d54a64cf'),\n",
       " AIMessage(content='', additional_kwargs={'tool_calls': [{'id': 'call_5aaUuouaIvktrVm3okTn1A8X', 'function': {'arguments': '{\"query\":\"Kuala Lumpur\"}', 'name': 'wikipedia'}, 'type': 'function'}], 'refusal': None}, response_metadata={'token_usage': {'completion_tokens': 16, 'prompt_tokens': 92, 'total_tokens': 108, 'completion_tokens_details': {'accepted_prediction_tokens': 0, 'audio_tokens': 0, 'reasoning_tokens': 0, 'rejected_prediction_tokens': 0}, 'prompt_tokens_details': {'audio_tokens': 0, 'cached_tokens': 0}}, 'model_name': 'gpt-4.1-mini-2025-04-14', 'system_fingerprint': 'fp_178c8d546f', 'id': 'chatcmpl-BbN5cI3pzDnM8zC28LY9SsIdr16R1', 'service_tier': None, 'prompt_filter_results': [{'prompt_index': 0, 'content_filter_results': {'hate': {'filtered': False, 'severity': 'safe'}, 'jailbreak': {'filtered': False, 'detected': False}, 'self_harm': {'filtered': False, 'severity': 'safe'}, 'sexual': {'filtered': False, 'severity': 'safe'}, 'violence': {'filtered': False, 'severity': 'safe'}}}], 'finish_reason': 'tool_calls', 'logprobs': None, 'content_filter_results': {}}, id='run--4c987994-e44d-4cb9-8691-5e85139e1a7f-0', tool_calls=[{'name': 'wikipedia', 'args': {'query': 'Kuala Lumpur'}, 'id': 'call_5aaUuouaIvktrVm3okTn1A8X', 'type': 'tool_call'}], usage_metadata={'input_tokens': 92, 'output_tokens': 16, 'total_tokens': 108, 'input_token_details': {'audio': 0, 'cache_read': 0}, 'output_token_details': {'audio': 0, 'reasoning': 0}}),\n",
       " ToolMessage(content=\"Page: Kuala Lumpur\\nSummary: Kuala Lumpur, abbreviated as KL and officially the Federal Territory of Kuala Lumpur, is the capital city and a federal territory of Malaysia. It is the largest city in the country, covering an area of 243 km2 (94 sq mi) with a census population of 2,075,600 as of 2024. Greater Kuala Lumpur, also known as the Klang Valley, is an urban agglomeration of 8.8 million people as of 2024. It is among the fastest growing metropolitan regions in Southeast Asia, both in population and economic development.\\nThe city serves as the cultural, financial, tourism, political and economic centre of Malaysia. It is also home to the bicameral Parliament of Malaysia (consisting of the Dewan Rakyat and the Dewan Negara) and the Istana Negara, the official residence of the Yang di-Pertuan Agong (monarch of Malaysia). Kuala Lumpur was first developed around 1857 as a town serving the tin mines of the region, and important figures such as Yap Ah Loy and Frank Swettenham were instrumental in the early development of the city during the late 19th century. It served as the capital of Selangor from 1880 until 1978. Kuala Lumpur was the founding capital of the Federation of Malaya and its successor, Malaysia. The city remained the seat of the executive and judicial branches of the Malaysian federal government until these were relocated to Putrajaya in early 1999. However, some sections of the political bodies still remain in Kuala Lumpur. The city is one of the three Federal Territories of Malaysia, enclaved within the state of Selangor, on the central west coast of Peninsular Malaysia.\\nSince the 1990s, the city has played host to many international sporting, political and cultural events, including the 1998 Commonwealth Games, 2001 Southeast Asian Games, 2017 Southeast Asian Games, Formula One, Moto GP and 1997 FIFA World Youth Championships. Kuala Lumpur has undergone rapid development in recent decades and is home to the tallest twin buildings in the world, the Petronas Towers, which have since become an iconic symbol of Malaysian development. Kuala Lumpur is well connected with neighbouring urban metro regions such as Petaling Jaya via the rapidly expanding Klang Valley Integrated Transit System. Residents of the city can also travel to other parts of Peninsular Malaysia as well as to Kuala Lumpur International Airport (KLIA) via rail through KL Sentral.\\nKuala Lumpur was ranked the 6th most-visited city in the world on the Mastercard Destination Cities Index in 2019. The city houses three of the world's ten largest shopping malls. Kuala Lumpur ranks 70th in the world and the second in Southeast Asia after Singapore for the Economist Intelligence Unit's Global Liveability Ranking and ninth in ASPAC and second in Southeast Asia after Singapore for KPMG's Leading Technology Innovation Hub 2021. Kuala Lumpur was named World Book Capital 2020 by UNESCO. In 2024, Kuala Lumpur was ranked second for the best outstanding city in Southeast Asia, after Singapore, and 135th in the world by the Oxford Economic Papers' Global Cities Index.\\n\\nPage: Kuala Lumpur International Airport\\nSummary: Kuala Lumpur International Airport (KLIA; IATA: KUL, ICAO: WMKK) is the main international airport serving Kuala Lumpur, the capital of Malaysia. It is located in the Sepang District of Selangor, approximately 45 km (28 mi) south of downtown Kuala Lumpur and serves the city's greater conurbation.\\nKuala Lumpur International Airport is the largest and busiest airport in Malaysia and is recognised as a mega hub. In 2023, it handled 47.2 million passengers, 980,040 tonnes of cargo and 819,026 aircraft movements, ranking as the  35th-busiest airport by total passenger traffic.\\nIn 2024, KLIA is the ranked first by OAG (by ratio of connection flight frequency to destinations served) in the Global Low-Cost Megahubs index by with 11,188 possible low-cost connections across over 137 destinations.\\nOAG also ranked KLIA is the world's second most connected airport  \", name='wikipedia', id='bd6dbde1-05c8-40d8-80a6-767fadfa3cec', tool_call_id='call_5aaUuouaIvktrVm3okTn1A8X'),\n",
       " AIMessage(content='The city Kuala Lumpur is located in Malaysia. It is the capital city and a federal territory of Malaysia, situated on the central west coast of Peninsular Malaysia. Kuala Lumpur is the largest city in the country and serves as the cultural, financial, tourism, political, and economic center of Malaysia.', additional_kwargs={'refusal': None}, response_metadata={'token_usage': {'completion_tokens': 62, 'prompt_tokens': 975, 'total_tokens': 1037, 'completion_tokens_details': {'accepted_prediction_tokens': 0, 'audio_tokens': 0, 'reasoning_tokens': 0, 'rejected_prediction_tokens': 0}, 'prompt_tokens_details': {'audio_tokens': 0, 'cached_tokens': 0}}, 'model_name': 'gpt-4.1-mini-2025-04-14', 'system_fingerprint': 'fp_178c8d546f', 'id': 'chatcmpl-BbN5gHmJwTaU7jbUPyoKU9r8i0mYG', 'service_tier': None, 'prompt_filter_results': [{'prompt_index': 0, 'content_filter_results': {'hate': {'filtered': False, 'severity': 'safe'}, 'jailbreak': {'filtered': False, 'detected': False}, 'self_harm': {'filtered': False, 'severity': 'safe'}, 'sexual': {'filtered': False, 'severity': 'safe'}, 'violence': {'filtered': False, 'severity': 'safe'}}}], 'finish_reason': 'stop', 'logprobs': None, 'content_filter_results': {'hate': {'filtered': False, 'severity': 'safe'}, 'self_harm': {'filtered': False, 'severity': 'safe'}, 'sexual': {'filtered': False, 'severity': 'safe'}, 'violence': {'filtered': False, 'severity': 'safe'}}}, id='run--b9ade42d-e056-4fde-a6c4-29c475ca455b-0', usage_metadata={'input_tokens': 975, 'output_tokens': 62, 'total_tokens': 1037, 'input_token_details': {'audio': 0, 'cache_read': 0}, 'output_token_details': {'audio': 0, 'reasoning': 0}})]"
      ]
     },
     "execution_count": 5,
     "metadata": {},
     "output_type": "execute_result"
    }
   ],
   "source": [
    "response = agent.invoke({\"messages\":HumanMessage(content=\"Where is the city Kualalumpur located?\")})\n",
    "response['messages']"
   ]
  },
  {
   "cell_type": "code",
   "execution_count": 6,
   "id": "51419ed3",
   "metadata": {},
   "outputs": [
    {
     "name": "stdout",
     "output_type": "stream",
     "text": [
      "================================\u001b[1m Human Message \u001b[0m=================================\n",
      "\n",
      "Where is the city Kualalumpur located?\n",
      "==================================\u001b[1m Ai Message \u001b[0m==================================\n",
      "Tool Calls:\n",
      "  wikipedia (call_RuYmWXaINMGkdoM2J4XNlLNW)\n",
      " Call ID: call_RuYmWXaINMGkdoM2J4XNlLNW\n",
      "  Args:\n",
      "    query: Kuala Lumpur\n",
      "=================================\u001b[1m Tool Message \u001b[0m=================================\n",
      "Name: wikipedia\n",
      "\n",
      "Page: Kuala Lumpur\n",
      "Summary: Kuala Lumpur, abbreviated as KL and officially the Federal Territory of Kuala Lumpur, is the capital city and a federal territory of Malaysia. It is the largest city in the country, covering an area of 243 km2 (94 sq mi) with a census population of 2,075,600 as of 2024. Greater Kuala Lumpur, also known as the Klang Valley, is an urban agglomeration of 8.8 million people as of 2024. It is among the fastest growing metropolitan regions in Southeast Asia, both in population and economic development.\n",
      "The city serves as the cultural, financial, tourism, political and economic centre of Malaysia. It is also home to the bicameral Parliament of Malaysia (consisting of the Dewan Rakyat and the Dewan Negara) and the Istana Negara, the official residence of the Yang di-Pertuan Agong (monarch of Malaysia). Kuala Lumpur was first developed around 1857 as a town serving the tin mines of the region, and important figures such as Yap Ah Loy and Frank Swettenham were instrumental in the early development of the city during the late 19th century. It served as the capital of Selangor from 1880 until 1978. Kuala Lumpur was the founding capital of the Federation of Malaya and its successor, Malaysia. The city remained the seat of the executive and judicial branches of the Malaysian federal government until these were relocated to Putrajaya in early 1999. However, some sections of the political bodies still remain in Kuala Lumpur. The city is one of the three Federal Territories of Malaysia, enclaved within the state of Selangor, on the central west coast of Peninsular Malaysia.\n",
      "Since the 1990s, the city has played host to many international sporting, political and cultural events, including the 1998 Commonwealth Games, 2001 Southeast Asian Games, 2017 Southeast Asian Games, Formula One, Moto GP and 1997 FIFA World Youth Championships. Kuala Lumpur has undergone rapid development in recent decades and is home to the tallest twin buildings in the world, the Petronas Towers, which have since become an iconic symbol of Malaysian development. Kuala Lumpur is well connected with neighbouring urban metro regions such as Petaling Jaya via the rapidly expanding Klang Valley Integrated Transit System. Residents of the city can also travel to other parts of Peninsular Malaysia as well as to Kuala Lumpur International Airport (KLIA) via rail through KL Sentral.\n",
      "Kuala Lumpur was ranked the 6th most-visited city in the world on the Mastercard Destination Cities Index in 2019. The city houses three of the world's ten largest shopping malls. Kuala Lumpur ranks 70th in the world and the second in Southeast Asia after Singapore for the Economist Intelligence Unit's Global Liveability Ranking and ninth in ASPAC and second in Southeast Asia after Singapore for KPMG's Leading Technology Innovation Hub 2021. Kuala Lumpur was named World Book Capital 2020 by UNESCO. In 2024, Kuala Lumpur was ranked second for the best outstanding city in Southeast Asia, after Singapore, and 135th in the world by the Oxford Economic Papers' Global Cities Index.\n",
      "\n",
      "Page: Kuala Lumpur International Airport\n",
      "Summary: Kuala Lumpur International Airport (KLIA; IATA: KUL, ICAO: WMKK) is the main international airport serving Kuala Lumpur, the capital of Malaysia. It is located in the Sepang District of Selangor, approximately 45 km (28 mi) south of downtown Kuala Lumpur and serves the city's greater conurbation.\n",
      "Kuala Lumpur International Airport is the largest and busiest airport in Malaysia and is recognised as a mega hub. In 2023, it handled 47.2 million passengers, 980,040 tonnes of cargo and 819,026 aircraft movements, ranking as the  35th-busiest airport by total passenger traffic.\n",
      "In 2024, KLIA is the ranked first by OAG (by ratio of connection flight frequency to destinations served) in the Global Low-Cost Megahubs index by with 11,188 possible low-cost connections across over 137 destinations.\n",
      "OAG also ranked KLIA is the world's second most connected airport  \n",
      "==================================\u001b[1m Ai Message \u001b[0m==================================\n",
      "\n",
      "Kuala Lumpur is the capital city and a federal territory of Malaysia. It is located on the central west coast of Peninsular Malaysia, enclaved within the state of Selangor.\n"
     ]
    }
   ],
   "source": [
    "for step in agent.stream({\"messages\":[HumanMessage(content=\"Where is the city Kualalumpur located?\")]},\n",
    "                         stream_mode='values'):\n",
    "    step[\"messages\"][-1].pretty_print()"
   ]
  },
  {
   "cell_type": "code",
   "execution_count": 8,
   "id": "4d55584e",
   "metadata": {},
   "outputs": [
    {
     "name": "stdout",
     "output_type": "stream",
     "text": [
      "================================\u001b[1m Human Message \u001b[0m=================================\n",
      "\n",
      "Where is the city Kualalumpur located?\n",
      "==================================\u001b[1m Ai Message \u001b[0m==================================\n",
      "Tool Calls:\n",
      "  wikipedia (call_DUL24GaJcmmHePk1KKOELOOB)\n",
      " Call ID: call_DUL24GaJcmmHePk1KKOELOOB\n",
      "  Args:\n",
      "    query: Kuala Lumpur\n",
      "=================================\u001b[1m Tool Message \u001b[0m=================================\n",
      "Name: wikipedia\n",
      "\n",
      "Page: Kuala Lumpur\n",
      "Summary: Kuala Lumpur, abbreviated as KL and officially the Federal Territory of Kuala Lumpur, is the capital city and a federal territory of Malaysia. It is the largest city in the country, covering an area of 243 km2 (94 sq mi) with a census population of 2,075,600 as of 2024. Greater Kuala Lumpur, also known as the Klang Valley, is an urban agglomeration of 8.8 million people as of 2024. It is among the fastest growing metropolitan regions in Southeast Asia, both in population and economic development.\n",
      "The city serves as the cultural, financial, tourism, political and economic centre of Malaysia. It is also home to the bicameral Parliament of Malaysia (consisting of the Dewan Rakyat and the Dewan Negara) and the Istana Negara, the official residence of the Yang di-Pertuan Agong (monarch of Malaysia). Kuala Lumpur was first developed around 1857 as a town serving the tin mines of the region, and important figures such as Yap Ah Loy and Frank Swettenham were instrumental in the early development of the city during the late 19th century. It served as the capital of Selangor from 1880 until 1978. Kuala Lumpur was the founding capital of the Federation of Malaya and its successor, Malaysia. The city remained the seat of the executive and judicial branches of the Malaysian federal government until these were relocated to Putrajaya in early 1999. However, some sections of the political bodies still remain in Kuala Lumpur. The city is one of the three Federal Territories of Malaysia, enclaved within the state of Selangor, on the central west coast of Peninsular Malaysia.\n",
      "Since the 1990s, the city has played host to many international sporting, political and cultural events, including the 1998 Commonwealth Games, 2001 Southeast Asian Games, 2017 Southeast Asian Games, Formula One, Moto GP and 1997 FIFA World Youth Championships. Kuala Lumpur has undergone rapid development in recent decades and is home to the tallest twin buildings in the world, the Petronas Towers, which have since become an iconic symbol of Malaysian development. Kuala Lumpur is well connected with neighbouring urban metro regions such as Petaling Jaya via the rapidly expanding Klang Valley Integrated Transit System. Residents of the city can also travel to other parts of Peninsular Malaysia as well as to Kuala Lumpur International Airport (KLIA) via rail through KL Sentral.\n",
      "Kuala Lumpur was ranked the 6th most-visited city in the world on the Mastercard Destination Cities Index in 2019. The city houses three of the world's ten largest shopping malls. Kuala Lumpur ranks 70th in the world and the second in Southeast Asia after Singapore for the Economist Intelligence Unit's Global Liveability Ranking and ninth in ASPAC and second in Southeast Asia after Singapore for KPMG's Leading Technology Innovation Hub 2021. Kuala Lumpur was named World Book Capital 2020 by UNESCO. In 2024, Kuala Lumpur was ranked second for the best outstanding city in Southeast Asia, after Singapore, and 135th in the world by the Oxford Economic Papers' Global Cities Index.\n",
      "\n",
      "Page: Kuala Lumpur International Airport\n",
      "Summary: Kuala Lumpur International Airport (KLIA; IATA: KUL, ICAO: WMKK) is the main international airport serving Kuala Lumpur, the capital of Malaysia. It is located in the Sepang District of Selangor, approximately 45 km (28 mi) south of downtown Kuala Lumpur and serves the city's greater conurbation.\n",
      "Kuala Lumpur International Airport is the largest and busiest airport in Malaysia and is recognised as a mega hub. In 2023, it handled 47.2 million passengers, 980,040 tonnes of cargo and 819,026 aircraft movements, ranking as the  35th-busiest airport by total passenger traffic.\n",
      "In 2024, KLIA is the ranked first by OAG (by ratio of connection flight frequency to destinations served) in the Global Low-Cost Megahubs index by with 11,188 possible low-cost connections across over 137 destinations.\n",
      "OAG also ranked KLIA is the world's second most connected airport  \n",
      "==================================\u001b[1m Ai Message \u001b[0m==================================\n",
      "\n",
      "Kuala Lumpur is the capital city and a federal territory of Malaysia. It is located on the central west coast of Peninsular Malaysia and is enclaved within the state of Selangor. It is the largest city in Malaysia and serves as the cultural, financial, tourism, political, and economic center of the country.\n"
     ]
    }
   ],
   "source": [
    "from langgraph.checkpoint.memory import MemorySaver\n",
    "memory = MemorySaver()\n",
    "agent = create_react_agent(model,tools,checkpointer=memory)\n",
    "\n",
    "config = {\"configurable\":{\"thread_id\":\"abc11\"}}\n",
    "\n",
    "for step in agent.stream({\"messages\":[HumanMessage(content=\"Where is the city Kualalumpur located?\")]},\n",
    "                         stream_mode='values',config=config):\n",
    "    step[\"messages\"][-1].pretty_print()"
   ]
  },
  {
   "cell_type": "code",
   "execution_count": 9,
   "id": "7a4fd386",
   "metadata": {},
   "outputs": [
    {
     "name": "stdout",
     "output_type": "stream",
     "text": [
      "================================\u001b[1m Human Message \u001b[0m=================================\n",
      "\n",
      "I live there.\n",
      "==================================\u001b[1m Ai Message \u001b[0m==================================\n",
      "\n",
      "That's great! Kuala Lumpur is a vibrant and dynamic city with a rich cultural heritage and many modern attractions. Is there anything specific you'd like to know or discuss about Kuala Lumpur?\n"
     ]
    }
   ],
   "source": [
    "for step in agent.stream({\"messages\":[HumanMessage(content=\"I live there.\")]},\n",
    "                         stream_mode='values',config=config):\n",
    "    step[\"messages\"][-1].pretty_print()"
   ]
  },
  {
   "cell_type": "code",
   "execution_count": null,
   "id": "0a635ab3",
   "metadata": {},
   "outputs": [],
   "source": []
  },
  {
   "cell_type": "code",
   "execution_count": null,
   "id": "2a829af2",
   "metadata": {},
   "outputs": [],
   "source": []
  },
  {
   "cell_type": "code",
   "execution_count": null,
   "id": "7e71901a",
   "metadata": {},
   "outputs": [],
   "source": []
  },
  {
   "cell_type": "markdown",
   "id": "ac846516",
   "metadata": {},
   "source": [
    "## Example 2.2: Agent with Tool Decision and Verification\n",
    "\n",
    "Example: an agent that decides which tool to use based on the user’s query, uses the tool, verifies the result, and retries if incorrect. This introduces conditional edges and tool usage.\n",
    "\n",
    "## Scenario\n",
    "- The user asks a math question (e.g., \"What is 5 * 3?\").\n",
    "- An agent LLM decides to use a calculator tool.\n",
    "- The tool computes the result.\n",
    "\n",
    "A verifier LLM checks if the result is correct. If incorrect, it loops back to the tool.\n",
    "\n",
    "## Step-by-Step Explanation\n",
    "- Define the State: Include query, tool decision, tool output, and final answer.\n",
    "- Create Nodes:\n",
    "    - Agent Node: Decides which tool to use.\n",
    "    - Tool Node: Executes the tool (a simple calculator).\n",
    "    - Verifier Node: Checks the tool’s output and decides to retry or output.\n",
    "- Define Tools: A mock calculator tool for demonstration.\n",
    "- Build the Graph: Use conditional edges to loop back if the verifier detects an error.\n",
    "- Execute: Run with a math query."
   ]
  },
  {
   "cell_type": "code",
   "execution_count": 10,
   "id": "d51efc91",
   "metadata": {},
   "outputs": [],
   "source": [
    "from typing import TypedDict, Literal\n",
    "from langgraph.graph import StateGraph, START, END\n",
    "from langchain_openai import AzureChatOpenAI\n",
    "from langchain.prompts import PromptTemplate\n",
    "from langchain_core.tools import tool\n",
    "import regex as re\n",
    "\n",
    "# Initialize LLMs\n",
    "llm = AzureChatOpenAI(model=\"gpt-4.1-mini\")"
   ]
  },
  {
   "cell_type": "code",
   "execution_count": 11,
   "id": "8107d255",
   "metadata": {},
   "outputs": [],
   "source": [
    "# Define the state\n",
    "class AgentState(TypedDict):\n",
    "    query: str\n",
    "    tool_decision: str\n",
    "    tool_output: str\n",
    "    final_answer: str\n",
    "    retry_count: int"
   ]
  },
  {
   "cell_type": "code",
   "execution_count": 12,
   "id": "5ecebfc5",
   "metadata": {},
   "outputs": [],
   "source": [
    "# Define a mock calculator tool\n",
    "@tool\n",
    "def calculator(expression: str) -> str:\n",
    "    \"\"\"Evaluates a mathematical expression. Nothing else\"\"\"\n",
    "    try:\n",
    "        # For demo, we'll hardcode a wrong answer 10% of the time\n",
    "        import random\n",
    "        result = eval(expression, {\"__builtins__\": {}}, {})  # Safe eval with restricted globals\n",
    "        if random.random() < 0.1:\n",
    "            return str(result + 1)  # Intentionally wrong\n",
    "        return str(result)\n",
    "    except Exception as e:\n",
    "        return f\"Error: {str(e)}\""
   ]
  },
  {
   "cell_type": "code",
   "execution_count": 13,
   "id": "04068fc3",
   "metadata": {},
   "outputs": [],
   "source": [
    "# Agent node: Decide which tool to use\n",
    "def agent_node(state: AgentState) -> AgentState:\n",
    "    print(f\"Agent Node: Received state: {state}\")\n",
    "    prompt = PromptTemplate(\n",
    "        input_variables=[\"query\"],\n",
    "        template=\"Decide which tool to use for this query: {query}. Return only the tool name.\"\n",
    "    )\n",
    "    tool_decision = llm.invoke(prompt.format(query=state[\"query\"])).content\n",
    "    print(f\"Agent Node: Decided tool: {tool_decision}\")\n",
    "    return {\"tool_decision\": tool_decision}"
   ]
  },
  {
   "cell_type": "code",
   "execution_count": 14,
   "id": "516cbd08",
   "metadata": {},
   "outputs": [],
   "source": [
    "# Tool node: Execute the tool\n",
    "def tool_node(state: AgentState) -> AgentState:\n",
    "    print(f\"Tool Node: Received state: {state}\")\n",
    "    if state[\"tool_decision\"].lower() == \"calculator\":\n",
    "        # Extract the mathematical expression from the query\n",
    "        query = state[\"query\"]\n",
    "        print(f\"Tool Node: Processing query: {query}\")\n",
    "        # Use regex to find a mathematical expression (e.g., \"5 * 3\" from \"What is 5 * 3?\")\n",
    "        match = re.search(r\"(\\d+\\s*[\\+\\-\\*/]\\s*\\d+)\", query)\n",
    "        if match:\n",
    "            expression = match.group(1)\n",
    "            print(f\"Tool Node: Extracted expression: {expression}\")\n",
    "            result = calculator.invoke(expression)\n",
    "            print(f\"Tool Node: Calculator result: {result}\")\n",
    "        else:\n",
    "            result = \"Error: Could not extract a valid mathematical expression.\"\n",
    "            print(f\"Tool Node: Extraction failed: {result}\")\n",
    "    else:\n",
    "        result = \"No suitable tool found.\"\n",
    "        print(f\"Tool Node: No tool matched: {result}\")\n",
    "    return {\"tool_output\": result}"
   ]
  },
  {
   "cell_type": "code",
   "execution_count": 15,
   "id": "c52b00e6",
   "metadata": {},
   "outputs": [],
   "source": [
    "\n",
    "# Verifier node: Check the tool output\n",
    "def verifier_node(state: AgentState) -> AgentState:\n",
    "    print(f\"Verifier Node: Received state: {state}\")\n",
    "    prompt = PromptTemplate(\n",
    "        input_variables=[\"query\", \"tool_output\"],\n",
    "        template=\"Verify if the answer to '{query}' is correct: {tool_output}. If correct, provide the final answer. If incorrect, indicate 'retry'.\"\n",
    "    )\n",
    "    verification = llm.invoke(prompt.format(query=state[\"query\"], tool_output=state[\"tool_output\"])).content\n",
    "    print(f\"Verifier Node: Verification result: {verification}\")\n",
    "    retry_count = state.get(\"retry_count\", 0)\n",
    "    if \"retry\" in verification.lower():\n",
    "        print(f\"Verifier Node: Retry triggered, retry_count: {retry_count + 1}\")\n",
    "        return {\"retry_count\": retry_count + 1}\n",
    "    print(f\"Verifier Node: Answer accepted as final: {state['tool_output']}\")\n",
    "    return {\"final_answer\": state[\"tool_output\"]}"
   ]
  },
  {
   "cell_type": "code",
   "execution_count": 16,
   "id": "119078d0",
   "metadata": {},
   "outputs": [],
   "source": [
    "# Conditional edge: Decide next step after verifier\n",
    "def route_verifier(state: AgentState) -> Literal[\"tool_node\", END]:\n",
    "    print(f\"Route Verifier: Received state: {state}\")\n",
    "    if \"final_answer\" not in state or not state[\"final_answer\"]:\n",
    "        if state.get(\"retry_count\", 0) < 3:  # Limit retries\n",
    "            print(f\"Route Verifier: Routing to tool_node, retry_count: {state.get('retry_count', 0)}\")\n",
    "            return \"tool_node\"\n",
    "    print(f\"Route Verifier: Routing to END\")\n",
    "    return END"
   ]
  },
  {
   "cell_type": "code",
   "execution_count": 17,
   "id": "277e8a39",
   "metadata": {},
   "outputs": [],
   "source": [
    "# Build the graph\n",
    "builder = StateGraph(AgentState)\n",
    "builder.add_node(\"agent_node\", agent_node)\n",
    "builder.add_node(\"tool_node\", tool_node)\n",
    "builder.add_node(\"verifier_node\", verifier_node)\n",
    "builder.add_edge(START, \"agent_node\")\n",
    "builder.add_edge(\"agent_node\", \"tool_node\")\n",
    "builder.add_edge(\"tool_node\", \"verifier_node\")\n",
    "builder.add_conditional_edges(\"verifier_node\", route_verifier)\n",
    "graph = builder.compile()"
   ]
  },
  {
   "cell_type": "code",
   "execution_count": 18,
   "id": "87a45241",
   "metadata": {},
   "outputs": [
    {
     "data": {
      "image/png": "[encoded data removed]",
      "text/plain": [
       "<langgraph.graph.state.CompiledStateGraph object at 0x743027f84440>"
      ]
     },
     "execution_count": 18,
     "metadata": {},
     "output_type": "execute_result"
    }
   ],
   "source": [
    "graph"
   ]
  },
  {
   "cell_type": "code",
   "execution_count": 19,
   "id": "bfcd39d9",
   "metadata": {},
   "outputs": [
    {
     "name": "stdout",
     "output_type": "stream",
     "text": [
      "Agent Node: Received state: {'query': 'What is 5 * 3?', 'retry_count': 0}\n",
      "Agent Node: Decided tool: Calculator\n",
      "Tool Node: Received state: {'query': 'What is 5 * 3?', 'tool_decision': 'Calculator', 'retry_count': 0}\n",
      "Tool Node: Processing query: What is 5 * 3?\n",
      "Tool Node: Extracted expression: 5 * 3\n",
      "Tool Node: Calculator result: 16\n",
      "Verifier Node: Received state: {'query': 'What is 5 * 3?', 'tool_decision': 'Calculator', 'tool_output': '16', 'retry_count': 0}\n",
      "Verifier Node: Verification result: retry\n",
      "Verifier Node: Retry triggered, retry_count: 1\n",
      "Route Verifier: Received state: {'query': 'What is 5 * 3?', 'tool_decision': 'Calculator', 'tool_output': '16', 'retry_count': 1}\n",
      "Route Verifier: Routing to tool_node, retry_count: 1\n",
      "Tool Node: Received state: {'query': 'What is 5 * 3?', 'tool_decision': 'Calculator', 'tool_output': '16', 'retry_count': 1}\n",
      "Tool Node: Processing query: What is 5 * 3?\n",
      "Tool Node: Extracted expression: 5 * 3\n",
      "Tool Node: Calculator result: 15\n",
      "Verifier Node: Received state: {'query': 'What is 5 * 3?', 'tool_decision': 'Calculator', 'tool_output': '15', 'retry_count': 1}\n",
      "Verifier Node: Verification result: 15\n",
      "Verifier Node: Answer accepted as final: 15\n",
      "Route Verifier: Received state: {'query': 'What is 5 * 3?', 'tool_decision': 'Calculator', 'tool_output': '15', 'final_answer': '15', 'retry_count': 1}\n",
      "Route Verifier: Routing to END\n",
      "User Query: What is 5 * 3?\n",
      "Final Answer: 15\n"
     ]
    }
   ],
   "source": [
    "# Run the graph\n",
    "input_state = {\"query\": \"What is 5 * 3?\", \"retry_count\": 0}\n",
    "result = graph.invoke(input_state)\n",
    "print(\"User Query:\", result[\"query\"])\n",
    "print(\"Final Answer:\", result[\"final_answer\"])"
   ]
  },
  {
   "cell_type": "markdown",
   "id": "4bb9aeae",
   "metadata": {},
   "source": [
    "## Explanation of Code\n",
    "\n",
    "- State (AgentState): Tracks query, tool_decision, tool_output, final_answer, and retry_count.\n",
    "- Nodes:\n",
    "    - agent_node: Uses an LLM to decide the tool (hardcoded to “calculator” for simplicity).\n",
    "    - tool_node: Calls the calculator tool to evaluate the expression.\n",
    "    - verifier_node: Checks if the tool’s output is correct. If incorrect, it triggers a retry.\n",
    "- Conditional Edge (route_verifier): After the verifier, if the answer is incorrect and retries are under 3, it loops back to tool_node. Otherwise, it ends.\n",
    "- Tool: The calculator tool evaluates math expressions but occasionally returns a wrong answer (for demo purposes) to test the retry logic.\n",
    "- Execution: The graph processes the query, selects the tool, verifies the result, and retries if needed."
   ]
  },
  {
   "cell_type": "markdown",
   "id": "178c1494",
   "metadata": {},
   "source": [
    "# Building More Complex Workflows\n",
    "- complex workflows with conditional edges and state management. \n",
    "- dynamic routing based on the query type.\n",
    "\n",
    "### Conditional Edges and State Management\n",
    "- Conditional Edges: Allow the graph to choose the next node dynamically based on the state. For example, route to different tools based on the query type (math vs. general knowledge).\n",
    "- State Management: The state can store more complex data, like a list of messages or tool call history, to inform future decisions.\n",
    "\n",
    "## Example 3: Agent with Conditional Tool Selection\n",
    "\n",
    "In this project, the agent decides between two tools (calculator for math queries, LLM for general knowledge) based on the query. The graph routes the query to the appropriate node and verifies the result.\n",
    "\n",
    "### Step-by-Step Explanation\n",
    "- Define the State: Include query, tool decision, tool output, and final answer.\n",
    "- Create Nodes:\n",
    "    - Agent: Decides whether to use the calculator or LLM.\n",
    "    - Calculator Tool: Handles math queries.\n",
    "    - LLM Node: Handles general knowledge queries.\n",
    "    - Verifier: Checks the output and decides to retry or accept.\n",
    "- Define Tools: Reuse the calculator tool and add an LLM as a “tool” for general queries.\n",
    "- Build the Graph: Use conditional edges to route based on tool decision and verification.\n",
    "- Execute: Test with both math and general knowledge queries."
   ]
  },
  {
   "cell_type": "code",
   "execution_count": null,
   "id": "9681ab0f",
   "metadata": {},
   "outputs": [],
   "source": [
    "from typing import TypedDict, Literal\n",
    "from langgraph.graph import StateGraph, START, END\n",
    "from langchain_openai import AzureChatOpenAI\n",
    "from langchain.prompts import PromptTemplate\n",
    "from langchain_core.tools import tool\n",
    "\n",
    "# Initialize LLMs\n",
    "llm = AzureChatOpenAI(model=\"anshugpt\")"
   ]
  },
  {
   "cell_type": "code",
   "execution_count": 17,
   "id": "6d2ee90e",
   "metadata": {},
   "outputs": [],
   "source": [
    "# Define the state\n",
    "class IntermediateState(TypedDict):\n",
    "    query: str\n",
    "    tool_decision: str\n",
    "    tool_output: str\n",
    "    final_answer: str\n",
    "    retry_count: int\n"
   ]
  },
  {
   "cell_type": "code",
   "execution_count": 18,
   "id": "aa87a2e0",
   "metadata": {},
   "outputs": [],
   "source": [
    "# Define the calculator tool\n",
    "@tool\n",
    "def calculator(expression: str) -> str:\n",
    "    \"\"\"Evaluates a mathematical expression.\"\"\"\n",
    "    try:\n",
    "        return str(eval(expression, {\"__builtins__\": {}}, {}))  # Safe eval\n",
    "    except Exception as e:\n",
    "        return f\"Error: {str(e)}\""
   ]
  },
  {
   "cell_type": "code",
   "execution_count": 19,
   "id": "3e485055",
   "metadata": {},
   "outputs": [],
   "source": [
    "# Agent node: Decide which tool to use\n",
    "def agent_node(state: IntermediateState) -> IntermediateState:\n",
    "    print(f\"Agent Node: Received state: {state}\")\n",
    "    prompt = PromptTemplate(\n",
    "        input_variables=[\"query\"],\n",
    "        template=\"Decide which tool to use for this query: {query}. Return 'calculator' for math queries or 'llm' for general knowledge.\"\n",
    "    )\n",
    "    tool_decision = llm.invoke(prompt.format(query=state[\"query\"])).content\n",
    "    print(f\"Agent Node: Decided tool: {tool_decision}\")\n",
    "    return {\"tool_decision\": tool_decision}\n",
    "\n",
    "# Calculator tool node\n",
    "def calculator_node(state: IntermediateState) -> IntermediateState:\n",
    "    print(f\"Calculator Node: Received state: {state}\")\n",
    "    query = state[\"query\"]\n",
    "    print(f\"Calculator Node: Processing query: {query}\")\n",
    "    # Extract mathematical expression (e.g., \"7 * 4\" from \"What is 7 * 4?\")\n",
    "    match = re.search(r\"(\\d+\\s*[\\+\\-\\*/]\\s*\\d+)\", query)\n",
    "    if match:\n",
    "        expression = match.group(1)\n",
    "        print(f\"Calculator Node: Extracted expression: {expression}\")\n",
    "        result = calculator.invoke(expression)\n",
    "        print(f\"Calculator Node: Calculator result: {result}\")\n",
    "    else:\n",
    "        result = \"Error: Could not extract a valid mathematical expression.\"\n",
    "        print(f\"Calculator Node: Extraction failed: {result}\")\n",
    "    return {\"tool_output\": result}\n",
    "\n",
    "# LLM tool node\n",
    "def llm_node(state: IntermediateState) -> IntermediateState:\n",
    "    print(f\"LLM Node: Received state: {state}\")\n",
    "    prompt = PromptTemplate(\n",
    "        input_variables=[\"query\"],\n",
    "        template=\"Answer the following question: {query}\"\n",
    "    )\n",
    "    try:\n",
    "        response = llm.invoke(prompt.format(query=state[\"query\"]))\n",
    "        print(f\"LLM Node: Raw LLM response: {response}\")\n",
    "        # Ensure response is an AIMessage and extract content\n",
    "        result = response.content if hasattr(response, \"content\") else str(response)\n",
    "        print(f\"LLM Node: Extracted result: {result}\")\n",
    "    except Exception as e:\n",
    "        result = f\"Error in LLM invocation: {str(e)}\"\n",
    "        print(f\"LLM Node: Error: {result}\")\n",
    "    return {\"tool_output\": result}\n",
    "\n",
    "# Verifier node\n",
    "def verifier_node(state: IntermediateState) -> IntermediateState:\n",
    "    print(f\"Verifier Node: Received state: {state}\")\n",
    "    prompt = PromptTemplate(\n",
    "        input_variables=[\"query\", \"tool_output\"],\n",
    "        template=\"Verify if the answer to '{query}' is correct: {tool_output}. If correct, provide the final answer. If incorrect, indicate 'retry'.\"\n",
    "    )\n",
    "    verification = llm.invoke(prompt.format(query=state[\"query\"], tool_output=state[\"tool_output\"])).content\n",
    "    print(f\"Verifier Node: Verification result: {verification}\")\n",
    "    retry_count = state.get(\"retry_count\", 0)\n",
    "    if \"retry\" in verification.lower():\n",
    "        print(f\"Verifier Node: Retry triggered, retry_count: {retry_count + 1}\")\n",
    "        return {\"retry_count\": retry_count + 1}\n",
    "    print(f\"Verifier Node: Answer accepted as final: {state['tool_output']}\")\n",
    "    return {\"final_answer\": state[\"tool_output\"]}"
   ]
  },
  {
   "cell_type": "code",
   "execution_count": 20,
   "id": "0dcf930a",
   "metadata": {},
   "outputs": [],
   "source": [
    "# Conditional edge: Route based on tool decision\n",
    "def route_tool(state: IntermediateState) -> Literal[\"calculator_node\", \"llm_node\"]:\n",
    "    print(f\"Route Tool: Received state: {state}\")\n",
    "    if state[\"tool_decision\"].lower() == \"calculator\":\n",
    "        print(f\"Route Tool: Routing to calculator_node\")\n",
    "        return \"calculator_node\"\n",
    "    print(f\"Route Tool: Routing to llm_node\")\n",
    "    return \"llm_node\"\n",
    "\n",
    "# Conditional edge: Route after verifier\n",
    "def route_verifier(state: IntermediateState) -> Literal[\"calculator_node\", \"llm_node\", END]:\n",
    "    print(f\"Route Verifier: Received state: {state}\")\n",
    "    if \"final_answer\" not in state or not state[\"final_answer\"]:\n",
    "        if state.get(\"retry_count\", 0) < 3:\n",
    "            print(f\"Route Verifier: Routing to {route_tool(state)}, retry_count: {state.get('retry_count', 0)}\")\n",
    "            return route_tool(state)  # Retry with the same tool\n",
    "    print(f\"Route Verifier: Routing to END\")\n",
    "    return END"
   ]
  },
  {
   "cell_type": "code",
   "execution_count": 21,
   "id": "6ab69a46",
   "metadata": {},
   "outputs": [],
   "source": [
    "# Build the graph\n",
    "builder = StateGraph(IntermediateState)\n",
    "builder.add_node(\"agent_node\", agent_node)\n",
    "builder.add_node(\"calculator_node\", calculator_node)\n",
    "builder.add_node(\"llm_node\", llm_node)\n",
    "builder.add_node(\"verifier_node\", verifier_node)\n",
    "builder.add_edge(START, \"agent_node\")\n",
    "builder.add_conditional_edges(\"agent_node\", route_tool)\n",
    "builder.add_edge(\"calculator_node\", \"verifier_node\")\n",
    "builder.add_edge(\"llm_node\", \"verifier_node\")\n",
    "builder.add_conditional_edges(\"verifier_node\", route_verifier)\n",
    "graph = builder.compile()"
   ]
  },
  {
   "cell_type": "code",
   "execution_count": 22,
   "id": "c7fd5769",
   "metadata": {},
   "outputs": [
    {
     "data": {
      "image/png": "[encoded data removed]",
      "text/plain": [
       "<langgraph.graph.state.CompiledStateGraph object at 0x000001E8F7327670>"
      ]
     },
     "execution_count": 22,
     "metadata": {},
     "output_type": "execute_result"
    }
   ],
   "source": [
    "graph"
   ]
  },
  {
   "cell_type": "code",
   "execution_count": 23,
   "id": "00307ac3",
   "metadata": {},
   "outputs": [
    {
     "name": "stdout",
     "output_type": "stream",
     "text": [
      "Agent Node: Received state: {'query': 'What is 7 * 4?', 'retry_count': 0}\n",
      "Agent Node: Decided tool: calculator\n",
      "Route Tool: Received state: {'tool_decision': 'calculator', 'query': 'What is 7 * 4?', 'retry_count': 0}\n",
      "Route Tool: Routing to calculator_node\n",
      "Calculator Node: Received state: {'query': 'What is 7 * 4?', 'tool_decision': 'calculator', 'retry_count': 0}\n",
      "Calculator Node: Processing query: What is 7 * 4?\n",
      "Calculator Node: Extracted expression: 7 * 4\n",
      "Calculator Node: Calculator result: 28\n",
      "Verifier Node: Received state: {'query': 'What is 7 * 4?', 'tool_decision': 'calculator', 'tool_output': '28', 'retry_count': 0}\n",
      "Verifier Node: Verification result: The answer to 'What is 7 * 4?' is indeed 28. Therefore, the final answer is correct: 28.\n",
      "Verifier Node: Answer accepted as final: 28\n",
      "Route Verifier: Received state: {'final_answer': '28', 'query': 'What is 7 * 4?', 'tool_decision': 'calculator', 'tool_output': '28', 'retry_count': 0}\n",
      "Route Verifier: Routing to END\n",
      "User Query: What is 7 * 4?\n",
      "Final Answer: 28\n",
      "\n",
      "Agent Node: Received state: {'query': 'Who won the Nobel Peace Prize in 2020?', 'retry_count': 0}\n",
      "Agent Node: Decided tool: llm\n",
      "Route Tool: Received state: {'tool_decision': 'llm', 'query': 'Who won the Nobel Peace Prize in 2020?', 'retry_count': 0}\n",
      "Route Tool: Routing to llm_node\n",
      "LLM Node: Received state: {'query': 'Who won the Nobel Peace Prize in 2020?', 'tool_decision': 'llm', 'retry_count': 0}\n",
      "LLM Node: Raw LLM response: content='The Nobel Peace Prize in 2020 was awarded to the World Food Programme (WFP) for its efforts to combat hunger, for its contribution to bettering conditions for peace in conflict-affected areas, and for acting as a driving force in efforts to prevent the use of hunger as a weapon of war and conflict.' response_metadata={'token_usage': {'completion_tokens': 64, 'prompt_tokens': 23, 'total_tokens': 87, 'completion_tokens_details': {'accepted_prediction_tokens': 0, 'audio_tokens': 0, 'reasoning_tokens': 0, 'rejected_prediction_tokens': 0}, 'prompt_tokens_details': {'audio_tokens': 0, 'cached_tokens': 0}}, 'model_name': 'gpt-4o-2024-08-06', 'system_fingerprint': 'fp_76544d79cb', 'finish_reason': 'stop', 'logprobs': None} id='run-65b226b8-233e-4024-9667-3690cc36c3c3-0' usage_metadata={'input_tokens': 23, 'output_tokens': 64, 'total_tokens': 87}\n",
      "LLM Node: Extracted result: The Nobel Peace Prize in 2020 was awarded to the World Food Programme (WFP) for its efforts to combat hunger, for its contribution to bettering conditions for peace in conflict-affected areas, and for acting as a driving force in efforts to prevent the use of hunger as a weapon of war and conflict.\n",
      "Verifier Node: Received state: {'query': 'Who won the Nobel Peace Prize in 2020?', 'tool_decision': 'llm', 'tool_output': 'The Nobel Peace Prize in 2020 was awarded to the World Food Programme (WFP) for its efforts to combat hunger, for its contribution to bettering conditions for peace in conflict-affected areas, and for acting as a driving force in efforts to prevent the use of hunger as a weapon of war and conflict.', 'retry_count': 0}\n",
      "Verifier Node: Verification result: The answer is correct. The Nobel Peace Prize in 2020 was awarded to the World Food Programme (WFP) for its efforts to combat hunger, its contribution to bettering conditions for peace in conflict-affected areas, and for acting as a driving force in efforts to prevent the use of hunger as a weapon of war and conflict. \n",
      "\n",
      "Final answer: The Nobel Peace Prize in 2020 was awarded to the World Food Programme (WFP).\n",
      "Verifier Node: Answer accepted as final: The Nobel Peace Prize in 2020 was awarded to the World Food Programme (WFP) for its efforts to combat hunger, for its contribution to bettering conditions for peace in conflict-affected areas, and for acting as a driving force in efforts to prevent the use of hunger as a weapon of war and conflict.\n",
      "Route Verifier: Received state: {'final_answer': 'The Nobel Peace Prize in 2020 was awarded to the World Food Programme (WFP) for its efforts to combat hunger, for its contribution to bettering conditions for peace in conflict-affected areas, and for acting as a driving force in efforts to prevent the use of hunger as a weapon of war and conflict.', 'query': 'Who won the Nobel Peace Prize in 2020?', 'tool_decision': 'llm', 'tool_output': 'The Nobel Peace Prize in 2020 was awarded to the World Food Programme (WFP) for its efforts to combat hunger, for its contribution to bettering conditions for peace in conflict-affected areas, and for acting as a driving force in efforts to prevent the use of hunger as a weapon of war and conflict.', 'retry_count': 0}\n",
      "Route Verifier: Routing to END\n",
      "User Query: Who won the Nobel Peace Prize in 2020?\n",
      "Final Answer: The Nobel Peace Prize in 2020 was awarded to the World Food Programme (WFP) for its efforts to combat hunger, for its contribution to bettering conditions for peace in conflict-affected areas, and for acting as a driving force in efforts to prevent the use of hunger as a weapon of war and conflict.\n",
      "\n"
     ]
    }
   ],
   "source": [
    "# Run the graph with different queries\n",
    "queries = [\"What is 7 * 4?\", \"Who won the Nobel Peace Prize in 2020?\"]\n",
    "for query in queries:\n",
    "    input_state = {\"query\": query, \"retry_count\": 0}\n",
    "    result = graph.invoke(input_state)\n",
    "    print(f\"User Query: {result['query']}\")\n",
    "    print(f\"Final Answer: {result['final_answer']}\\n\")"
   ]
  },
  {
   "cell_type": "markdown",
   "id": "fdcd9467",
   "metadata": {},
   "source": [
    "## Explanation of Code\n",
    "- State (IntermediateState): Similar to the beginner project but used to manage dynamic routing.\n",
    "- Nodes:\n",
    "    - agent_node: Decides whether to use the calculator or LLM based on the query type.\n",
    "    - calculator_node: Processes math queries.\n",
    "    - llm_node: Processes general knowledge queries.\n",
    "    - verifier_node: Verifies the output and decides to retry or accept.\n",
    "- Conditional Edges:\n",
    "    - route_tool: Routes to calculator_node or llm_node based on the agent’s decision.\n",
    "    - route_verifier: Loops back to the appropriate tool node if the verifier detects an error.\n",
    "- Execution: Tests both a math query and a general knowledge query to demonstrate dynamic routing."
   ]
  },
  {
   "cell_type": "markdown",
   "id": "899cb8d9",
   "metadata": {},
   "source": []
  },
  {
   "cell_type": "markdown",
   "id": "b8b14cee",
   "metadata": {},
   "source": []
  }
 ],
 "metadata": {
  "kernelspec": {
   "display_name": "myenv",
   "language": "python",
   "name": "python3"
  },
  "language_info": {
   "codemirror_mode": {
    "name": "ipython",
    "version": 3
   },
   "file_extension": ".py",
   "mimetype": "text/x-python",
   "name": "python",
   "nbconvert_exporter": "python",
   "pygments_lexer": "ipython3",
   "version": "3.12.3"
  }
 },
 "nbformat": 4,
 "nbformat_minor": 5
}

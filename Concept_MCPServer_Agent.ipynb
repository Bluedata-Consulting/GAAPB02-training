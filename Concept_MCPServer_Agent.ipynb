{
 "cells": [
  {
   "cell_type": "code",
   "execution_count": 1,
   "id": "f51032ff",
   "metadata": {},
   "outputs": [],
   "source": [
    "import os\n",
    "os.makedirs(\"mcpserver\",exist_ok=True)"
   ]
  },
  {
   "cell_type": "code",
   "execution_count": 8,
   "id": "3bae54bb",
   "metadata": {},
   "outputs": [
    {
     "name": "stdout",
     "output_type": "stream",
     "text": [
      "Overwriting mcpserver/mcpserver1.py\n"
     ]
    }
   ],
   "source": [
    "%%writefile mcpserver/mcpserver1.py\n",
    "\n",
    "from mcp.server.fastmcp import FastMCP\n",
    "import requests, json\n",
    "import wikipedia\n",
    "\n",
    "mcp = FastMCP(\"TredenceMCP\")\n",
    "\n",
    "@mcp.tool()\n",
    "async def get_current_weather(city:str)->dict:\n",
    "    \"\"\" this funciton can be used to get current weather information\"\"\"\n",
    "    api_key=\"6a8b0ac166a37e2b7a38e64416b3c3fe\"\n",
    "    url = f\"https://api.openweathermap.org/data/2.5/weather?q={city}&appid={api_key}\"\n",
    "    response = requests.get(url)\n",
    "    response = json.loads(response.content.decode())\n",
    "    output = {\"city\":city,\"weather\":response['weather'][0]['description'],\n",
    "              \"temperature\":response['main']['temp'], \"unit\":\"kelvin\"\n",
    "              }\n",
    "    return output\n",
    "\n",
    "@mcp.tool()\n",
    "async def get_wikipedia_summary(query:str)->str:\n",
    "    response = wikipedia.summary(query)\n",
    "    return response\n",
    "\n",
    "\n",
    "if __name__==\"__main__\":\n",
    "    mcp.run(transport='streamable-http')\n"
   ]
  },
  {
   "cell_type": "code",
   "execution_count": null,
   "id": "34c2e52d",
   "metadata": {},
   "outputs": [],
   "source": [
    "# run mCP server: python mcpserver/mcpserver1.py"
   ]
  },
  {
   "cell_type": "markdown",
   "id": "fbfb5cc3",
   "metadata": {},
   "source": [
    "## Implement an Agent which connects to the MCP server and fetches the tools"
   ]
  },
  {
   "cell_type": "code",
   "execution_count": 9,
   "id": "094afca2",
   "metadata": {},
   "outputs": [],
   "source": [
    "from langgraph.prebuilt import create_react_agent\n",
    "from langchain_mcp_adapters.client import MultiServerMCPClient"
   ]
  },
  {
   "cell_type": "code",
   "execution_count": 10,
   "id": "839e3d38",
   "metadata": {},
   "outputs": [
    {
     "data": {
      "text/plain": [
       "[StructuredTool(name='get_current_weather', description=' this funciton can be used to get current weather information', args_schema={'properties': {'city': {'title': 'City', 'type': 'string'}}, 'required': ['city'], 'title': 'get_current_weatherArguments', 'type': 'object'}, response_format='content_and_artifact', coroutine=<function convert_mcp_tool_to_langchain_tool.<locals>.call_tool at 0x7452b10176a0>),\n",
       " StructuredTool(name='get_wikipedia_summary', args_schema={'properties': {'query': {'title': 'Query', 'type': 'string'}}, 'required': ['query'], 'title': 'get_wikipedia_summaryArguments', 'type': 'object'}, response_format='content_and_artifact', coroutine=<function convert_mcp_tool_to_langchain_tool.<locals>.call_tool at 0x74529ff3ac00>)]"
      ]
     },
     "execution_count": 10,
     "metadata": {},
     "output_type": "execute_result"
    }
   ],
   "source": [
    "client = MultiServerMCPClient({\"TredenceMCP\":{\"url\":\"http://127.0.0.1:8000/mcp\",\n",
    "                                              \"transport\":\"streamable_http\"}})\n",
    "\n",
    "\n",
    "tools = await client.get_tools()\n",
    "tools"
   ]
  },
  {
   "cell_type": "code",
   "execution_count": 11,
   "id": "ea386680",
   "metadata": {},
   "outputs": [
    {
     "data": {
      "text/plain": [
       "{'messages': [HumanMessage(content='what is the weather in Delhi?', additional_kwargs={}, response_metadata={}, id='a965841c-686e-444a-a667-7f56077c9833'),\n",
       "  AIMessage(content='', additional_kwargs={'tool_calls': [{'id': 'call_jGx007GrI8INRWfkwvwpECmK', 'function': {'arguments': '{\"city\":\"Delhi\"}', 'name': 'get_current_weather'}, 'type': 'function'}], 'refusal': None}, response_metadata={'token_usage': {'completion_tokens': 16, 'prompt_tokens': 73, 'total_tokens': 89, 'completion_tokens_details': {'accepted_prediction_tokens': 0, 'audio_tokens': 0, 'reasoning_tokens': 0, 'rejected_prediction_tokens': 0}, 'prompt_tokens_details': {'audio_tokens': 0, 'cached_tokens': 0}}, 'model_name': 'gpt-4.1-mini-2025-04-14', 'system_fingerprint': 'fp_178c8d546f', 'id': 'chatcmpl-BeH7kp7VCeDrQvF0kXLFOn5TVVh1H', 'service_tier': None, 'prompt_filter_results': [{'prompt_index': 0, 'content_filter_results': {'hate': {'filtered': False, 'severity': 'safe'}, 'jailbreak': {'filtered': False, 'detected': False}, 'self_harm': {'filtered': False, 'severity': 'safe'}, 'sexual': {'filtered': False, 'severity': 'safe'}, 'violence': {'filtered': False, 'severity': 'safe'}}}], 'finish_reason': 'tool_calls', 'logprobs': None, 'content_filter_results': {}}, id='run--19f919af-095c-45fa-b3aa-08ab7430d1d0-0', tool_calls=[{'name': 'get_current_weather', 'args': {'city': 'Delhi'}, 'id': 'call_jGx007GrI8INRWfkwvwpECmK', 'type': 'tool_call'}], usage_metadata={'input_tokens': 73, 'output_tokens': 16, 'total_tokens': 89, 'input_token_details': {'audio': 0, 'cache_read': 0}, 'output_token_details': {'audio': 0, 'reasoning': 0}}),\n",
       "  ToolMessage(content='{\\n  \"city\": \"Delhi\",\\n  \"weather\": \"haze\",\\n  \"temperature\": 305.2,\\n  \"unit\": \"kelvin\"\\n}', name='get_current_weather', id='53af2a2f-682c-49ea-b7f7-fb298cf5239c', tool_call_id='call_jGx007GrI8INRWfkwvwpECmK'),\n",
       "  AIMessage(content='The current weather in Delhi is hazy with a temperature of approximately 32°C.', additional_kwargs={'refusal': None}, response_metadata={'token_usage': {'completion_tokens': 19, 'prompt_tokens': 131, 'total_tokens': 150, 'completion_tokens_details': {'accepted_prediction_tokens': 0, 'audio_tokens': 0, 'reasoning_tokens': 0, 'rejected_prediction_tokens': 0}, 'prompt_tokens_details': {'audio_tokens': 0, 'cached_tokens': 0}}, 'model_name': 'gpt-4.1-mini-2025-04-14', 'system_fingerprint': 'fp_178c8d546f', 'id': 'chatcmpl-BeH7mcw18XFJtsZIR3sTGj3lyPywT', 'service_tier': None, 'prompt_filter_results': [{'prompt_index': 0, 'content_filter_results': {'hate': {'filtered': False, 'severity': 'safe'}, 'jailbreak': {'filtered': False, 'detected': False}, 'self_harm': {'filtered': False, 'severity': 'safe'}, 'sexual': {'filtered': False, 'severity': 'safe'}, 'violence': {'filtered': False, 'severity': 'safe'}}}], 'finish_reason': 'stop', 'logprobs': None, 'content_filter_results': {'hate': {'filtered': False, 'severity': 'safe'}, 'self_harm': {'filtered': False, 'severity': 'safe'}, 'sexual': {'filtered': False, 'severity': 'safe'}, 'violence': {'filtered': False, 'severity': 'safe'}}}, id='run--40b629c8-8c5b-4887-96be-5290bdbcf59e-0', usage_metadata={'input_tokens': 131, 'output_tokens': 19, 'total_tokens': 150, 'input_token_details': {'audio': 0, 'cache_read': 0}, 'output_token_details': {'audio': 0, 'reasoning': 0}})]}"
      ]
     },
     "execution_count": 11,
     "metadata": {},
     "output_type": "execute_result"
    }
   ],
   "source": [
    "agent = create_react_agent(\"azure_openai:gpt-4.1-mini\",tools)\n",
    "await agent.ainvoke({\"messages\":[{\"role\":'user',\"content\":\"what is the weather in Delhi?\"}]})"
   ]
  },
  {
   "cell_type": "code",
   "execution_count": 12,
   "id": "92fed5b9",
   "metadata": {},
   "outputs": [
    {
     "data": {
      "text/plain": [
       "{'messages': [HumanMessage(content='Tell me more about city Jaiselmer?', additional_kwargs={}, response_metadata={}, id='a967a7ac-026b-4021-ae06-512eab9c404f'),\n",
       "  AIMessage(content='', additional_kwargs={'tool_calls': [{'id': 'call_5Z7TYbT19VySz0F0kCYWvfzb', 'function': {'arguments': '{\"query\":\"Jaisalmer\"}', 'name': 'get_wikipedia_summary'}, 'type': 'function'}], 'refusal': None}, response_metadata={'token_usage': {'completion_tokens': 20, 'prompt_tokens': 76, 'total_tokens': 96, 'completion_tokens_details': {'accepted_prediction_tokens': 0, 'audio_tokens': 0, 'reasoning_tokens': 0, 'rejected_prediction_tokens': 0}, 'prompt_tokens_details': {'audio_tokens': 0, 'cached_tokens': 0}}, 'model_name': 'gpt-4.1-mini-2025-04-14', 'system_fingerprint': 'fp_178c8d546f', 'id': 'chatcmpl-BeH8KVa84038T7PrcTnWapQi2Zc2W', 'service_tier': None, 'prompt_filter_results': [{'prompt_index': 0, 'content_filter_results': {'hate': {'filtered': False, 'severity': 'safe'}, 'jailbreak': {'filtered': False, 'detected': False}, 'self_harm': {'filtered': False, 'severity': 'safe'}, 'sexual': {'filtered': False, 'severity': 'safe'}, 'violence': {'filtered': False, 'severity': 'safe'}}}], 'finish_reason': 'tool_calls', 'logprobs': None, 'content_filter_results': {}}, id='run--ba264699-d9d8-4ee3-9dd5-86bfa8552c4d-0', tool_calls=[{'name': 'get_wikipedia_summary', 'args': {'query': 'Jaisalmer'}, 'id': 'call_5Z7TYbT19VySz0F0kCYWvfzb', 'type': 'tool_call'}], usage_metadata={'input_tokens': 76, 'output_tokens': 20, 'total_tokens': 96, 'input_token_details': {'audio': 0, 'cache_read': 0}, 'output_token_details': {'audio': 0, 'reasoning': 0}}),\n",
       "  ToolMessage(content=\"Jaisalmer , nicknamed The Golden city, is a city in the north-western Indian state of Rajasthan, located 575 kilometres (357 mi) west of the state capital Jaipur, in the heart of the Thar Desert. It serves as the administrative headquarters of Jaisalmer district. It is a former medieval trading center and the historic capital of the kingdom of Jaisalmer, founded in 1156 by Rawal Jaisal of the Bhati clan of Rajputs. Jaisalmer stands on a ridge of yellowish sandstone and is crowned by the World Heritage Site, Jaisalmer Fort, a sprawling hilltop citadel supported by 99 bastions. This fort contains a royal palace and several ornate Jain temples. Many of the houses and temples of both the fort and of the town below are built of finely sculptured yellow sandstone. The town has a population, including the residents of the fort, of about 78,000. Jaisalmer ranked 9th on Booking.com's Top 10 The Most Welcoming cities in the world. It is the only Indian city on the list.\\n\\n\", name='get_wikipedia_summary', id='aa9ae517-4b5d-40c3-95d6-3090ae4cd850', tool_call_id='call_5Z7TYbT19VySz0F0kCYWvfzb'),\n",
       "  AIMessage(content=\"Jaisalmer, also known as The Golden City, is located in the north-western Indian state of Rajasthan, about 575 kilometers west of Jaipur. It is situated in the heart of the Thar Desert and serves as the administrative headquarters of the Jaisalmer district. Founded in 1156 by Rawal Jaisal of the Bhati clan of Rajputs, it was a medieval trading center and the historic capital of the kingdom of Jaisalmer.\\n\\nThe city stands on a ridge of yellowish sandstone and is famous for the Jaisalmer Fort, a UNESCO World Heritage Site. This hilltop citadel is supported by 99 bastions and houses a royal palace along with several ornate Jain temples. Much of the city's buildings, including houses and temples, are constructed from finely sculptured yellow sandstone, giving it a unique golden hue.\\n\\nThe town, including the fort, has a population of about 78,000 people. Remarkably, Jaisalmer ranked 9th on Booking.com's list of The Most Welcoming Cities in the World and is the only Indian city featured on that list.\", additional_kwargs={'refusal': None}, response_metadata={'token_usage': {'completion_tokens': 229, 'prompt_tokens': 335, 'total_tokens': 564, 'completion_tokens_details': {'accepted_prediction_tokens': 0, 'audio_tokens': 0, 'reasoning_tokens': 0, 'rejected_prediction_tokens': 0}, 'prompt_tokens_details': {'audio_tokens': 0, 'cached_tokens': 0}}, 'model_name': 'gpt-4.1-mini-2025-04-14', 'system_fingerprint': 'fp_178c8d546f', 'id': 'chatcmpl-BeH8NwaUiBjSAtIj2dMwR8k7VzBNS', 'service_tier': None, 'prompt_filter_results': [{'prompt_index': 0, 'content_filter_results': {'hate': {'filtered': False, 'severity': 'safe'}, 'jailbreak': {'filtered': False, 'detected': False}, 'self_harm': {'filtered': False, 'severity': 'safe'}, 'sexual': {'filtered': False, 'severity': 'safe'}, 'violence': {'filtered': False, 'severity': 'safe'}}}], 'finish_reason': 'stop', 'logprobs': None, 'content_filter_results': {'hate': {'filtered': False, 'severity': 'safe'}, 'protected_material_code': {'filtered': False, 'detected': False}, 'protected_material_text': {'filtered': False, 'detected': False}, 'self_harm': {'filtered': False, 'severity': 'safe'}, 'sexual': {'filtered': False, 'severity': 'safe'}, 'violence': {'filtered': False, 'severity': 'safe'}}}, id='run--819c933f-d966-45fb-8e72-e4df1f1078d9-0', usage_metadata={'input_tokens': 335, 'output_tokens': 229, 'total_tokens': 564, 'input_token_details': {'audio': 0, 'cache_read': 0}, 'output_token_details': {'audio': 0, 'reasoning': 0}})]}"
      ]
     },
     "execution_count": 12,
     "metadata": {},
     "output_type": "execute_result"
    }
   ],
   "source": [
    "await agent.ainvoke({\"messages\":[{\"role\":'user',\"content\":\"Tell me more about city Jaiselmer?\"}]})"
   ]
  },
  {
   "cell_type": "code",
   "execution_count": null,
   "id": "f34c43c5",
   "metadata": {},
   "outputs": [],
   "source": []
  }
 ],
 "metadata": {
  "kernelspec": {
   "display_name": "myenv",
   "language": "python",
   "name": "python3"
  },
  "language_info": {
   "codemirror_mode": {
    "name": "ipython",
    "version": 3
   },
   "file_extension": ".py",
   "mimetype": "text/x-python",
   "name": "python",
   "nbconvert_exporter": "python",
   "pygments_lexer": "ipython3",
   "version": "3.12.3"
  }
 },
 "nbformat": 4,
 "nbformat_minor": 5
}

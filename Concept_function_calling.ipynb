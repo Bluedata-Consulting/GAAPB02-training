{
 "cells": [
  {
   "cell_type": "markdown",
   "id": "4a1d2a50",
   "metadata": {},
   "source": [
    "# Function Calling / Tool Calling"
   ]
  },
  {
   "cell_type": "code",
   "execution_count": 1,
   "id": "0ff692df",
   "metadata": {},
   "outputs": [],
   "source": [
    "from openai import AzureOpenAI\n",
    "client = AzureOpenAI(api_version=\"2024-12-01-preview\")"
   ]
  },
  {
   "cell_type": "code",
   "execution_count": 3,
   "id": "26053dfb",
   "metadata": {},
   "outputs": [
    {
     "name": "stdout",
     "output_type": "stream",
     "text": [
      "{\n",
      "  \"id\": \"chatcmpl-BWe5btzp1EPSPXPmMPPY9x7bSHnIz\",\n",
      "  \"choices\": [\n",
      "    {\n",
      "      \"finish_reason\": \"stop\",\n",
      "      \"index\": 0,\n",
      "      \"logprobs\": null,\n",
      "      \"message\": {\n",
      "        \"content\": \"Quantum computing is a type of computation that takes advantage of the principles of quantum mechanics to process information in fundamentally different ways than classical computers. Here are some key concepts to understand:\\n\\n1. **Quantum Bits (Qubits)**: Unlike classical bits, which can be either 0 or 1, qubits can exist in a state of superposition, meaning they can represent both 0 and 1 simultaneously. This property allows quantum computers to process a vast amount of information at once.\\n\\n2. **Superposition**: This principle allows qubits to be in multiple states at the same time. When a quantum computer performs calculations, it can explore many possible solutions simultaneously, potentially leading to faster problem-solving for certain tasks.\\n\\n3. **Entanglement**: Qubits can become entangled, meaning the state of one qubit is directly related to the state of another, no matter the distance between them. This correlation can be exploited to perform complex calculations more efficiently than classical computers.\\n\\n4. **Quantum Gates**: Quantum computations are performed using quantum gates, which manipulate qubits through operations that change their states. These gates are the quantum equivalent of classical logic gates.\\n\\n5. **Quantum Algorithms**: Certain algorithms, like Shor's algorithm for factoring large numbers and Grover's algorithm for searching unsorted databases, demonstrate the potential speedup that quantum computing can provide over classical approaches.\\n\\n6. **Applications**: Quantum computing has potential applications in various fields, including cryptography, optimization problems, drug discovery, materials science, and artificial intelligence.\\n\\n7. **Challenges**: Building practical quantum computers is challenging due to issues like qubit coherence, error rates, and the need for extremely low temperatures to maintain quantum states. Researchers are actively working on overcoming these challenges.\\n\\nOverall, quantum computing represents a significant shift in how we think about computation, with the potential to solve problems that are currently intractable for classical computers.\",\n",
      "        \"refusal\": null,\n",
      "        \"role\": \"assistant\",\n",
      "        \"annotations\": []\n",
      "      },\n",
      "      \"content_filter_results\": {\n",
      "        \"hate\": {\n",
      "          \"filtered\": false,\n",
      "          \"severity\": \"safe\"\n",
      "        },\n",
      "        \"protected_material_code\": {\n",
      "          \"filtered\": false,\n",
      "          \"detected\": false\n",
      "        },\n",
      "        \"protected_material_text\": {\n",
      "          \"filtered\": false,\n",
      "          \"detected\": false\n",
      "        },\n",
      "        \"self_harm\": {\n",
      "          \"filtered\": false,\n",
      "          \"severity\": \"safe\"\n",
      "        },\n",
      "        \"sexual\": {\n",
      "          \"filtered\": false,\n",
      "          \"severity\": \"safe\"\n",
      "        },\n",
      "        \"violence\": {\n",
      "          \"filtered\": false,\n",
      "          \"severity\": \"safe\"\n",
      "        }\n",
      "      }\n",
      "    }\n",
      "  ],\n",
      "  \"created\": 1747120299,\n",
      "  \"model\": \"gpt-4o-mini-2024-07-18\",\n",
      "  \"object\": \"chat.completion\",\n",
      "  \"system_fingerprint\": \"fp_ded0d14823\",\n",
      "  \"usage\": {\n",
      "    \"completion_tokens\": 388,\n",
      "    \"prompt_tokens\": 12,\n",
      "    \"total_tokens\": 400,\n",
      "    \"completion_tokens_details\": {\n",
      "      \"accepted_prediction_tokens\": 0,\n",
      "      \"audio_tokens\": 0,\n",
      "      \"reasoning_tokens\": 0,\n",
      "      \"rejected_prediction_tokens\": 0\n",
      "    },\n",
      "    \"prompt_tokens_details\": {\n",
      "      \"audio_tokens\": 0,\n",
      "      \"cached_tokens\": 0\n",
      "    }\n",
      "  },\n",
      "  \"prompt_filter_results\": [\n",
      "    {\n",
      "      \"prompt_index\": 0,\n",
      "      \"content_filter_results\": {\n",
      "        \"hate\": {\n",
      "          \"filtered\": false,\n",
      "          \"severity\": \"safe\"\n",
      "        },\n",
      "        \"jailbreak\": {\n",
      "          \"filtered\": false,\n",
      "          \"detected\": false\n",
      "        },\n",
      "        \"self_harm\": {\n",
      "          \"filtered\": false,\n",
      "          \"severity\": \"safe\"\n",
      "        },\n",
      "        \"sexual\": {\n",
      "          \"filtered\": false,\n",
      "          \"severity\": \"safe\"\n",
      "        },\n",
      "        \"violence\": {\n",
      "          \"filtered\": false,\n",
      "          \"severity\": \"safe\"\n",
      "        }\n",
      "      }\n",
      "    }\n",
      "  ]\n",
      "}\n"
     ]
    }
   ],
   "source": [
    "message = [{'role':'user','content':'what is Quantum Computing.'}]\n",
    "\n",
    "response = client.chat.completions.create(model='telcogpt',\n",
    "                                          messages =message,temperature=0.1)\n",
    "\n",
    "print(response.to_json(indent=2))"
   ]
  },
  {
   "cell_type": "code",
   "execution_count": 12,
   "id": "fba5c9b0",
   "metadata": {},
   "outputs": [],
   "source": [
    "import requests, json, time\n",
    "\n",
    "def get_current_weather(city:str)->dict:\n",
    "    \"\"\" this funciton can be used to get current weather information\"\"\"\n",
    "    api_key=\"6a8b0ac166a37e2b7a38e64416b3c3fe\"\n",
    "    url = f\"https://api.openweathermap.org/data/2.5/weather?q={city}&appid={api_key}\"\n",
    "    response = requests.get(url)\n",
    "    response = json.loads(response.content.decode())\n",
    "    output = {\"city\":city,\"weather\":response['weather'][0]['description'],\n",
    "              \"temperature\":response['main']['temp'], \"unit\":\"kelvin\"\n",
    "              }\n",
    "    return output"
   ]
  },
  {
   "cell_type": "code",
   "execution_count": 13,
   "id": "3d78bd8a",
   "metadata": {},
   "outputs": [
    {
     "data": {
      "text/plain": [
       "{'city': 'delhi',\n",
       " 'weather': 'clear sky',\n",
       " 'temperature': 312.12,\n",
       " 'unit': 'kelvin'}"
      ]
     },
     "execution_count": 13,
     "metadata": {},
     "output_type": "execute_result"
    }
   ],
   "source": [
    "get_current_weather(\"delhi\")"
   ]
  },
  {
   "cell_type": "code",
   "execution_count": 15,
   "id": "a04db477",
   "metadata": {},
   "outputs": [],
   "source": [
    "# 3 components : name of function, description, parameters (desc of params)\n",
    "tools = [{\n",
    "    \"type\":\"function\",\n",
    "    \"function\":{\n",
    "        \"name\":\"get_current_weather_info\",\n",
    "        \"description\":\"This function can be used to get current weather information for any given city.\",\n",
    "        \"parameters\":{\n",
    "            \"type\":\"object\",\n",
    "            \"properties\":{\"city\":{\"type\":\"string\",\"description\":\"name of location/city e.g. delhi, mumbai\"}}\n",
    "        },\n",
    "        \"required\":['city',]\n",
    "\n",
    "    }\n",
    "},\n",
    "]"
   ]
  },
  {
   "cell_type": "code",
   "execution_count": 25,
   "id": "59f95bde",
   "metadata": {},
   "outputs": [],
   "source": [
    "tool_map = {\"get_current_weather_info\":get_current_weather}\n",
    "\n",
    "def generate_response(prompt):\n",
    "\n",
    "    messages=[{\"role\":\"system\",\"content\":\"you are a helpful assistant you provide short & concise answers\"},\n",
    "              {\"role\":\"user\",'content':prompt}]\n",
    "    \n",
    "    first_response = client.chat.completions.create(model=\"telcogpt\",\n",
    "                                                    messages=messages,temperature=0.2,\n",
    "                                                    tools=tools,tool_choice='auto')\n",
    "    if first_response.choices[0].message.tool_calls:\n",
    "        # do something\n",
    "        tool_calls = first_response.choices[0].message.tool_calls\n",
    "        print(tool_calls)\n",
    "        messages.append(first_response.choices[0].message)\n",
    "\n",
    "        for tool in tool_calls:\n",
    "            tool_name = tool.function.name\n",
    "            tool_args = json.loads(tool.function.arguments)\n",
    "            func = tool_map[tool_name]\n",
    "            tool_res = func(**tool_args)\n",
    "            messages.append({\"tool_call_id\":tool.id,\"role\":\"tool\",\"name\":tool_name,\n",
    "                             \"content\":json.dumps(tool_res)})\n",
    "        \n",
    "        second_response = client.chat.completions.create(messages=messages,model='telcogpt',\n",
    "                                                         temperature=0.1)\n",
    "        return second_response.choices[0].message.content\n",
    "\n",
    "    else:\n",
    "        return first_response.choices[0].message.content"
   ]
  },
  {
   "cell_type": "code",
   "execution_count": 23,
   "id": "6c0c99c1",
   "metadata": {},
   "outputs": [
    {
     "name": "stdout",
     "output_type": "stream",
     "text": [
      "Quantum computing is a type of computing that uses quantum bits, or qubits, which can represent and store information in ways that classical bits cannot. Unlike classical bits that are either 0 or 1, qubits can exist in multiple states simultaneously due to the principles of superposition and entanglement. This allows quantum computers to perform complex calculations much faster than classical computers for certain problems, such as factoring large numbers and simulating quantum systems.\n"
     ]
    }
   ],
   "source": [
    "resp = generate_response(\"what is quantum computing\")\n",
    "print(resp)"
   ]
  },
  {
   "cell_type": "code",
   "execution_count": 26,
   "id": "f64501d7",
   "metadata": {},
   "outputs": [
    {
     "name": "stdout",
     "output_type": "stream",
     "text": [
      "[ChatCompletionMessageToolCall(id='call_PI6aGjCqyeC2M3gqG28IEski', function=Function(arguments='{\"city\":\"bangalore\"}', name='get_current_weather_info'), type='function')]\n",
      "The current weather in Bangalore is clear sky with a temperature of 305 K.\n"
     ]
    }
   ],
   "source": [
    "resp = generate_response(\"what is the current weather in bangalore\")\n",
    "print(resp)"
   ]
  },
  {
   "cell_type": "code",
   "execution_count": null,
   "id": "920e39f2",
   "metadata": {},
   "outputs": [
    {
     "name": "stdout",
     "output_type": "stream",
     "text": [
      "[ChatCompletionMessageToolCall(id='call_DbSllSk5Q2Im4gLv11IjhxoW', function=Function(arguments='{\"city\": \"bangalore\"}', name='get_current_weather_info'), type='function'), ChatCompletionMessageToolCall(id='call_lVeC45mH7lf2APFib2XszDBp', function=Function(arguments='{\"city\": \"london\"}', name='get_current_weather_info'), type='function')]\n"
     ]
    }
   ],
   "source": [
    "resp = generate_response(\"what is the current weather in bangalore and london\")\n",
    "print(resp)"
   ]
  },
  {
   "cell_type": "code",
   "execution_count": null,
   "id": "5a2650e4",
   "metadata": {},
   "outputs": [],
   "source": []
  }
 ],
 "metadata": {
  "kernelspec": {
   "display_name": "gen-ai",
   "language": "python",
   "name": "python3"
  },
  "language_info": {
   "codemirror_mode": {
    "name": "ipython",
    "version": 3
   },
   "file_extension": ".py",
   "mimetype": "text/x-python",
   "name": "python",
   "nbconvert_exporter": "python",
   "pygments_lexer": "ipython3",
   "version": "3.12.3"
  }
 },
 "nbformat": 4,
 "nbformat_minor": 5
}

{
 "cells": [
  {
   "cell_type": "markdown",
   "id": "4a1d2a50",
   "metadata": {},
   "source": [
    "# Function Calling / Tool Calling"
   ]
  },
  {
   "cell_type": "code",
   "execution_count": 1,
   "id": "0ff692df",
   "metadata": {},
   "outputs": [],
   "source": [
    "from openai import AzureOpenAI\n",
    "client = AzureOpenAI(api_version=\"2024-12-01-preview\")"
   ]
  },
  {
   "cell_type": "code",
   "execution_count": 3,
   "id": "26053dfb",
   "metadata": {},
   "outputs": [
    {
     "name": "stdout",
     "output_type": "stream",
     "text": [
      "{\n",
      "  \"id\": \"chatcmpl-BWe5btzp1EPSPXPmMPPY9x7bSHnIz\",\n",
      "  \"choices\": [\n",
      "    {\n",
      "      \"finish_reason\": \"stop\",\n",
      "      \"index\": 0,\n",
      "      \"logprobs\": null,\n",
      "      \"message\": {\n",
      "        \"content\": \"Quantum computing is a type of computation that takes advantage of the principles of quantum mechanics to process information in fundamentally different ways than classical computers. Here are some key concepts to understand:\\n\\n1. **Quantum Bits (Qubits)**: Unlike classical bits, which can be either 0 or 1, qubits can exist in a state of superposition, meaning they can represent both 0 and 1 simultaneously. This property allows quantum computers to process a vast amount of information at once.\\n\\n2. **Superposition**: This principle allows qubits to be in multiple states at the same time. When a quantum computer performs calculations, it can explore many possible solutions simultaneously, potentially leading to faster problem-solving for certain tasks.\\n\\n3. **Entanglement**: Qubits can become entangled, meaning the state of one qubit is directly related to the state of another, no matter the distance between them. This correlation can be exploited to perform complex calculations more efficiently than classical computers.\\n\\n4. **Quantum Gates**: Quantum computations are performed using quantum gates, which manipulate qubits through operations that change their states. These gates are the quantum equivalent of classical logic gates.\\n\\n5. **Quantum Algorithms**: Certain algorithms, like Shor's algorithm for factoring large numbers and Grover's algorithm for searching unsorted databases, demonstrate the potential speedup that quantum computing can provide over classical approaches.\\n\\n6. **Applications**: Quantum computing has potential applications in various fields, including cryptography, optimization problems, drug discovery, materials science, and artificial intelligence.\\n\\n7. **Challenges**: Building practical quantum computers is challenging due to issues like qubit coherence, error rates, and the need for extremely low temperatures to maintain quantum states. Researchers are actively working on overcoming these challenges.\\n\\nOverall, quantum computing represents a significant shift in how we think about computation, with the potential to solve problems that are currently intractable for classical computers.\",\n",
      "        \"refusal\": null,\n",
      "        \"role\": \"assistant\",\n",
      "        \"annotations\": []\n",
      "      },\n",
      "      \"content_filter_results\": {\n",
      "        \"hate\": {\n",
      "          \"filtered\": false,\n",
      "          \"severity\": \"safe\"\n",
      "        },\n",
      "        \"protected_material_code\": {\n",
      "          \"filtered\": false,\n",
      "          \"detected\": false\n",
      "        },\n",
      "        \"protected_material_text\": {\n",
      "          \"filtered\": false,\n",
      "          \"detected\": false\n",
      "        },\n",
      "        \"self_harm\": {\n",
      "          \"filtered\": false,\n",
      "          \"severity\": \"safe\"\n",
      "        },\n",
      "        \"sexual\": {\n",
      "          \"filtered\": false,\n",
      "          \"severity\": \"safe\"\n",
      "        },\n",
      "        \"violence\": {\n",
      "          \"filtered\": false,\n",
      "          \"severity\": \"safe\"\n",
      "        }\n",
      "      }\n",
      "    }\n",
      "  ],\n",
      "  \"created\": 1747120299,\n",
      "  \"model\": \"gpt-4o-mini-2024-07-18\",\n",
      "  \"object\": \"chat.completion\",\n",
      "  \"system_fingerprint\": \"fp_ded0d14823\",\n",
      "  \"usage\": {\n",
      "    \"completion_tokens\": 388,\n",
      "    \"prompt_tokens\": 12,\n",
      "    \"total_tokens\": 400,\n",
      "    \"completion_tokens_details\": {\n",
      "      \"accepted_prediction_tokens\": 0,\n",
      "      \"audio_tokens\": 0,\n",
      "      \"reasoning_tokens\": 0,\n",
      "      \"rejected_prediction_tokens\": 0\n",
      "    },\n",
      "    \"prompt_tokens_details\": {\n",
      "      \"audio_tokens\": 0,\n",
      "      \"cached_tokens\": 0\n",
      "    }\n",
      "  },\n",
      "  \"prompt_filter_results\": [\n",
      "    {\n",
      "      \"prompt_index\": 0,\n",
      "      \"content_filter_results\": {\n",
      "        \"hate\": {\n",
      "          \"filtered\": false,\n",
      "          \"severity\": \"safe\"\n",
      "        },\n",
      "        \"jailbreak\": {\n",
      "          \"filtered\": false,\n",
      "          \"detected\": false\n",
      "        },\n",
      "        \"self_harm\": {\n",
      "          \"filtered\": false,\n",
      "          \"severity\": \"safe\"\n",
      "        },\n",
      "        \"sexual\": {\n",
      "          \"filtered\": false,\n",
      "          \"severity\": \"safe\"\n",
      "        },\n",
      "        \"violence\": {\n",
      "          \"filtered\": false,\n",
      "          \"severity\": \"safe\"\n",
      "        }\n",
      "      }\n",
      "    }\n",
      "  ]\n",
      "}\n"
     ]
    }
   ],
   "source": [
    "message = [{'role':'user','content':'what is Quantum Computing.'}]\n",
    "\n",
    "response = client.chat.completions.create(model='telcogpt',\n",
    "                                          messages =message,temperature=0.1)\n",
    "\n",
    "print(response.to_json(indent=2))"
   ]
  },
  {
   "cell_type": "code",
   "execution_count": 12,
   "id": "fba5c9b0",
   "metadata": {},
   "outputs": [],
   "source": [
    "import requests, json, time\n",
    "\n",
    "def get_current_weather(city:str)->dict:\n",
    "    \"\"\" this funciton can be used to get current weather information\"\"\"\n",
    "    api_key=\"6a8b0ac166a37e2b7a38e64416b3c3fe\"\n",
    "    url = f\"https://api.openweathermap.org/data/2.5/weather?q={city}&appid={api_key}\"\n",
    "    response = requests.get(url)\n",
    "    response = json.loads(response.content.decode())\n",
    "    output = {\"city\":city,\"weather\":response['weather'][0]['description'],\n",
    "              \"temperature\":response['main']['temp'], \"unit\":\"kelvin\"\n",
    "              }\n",
    "    return output"
   ]
  },
  {
   "cell_type": "code",
   "execution_count": 28,
   "id": "022fcbf0",
   "metadata": {},
   "outputs": [],
   "source": [
    "import wikipedia\n",
    "\n",
    "def get_wikipedia_summary(query:str)->str:\n",
    "    response = wikipedia.summary(query)\n",
    "    return response"
   ]
  },
  {
   "cell_type": "code",
   "execution_count": 29,
   "id": "8cef527a",
   "metadata": {},
   "outputs": [
    {
     "data": {
      "text/plain": [
       "'This is a list of locations which have served as capital cities in India. The current capital city is New Delhi, which replaced Calcutta in 1911.\\n\\n'"
      ]
     },
     "execution_count": 29,
     "metadata": {},
     "output_type": "execute_result"
    }
   ],
   "source": [
    "get_wikipedia_summary(\"capital of India\")"
   ]
  },
  {
   "cell_type": "code",
   "execution_count": null,
   "id": "3287a4a8",
   "metadata": {},
   "outputs": [],
   "source": []
  },
  {
   "cell_type": "code",
   "execution_count": 13,
   "id": "3d78bd8a",
   "metadata": {},
   "outputs": [
    {
     "data": {
      "text/plain": [
       "{'city': 'delhi',\n",
       " 'weather': 'clear sky',\n",
       " 'temperature': 312.12,\n",
       " 'unit': 'kelvin'}"
      ]
     },
     "execution_count": 13,
     "metadata": {},
     "output_type": "execute_result"
    }
   ],
   "source": [
    "get_current_weather(\"delhi\")"
   ]
  },
  {
   "cell_type": "code",
   "execution_count": null,
   "id": "a04db477",
   "metadata": {},
   "outputs": [],
   "source": [
    "# 3 components : name of function, description, parameters (desc of params)\n",
    "tools = [{\n",
    "    \"type\":\"function\",\n",
    "    \"function\":{\n",
    "        \"name\":\"get_current_weather_info\",\n",
    "        \"description\":\"This function can be used to get current weather information for any given city.\",\n",
    "        \"parameters\":{\n",
    "            \"type\":\"object\",\n",
    "            \"properties\":{\"city\":{\"type\":\"string\",\"description\":\"name of location/city e.g. delhi, mumbai\"}}\n",
    "        },\n",
    "        \"required\":['city',]\n",
    "\n",
    "    }\n",
    "},\n",
    "{\n",
    "    \"type\":\"function\",\n",
    "    \"function\":{\n",
    "        \"name\":\"get_wikipedia_summary\",\n",
    "        \"description\":\"This function can be used to get ONLY information about places, locations, people, historical things for any given query.\",\n",
    "        \"parameters\":{\n",
    "            \"type\":\"object\",\n",
    "            \"properties\":{\"query\":{\"type\":\"string\",\"description\":\" query to search on wikipedia e.g. year for second world war\"}}\n",
    "        },\n",
    "        \"required\":['query',]\n",
    "\n",
    "    }\n",
    "},\n",
    "]"
   ]
  },
  {
   "cell_type": "code",
   "execution_count": 34,
   "id": "59f95bde",
   "metadata": {},
   "outputs": [],
   "source": [
    "tool_map = {\"get_current_weather_info\":get_current_weather,\n",
    "            \"get_wikipedia_summary\":get_wikipedia_summary}\n",
    "\n",
    "def generate_response(prompt):\n",
    "\n",
    "    messages=[{\"role\":\"system\",\"content\":\"you are a helpful assistant you provide short & concise answers\"},\n",
    "              {\"role\":\"user\",'content':prompt}]\n",
    "    \n",
    "    while True:\n",
    "    \n",
    "        first_response = client.chat.completions.create(model=\"telcogpt2\",\n",
    "                                                        messages=messages,temperature=0.2,\n",
    "                                                        tools=tools,tool_choice='auto')\n",
    "        if first_response.choices[0].message.tool_calls:\n",
    "            # do something\n",
    "            tool_calls = first_response.choices[0].message.tool_calls\n",
    "            print(tool_calls)\n",
    "            messages.append(first_response.choices[0].message)\n",
    "\n",
    "            for tool in tool_calls:\n",
    "                tool_name = tool.function.name\n",
    "                tool_args = json.loads(tool.function.arguments)\n",
    "                func = tool_map[tool_name]\n",
    "                tool_res = func(**tool_args)\n",
    "                messages.append({\"tool_call_id\":tool.id,\"role\":\"tool\",\"name\":tool_name,\n",
    "                                \"content\":json.dumps(tool_res)})\n",
    "        else:\n",
    "            break\n",
    "    return first_response.choices[0].message.content"
   ]
  },
  {
   "cell_type": "code",
   "execution_count": 35,
   "id": "6c0c99c1",
   "metadata": {},
   "outputs": [
    {
     "name": "stdout",
     "output_type": "stream",
     "text": [
      "[ChatCompletionMessageToolCall(id='call_ESvGskCJ8742yvcgBmaLGFaH', function=Function(arguments='{\"query\":\"Quantum computing\"}', name='get_wikipedia_summary'), type='function')]\n",
      "Quantum computing is a type of computing that uses quantum mechanical phenomena. Unlike classical bits, quantum bits or qubits can exist in multiple states simultaneously, allowing quantum computers to perform certain calculations exponentially faster than classical computers. They have the potential to break encryption and aid in physical simulations, but are currently experimental and not practical for real-world use due to challenges like quantum decoherence. Quantum computers offer time complexity advantages, potentially solving problems that classical computers cannot solve efficiently.\n"
     ]
    }
   ],
   "source": [
    "resp = generate_response(\"what is quantum computing\")\n",
    "print(resp)"
   ]
  },
  {
   "cell_type": "code",
   "execution_count": 36,
   "id": "f64501d7",
   "metadata": {},
   "outputs": [
    {
     "name": "stdout",
     "output_type": "stream",
     "text": [
      "[ChatCompletionMessageToolCall(id='call_sHkAwH0DubfxqhUabA7JNW6V', function=Function(arguments='{\"city\":\"bangalore\"}', name='get_current_weather_info'), type='function')]\n",
      "The current weather in Bangalore is clear sky with a temperature of approximately 31.87°C.\n"
     ]
    }
   ],
   "source": [
    "resp = generate_response(\"what is the current weather in bangalore\")\n",
    "print(resp)"
   ]
  },
  {
   "cell_type": "code",
   "execution_count": 37,
   "id": "920e39f2",
   "metadata": {},
   "outputs": [
    {
     "name": "stdout",
     "output_type": "stream",
     "text": [
      "[ChatCompletionMessageToolCall(id='call_OofULLem2avk3amWsfrg6159', function=Function(arguments='{\"city\": \"Bangalore\"}', name='get_current_weather_info'), type='function'), ChatCompletionMessageToolCall(id='call_NOlRTvEeNaRzQ5DES6zINqXo', function=Function(arguments='{\"city\": \"London\"}', name='get_current_weather_info'), type='function')]\n",
      "The current weather in Bangalore is clear sky with a temperature of about 31.87°C. In London, it is scattered clouds with a temperature of about 17.14°C.\n"
     ]
    }
   ],
   "source": [
    "resp = generate_response(\"what is the current weather in bangalore and london\")\n",
    "print(resp)"
   ]
  },
  {
   "cell_type": "code",
   "execution_count": 38,
   "id": "5a2650e4",
   "metadata": {},
   "outputs": [
    {
     "name": "stdout",
     "output_type": "stream",
     "text": [
      "[ChatCompletionMessageToolCall(id='call_PsVBfR8Tenk0LBTknFLKoXSV', function=Function(arguments='{\"city\": \"Bangalore\"}', name='get_current_weather_info'), type='function'), ChatCompletionMessageToolCall(id='call_dRcDmsUdzK9DQjL0DfGBHkgv', function=Function(arguments='{\"query\": \"Bangalore\"}', name='get_wikipedia_summary'), type='function')]\n",
      "The current weather in Bangalore is clear sky with a temperature of approximately 31.87°C (305.02 K). Bangalore is in the state of Karnataka, India.\n"
     ]
    }
   ],
   "source": [
    "resp = generate_response(\"what is the current weather in bangalore and tell me which state Bangalore is in\")\n",
    "print(resp)"
   ]
  },
  {
   "cell_type": "code",
   "execution_count": 41,
   "id": "65737fdd",
   "metadata": {},
   "outputs": [
    {
     "name": "stdout",
     "output_type": "stream",
     "text": [
      "[ChatCompletionMessageToolCall(id='call_g5RDjS3MwxBRhOaqwIdggpMn', function=Function(arguments='{\"query\":\"capital city of Chhattisgarh\"}', name='get_wikipedia_summary'), type='function')]\n",
      "[ChatCompletionMessageToolCall(id='call_IqEDYAvgylscpiuWZPhNM8YM', function=Function(arguments='{\"city\":\"Nava Raipur\"}', name='get_current_weather_info'), type='function')]\n"
     ]
    },
    {
     "ename": "KeyError",
     "evalue": "'weather'",
     "output_type": "error",
     "traceback": [
      "\u001b[0;31m---------------------------------------------------------------------------\u001b[0m",
      "\u001b[0;31mKeyError\u001b[0m                                  Traceback (most recent call last)",
      "Cell \u001b[0;32mIn[41], line 1\u001b[0m\n\u001b[0;32m----> 1\u001b[0m resp \u001b[38;5;241m=\u001b[39m \u001b[43mgenerate_response\u001b[49m\u001b[43m(\u001b[49m\u001b[38;5;124;43m\"\u001b[39;49m\u001b[38;5;124;43mwhat is the current weather in the capital city of Chhatisgrah.\u001b[39;49m\u001b[38;5;124;43m\"\u001b[39;49m\u001b[43m)\u001b[49m\n\u001b[1;32m      2\u001b[0m \u001b[38;5;28mprint\u001b[39m(resp)\n",
      "Cell \u001b[0;32mIn[34], line 24\u001b[0m, in \u001b[0;36mgenerate_response\u001b[0;34m(prompt)\u001b[0m\n\u001b[1;32m     22\u001b[0m         tool_args \u001b[38;5;241m=\u001b[39m json\u001b[38;5;241m.\u001b[39mloads(tool\u001b[38;5;241m.\u001b[39mfunction\u001b[38;5;241m.\u001b[39marguments)\n\u001b[1;32m     23\u001b[0m         func \u001b[38;5;241m=\u001b[39m tool_map[tool_name]\n\u001b[0;32m---> 24\u001b[0m         tool_res \u001b[38;5;241m=\u001b[39m \u001b[43mfunc\u001b[49m\u001b[43m(\u001b[49m\u001b[38;5;241;43m*\u001b[39;49m\u001b[38;5;241;43m*\u001b[39;49m\u001b[43mtool_args\u001b[49m\u001b[43m)\u001b[49m\n\u001b[1;32m     25\u001b[0m         messages\u001b[38;5;241m.\u001b[39mappend({\u001b[38;5;124m\"\u001b[39m\u001b[38;5;124mtool_call_id\u001b[39m\u001b[38;5;124m\"\u001b[39m:tool\u001b[38;5;241m.\u001b[39mid,\u001b[38;5;124m\"\u001b[39m\u001b[38;5;124mrole\u001b[39m\u001b[38;5;124m\"\u001b[39m:\u001b[38;5;124m\"\u001b[39m\u001b[38;5;124mtool\u001b[39m\u001b[38;5;124m\"\u001b[39m,\u001b[38;5;124m\"\u001b[39m\u001b[38;5;124mname\u001b[39m\u001b[38;5;124m\"\u001b[39m:tool_name,\n\u001b[1;32m     26\u001b[0m                         \u001b[38;5;124m\"\u001b[39m\u001b[38;5;124mcontent\u001b[39m\u001b[38;5;124m\"\u001b[39m:json\u001b[38;5;241m.\u001b[39mdumps(tool_res)})\n\u001b[1;32m     27\u001b[0m \u001b[38;5;28;01melse\u001b[39;00m:\n",
      "Cell \u001b[0;32mIn[12], line 9\u001b[0m, in \u001b[0;36mget_current_weather\u001b[0;34m(city)\u001b[0m\n\u001b[1;32m      7\u001b[0m response \u001b[38;5;241m=\u001b[39m requests\u001b[38;5;241m.\u001b[39mget(url)\n\u001b[1;32m      8\u001b[0m response \u001b[38;5;241m=\u001b[39m json\u001b[38;5;241m.\u001b[39mloads(response\u001b[38;5;241m.\u001b[39mcontent\u001b[38;5;241m.\u001b[39mdecode())\n\u001b[0;32m----> 9\u001b[0m output \u001b[38;5;241m=\u001b[39m {\u001b[38;5;124m\"\u001b[39m\u001b[38;5;124mcity\u001b[39m\u001b[38;5;124m\"\u001b[39m:city,\u001b[38;5;124m\"\u001b[39m\u001b[38;5;124mweather\u001b[39m\u001b[38;5;124m\"\u001b[39m:\u001b[43mresponse\u001b[49m\u001b[43m[\u001b[49m\u001b[38;5;124;43m'\u001b[39;49m\u001b[38;5;124;43mweather\u001b[39;49m\u001b[38;5;124;43m'\u001b[39;49m\u001b[43m]\u001b[49m[\u001b[38;5;241m0\u001b[39m][\u001b[38;5;124m'\u001b[39m\u001b[38;5;124mdescription\u001b[39m\u001b[38;5;124m'\u001b[39m],\n\u001b[1;32m     10\u001b[0m           \u001b[38;5;124m\"\u001b[39m\u001b[38;5;124mtemperature\u001b[39m\u001b[38;5;124m\"\u001b[39m:response[\u001b[38;5;124m'\u001b[39m\u001b[38;5;124mmain\u001b[39m\u001b[38;5;124m'\u001b[39m][\u001b[38;5;124m'\u001b[39m\u001b[38;5;124mtemp\u001b[39m\u001b[38;5;124m'\u001b[39m], \u001b[38;5;124m\"\u001b[39m\u001b[38;5;124munit\u001b[39m\u001b[38;5;124m\"\u001b[39m:\u001b[38;5;124m\"\u001b[39m\u001b[38;5;124mkelvin\u001b[39m\u001b[38;5;124m\"\u001b[39m\n\u001b[1;32m     11\u001b[0m           }\n\u001b[1;32m     12\u001b[0m \u001b[38;5;28;01mreturn\u001b[39;00m output\n",
      "\u001b[0;31mKeyError\u001b[0m: 'weather'"
     ]
    }
   ],
   "source": [
    "resp = generate_response(\"what is the current weather in the capital city of Chhatisgrah.\")\n",
    "print(resp)"
   ]
  },
  {
   "cell_type": "code",
   "execution_count": null,
   "id": "74f06488",
   "metadata": {},
   "outputs": [],
   "source": []
  }
 ],
 "metadata": {
  "kernelspec": {
   "display_name": "gen-ai",
   "language": "python",
   "name": "python3"
  },
  "language_info": {
   "codemirror_mode": {
    "name": "ipython",
    "version": 3
   },
   "file_extension": ".py",
   "mimetype": "text/x-python",
   "name": "python",
   "nbconvert_exporter": "python",
   "pygments_lexer": "ipython3",
   "version": "3.12.3"
  }
 },
 "nbformat": 4,
 "nbformat_minor": 5
}

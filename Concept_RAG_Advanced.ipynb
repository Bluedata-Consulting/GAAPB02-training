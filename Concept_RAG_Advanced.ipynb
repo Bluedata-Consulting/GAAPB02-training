{
  "cells": [
    {
      "cell_type": "markdown",
      "id": "1961db5f",
      "metadata": {
        "id": "1961db5f"
      },
      "source": [
        "# CRAG: Corrective RAG\n",
        "\n",
        "\n",
        "## OverView\n",
        "\n",
        "\n",
        "**The Corrective RAG (CRAG)** strategy focuses on improving RAG-based systems.\n",
        "**CRAG** is an approach that refines the search-generation pipeline by incorporating self-reflection and self-evaluation phases for the retrieved documents.\n",
        "\n",
        "![crag](https://github.com/LangChain-OpenTutorial/LangChain-OpenTutorial/blob/main/17-LangGraph/03-Use-Cases/assets/03-Langgraph-CRAG.png?raw=1)\n",
        "\n",
        "\n",
        "\n",
        "**What is CRAG ?**\n",
        "\n",
        "**Corrective-RAG (CRAG)** is a methodology in the RAG (Retrieval-Augmented Generation) strategy that **adds a step to evaluate the retrieved documents and refine the knowledge.** This approach involves reviewing the search results before generation, conducting supplementary searches if necessary, and ultimately includes a series of processes to produce high-quality responses.\n",
        "\n",
        "The core ideas of CRAG are as follows:\n",
        "\n",
        "[Link to the paper (Corrective Retrieval-Augmented Generation)](https://arxiv.org/pdf/2401.15884.pdf)\n",
        "\n",
        "1. If one or more of the retrieved documents exceed the predefined relevance threshold (retrieval validation score), the process proceeds to the generation stage.\n",
        "2. A knowledge refinement step is performed before generation.\n",
        "3. Documents are divided into \"knowledge strips\" (where ```k``` refers to the number of document retrieval results).\n",
        "4. Each knowledge strip is evaluated, and its relevance is scored (evaluations are conducted at the document chunk level).\n",
        "5. If all documents fall below the relevance threshold or the evaluation results have low confidence, additional data sources (e.g., web searches) are used for supplementation.\n",
        "6. When supplementing through web searches, query results are optimized using ```Query-Rewrite```.\n",
        "---\n",
        "\n",
        "**Key Points**\n",
        "\n",
        "\n",
        "This tutorial demonstrates implementing some of the ideas from the ```CRAG``` approach using LangGraph.\n",
        "\n",
        "Here, **the knowledge refinement step is omitted** but is designed to be added as a node if necessary.\n",
        "\n",
        "Additionally, **if no relevant documents are found**, ```web searches``` will be used to supplement the retrieval.\n",
        "\n",
        "For **web searches**,  [Tavily Search](https://python.langchain.com/docs/integrations/tools/tavily_search/) will be utilized, and Question Rewrite will be introduced to optimize the search process.\n",
        "\n",
        "---\n",
        "\n",
        "**Overview of Key Steps**\n",
        "\n",
        "- **Retrieval Grader**: Evaluate the relevance of the retrieved documents.\n",
        "- **Generate**: Generate answers using LLM.\n",
        "- **Question Re-writer**: Optimize search queries by rewriting the question.\n",
        "- **Web Search Tool**: Utilize Tavily Search for web searches.\n",
        "- **Create Graph**: Create a CRAG strategy graph using LangGraph.\n",
        "- **Use the graph**: Learn how to utilize the generated graph.\n",
        "\n",
        "\n",
        "\n",
        "\n",
        "\n",
        "### References\n",
        "https://langchain-opentutorial.gitbook.io/langchain-opentutorial/17-langgraph/03-use-cases/03-langgraph-crag\n",
        "- [LangGraph: Corrective RAG (CRAG) using local LLMs](https://langchain-ai.github.io/langgraph/tutorials/rag/langgraph_crag_local/)\n",
        "- [LangSmith: RAG Prompt](https://smith.langchain.com/hub/rlm/rag-prompt)\n",
        "- [Langchain: stream_mode](https://python.langchain.com/docs/how_to/qa_streaming/)"
      ]
    },
    {
      "cell_type": "code",
      "execution_count": 1,
      "id": "ef6261d6",
      "metadata": {
        "id": "ef6261d6"
      },
      "outputs": [],
      "source": [
        "!pip install pydantic langchain langchain-community pdfplumber langchain-core langchain-openai langgraph faiss-cpu --quiet"
      ]
    },
    {
      "cell_type": "code",
      "execution_count": 2,
      "id": "a170112a",
      "metadata": {
        "id": "a170112a",
        "outputId": "21d3d6de-257f-45d8-9201-ee103c16bae9"
      },
      "outputs": [],
      "source": [
        "# Set environment variables\n",
        "import os\n",
        "\n",
        "os.environ[\"TAVILY_API_KEY\"]=\"\""
      ]
    },
    {
      "cell_type": "code",
      "execution_count": 3,
      "id": "d3375ae6",
      "metadata": {
        "id": "d3375ae6",
        "outputId": "288040ae-78a6-4c96-da5c-7cd9879b0396"
      },
      "outputs": [
        {
          "data": {
            "text/plain": [
              "True"
            ]
          },
          "execution_count": 3,
          "metadata": {},
          "output_type": "execute_result"
        }
      ],
      "source": [
        "# Load API keys from .env file\n",
        "from dotenv import load_dotenv\n",
        "\n",
        "load_dotenv(override=True)"
      ]
    },
    {
      "cell_type": "markdown",
      "id": "d7f42d27",
      "metadata": {},
      "source": [
        "# RAG Retriver"
      ]
    },
    {
      "cell_type": "code",
      "execution_count": 4,
      "id": "78942b9f",
      "metadata": {},
      "outputs": [],
      "source": [
        "embedding_model_name = \"text-embedding-ada-002\"\n",
        "model_name = \"gpt-4.1-mini\"\n",
        "\n",
        "doc_paths = [\"https://www.morningstar.com/content/dam/marketing/shared/research/methodology/771945_Morningstar_Rating_for_Funds_Methodology.pdf\",\n",
        "             \"https://www.morningstar.in/docs/methodology/CategoryDefinitionsIndiaV3.pdf\",\n",
        "             \"https://s21.q4cdn.com/198919461/files/doc_downloads/press_kits/2016/Morningstar-Sustainable-Investing-Handbook.pdf\"]"
      ]
    },
    {
      "cell_type": "code",
      "execution_count": 5,
      "id": "f178b8c8",
      "metadata": {},
      "outputs": [],
      "source": [
        "from langchain_openai import AzureOpenAIEmbeddings\n",
        "embeddings = AzureOpenAIEmbeddings(model=embedding_model_name,api_version=\"2024-12-01-preview\")\n",
        "from langchain_openai import AzureChatOpenAI\n",
        "llm = AzureChatOpenAI(model=model_name)\n"
      ]
    },
    {
      "cell_type": "code",
      "execution_count": 6,
      "id": "fd810d45",
      "metadata": {},
      "outputs": [],
      "source": [
        "from langchain_community.document_loaders import PyPDFLoader\n",
        "from langchain.text_splitter import RecursiveCharacterTextSplitter\n",
        "\n",
        "loaders = [PyPDFLoader(pdf, extract_images=False) for pdf in doc_paths]\n",
        "docs = []\n",
        "for loader in loaders: docs.extend(loader.load())\n",
        "docs = [doc for doc in docs if len(doc.page_content.strip())>100]\n",
        "text_splitter = RecursiveCharacterTextSplitter(chunk_size=3500, chunk_overlap=500,\n",
        "                                               add_start_index=True)\n",
        "splits = text_splitter.split_documents(docs)\n"
      ]
    },
    {
      "cell_type": "code",
      "execution_count": 13,
      "id": "5b4218fd",
      "metadata": {},
      "outputs": [],
      "source": [
        "from langchain_chroma import Chroma\n",
        "vectorstore = Chroma.from_documents(documents=splits, embedding=embeddings)\n",
        "\n",
        "# using vector db object to initialize a retriever object - to perform vector search/retrieval\n",
        "retriever = vectorstore.as_retriever(search_type=\"similarity\", search_kwargs={\"k\": 2})"
      ]
    },
    {
      "cell_type": "code",
      "execution_count": 14,
      "id": "e420a92f",
      "metadata": {},
      "outputs": [],
      "source": [
        "from typing import TypedDict, Literal, List\n",
        "from langchain_core.documents import Document\n",
        "from langchain_core.prompts import PromptTemplate\n",
        "from langgraph.graph import StateGraph,START,END\n",
        "message = \"\"\"\n",
        "Answer this question using the provided context only. If the context does not have the content to answer the question, say context is irrelevant.\n",
        "Do not make up the answer, do not provide answer from outside the doc.\n",
        "{question}\n",
        "\n",
        "Context:\n",
        "{context}\n",
        "\"\"\"\n",
        "\n",
        "generate_prompt = PromptTemplate.from_template(message)"
      ]
    },
    {
      "cell_type": "code",
      "execution_count": 15,
      "id": "a996cb40",
      "metadata": {},
      "outputs": [],
      "source": [
        "class ragState(TypedDict):\n",
        "    question:str\n",
        "    context:List[Document]\n",
        "    answer:str\n",
        "    "
      ]
    },
    {
      "cell_type": "code",
      "execution_count": 18,
      "id": "d0c23d6b",
      "metadata": {},
      "outputs": [
        {
          "data": {
            "image/png": "[encoded data removed]",
            "text/plain": [
              "<langgraph.graph.state.CompiledStateGraph object at 0x74252aec3470>"
            ]
          },
          "execution_count": 18,
          "metadata": {},
          "output_type": "execute_result"
        }
      ],
      "source": [
        "# retriver node\n",
        "def retriever_node(state:ragState):\n",
        "    ret_docs = retriever.invoke(state[\"question\"])\n",
        "    return {\"context\":ret_docs}\n",
        "\n",
        "def generate_node(state:ragState):\n",
        "    doc_content=\"\\n\\n\".join(doc.page_content for doc in state['context'])\n",
        "    message = generate_prompt.invoke({\"question\":state[\"question\"],\"context\":doc_content})\n",
        "    response = llm.invoke(message)\n",
        "    return {\"answer\":response}\n",
        "\n",
        "\n",
        "builder = StateGraph(ragState).add_sequence([retriever_node,generate_node])\n",
        "builder.add_edge(START,\"retriever_node\")\n",
        "raggraph = builder.compile()\n",
        "raggraph"
      ]
    },
    {
      "cell_type": "code",
      "execution_count": 19,
      "id": "bd0e5bb5",
      "metadata": {},
      "outputs": [],
      "source": [
        "response = raggraph.invoke({\"question\":\"what is large cap equity fund?\"})"
      ]
    },
    {
      "cell_type": "code",
      "execution_count": 20,
      "id": "576a1a27",
      "metadata": {},
      "outputs": [
        {
          "data": {
            "text/plain": [
              "{'question': 'what is large cap equity fund?',\n",
              " 'context': [Document(id='c7cf5e49-9662-422b-89d6-6da458d7b56b', metadata={'author': 'KBelapu', 'title': 'Microsoft Word - India Category_Definitions April 2021', 'page_label': '1', 'creationdate': '2021-02-26T12:11:18+05:30', 'producer': 'GPL Ghostscript 9.06', 'source': 'https://www.morningstar.in/docs/methodology/CategoryDefinitionsIndiaV3.pdf', 'creator': 'PScript5.dll Version 5.2.2', 'page': 0, 'total_pages': 12, 'start_index': 0, 'moddate': '2021-02-26T12:11:18+05:30'}, page_content='? \\n \\n \\n \\n \\n \\n \\n \\n \\n \\n \\n \\nCategor y Definitions  \\nIndia \\nEquity  \\n \\nLarge-Cap \\nLarge-Cap funds primarily consist of stocks which are the Top 100 stocks by full market capitalization  of \\nthe equity market. These funds invest at least 80% of total assets in Indian equities and the balance can \\nbe invested in other asset classes such as fixed income and overseas equities, among others. Funds in \\nthis category would invest at least 80% of their total assets in large-cap stocks. \\nMorningstar Category Index: S&P BSE 100 TR \\n \\nMid-Cap \\nMid-Cap funds primarily consist of stocks ranked 101st to 250th by full market capitalization of the \\nequity market. These funds invest at least 65% of total assets in Indian equities, and the balance can be \\ninvested in other asset classes such as fixed income and overseas equities, among others. Funds in this \\ncategory would invest at least 65% of their total assets in mid-cap stocks. \\nMorningstar Category Index: S&P BSE Mid Cap TR \\n \\nSmall-Cap \\nSmall-Cap funds primarily consist of stocks ranked 251st onwards by full market capitalization of the \\nequity market. These funds invest at least 65% of total assets in Indian equities, and the balance can be \\ninvested in other asset classes such as fixed income and overseas equities, among others. Funds in this \\ncategory would invest at least 65% of their total assets in small-cap stocks. \\nMorningstar Category Index: S&P BSE Small Cap TR \\n \\nFlexi Cap \\nFlexi Cap funds invest at least 65% of their total assets in Indian equities, and the balance can be \\ninvested in other asset classes such as fixed income and overseas equities, among others. These funds \\nwill invest into a mix of Large, Mid and small-cap stocks. \\nMorningstar Category Index: S&P BSE 500 TR \\n \\n \\n \\nMorningstar Research  \\nApril 2021'),\n",
              "  Document(id='95d601a1-c793-4cdd-9f5d-af5e3514034d', metadata={'title': 'Microsoft Word - India Category_Definitions April 2021', 'start_index': 0, 'source': 'https://www.morningstar.in/docs/methodology/CategoryDefinitionsIndiaV3.pdf', 'producer': 'GPL Ghostscript 9.06', 'creationdate': '2021-02-26T12:11:18+05:30', 'moddate': '2021-02-26T12:11:18+05:30', 'creator': 'PScript5.dll Version 5.2.2', 'total_pages': 12, 'page': 0, 'page_label': '1', 'author': 'KBelapu'}, page_content='? \\n \\n \\n \\n \\n \\n \\n \\n \\n \\n \\n \\nCategor y Definitions  \\nIndia \\nEquity  \\n \\nLarge-Cap \\nLarge-Cap funds primarily consist of stocks which are the Top 100 stocks by full market capitalization  of \\nthe equity market. These funds invest at least 80% of total assets in Indian equities and the balance can \\nbe invested in other asset classes such as fixed income and overseas equities, among others. Funds in \\nthis category would invest at least 80% of their total assets in large-cap stocks. \\nMorningstar Category Index: S&P BSE 100 TR \\n \\nMid-Cap \\nMid-Cap funds primarily consist of stocks ranked 101st to 250th by full market capitalization of the \\nequity market. These funds invest at least 65% of total assets in Indian equities, and the balance can be \\ninvested in other asset classes such as fixed income and overseas equities, among others. Funds in this \\ncategory would invest at least 65% of their total assets in mid-cap stocks. \\nMorningstar Category Index: S&P BSE Mid Cap TR \\n \\nSmall-Cap \\nSmall-Cap funds primarily consist of stocks ranked 251st onwards by full market capitalization of the \\nequity market. These funds invest at least 65% of total assets in Indian equities, and the balance can be \\ninvested in other asset classes such as fixed income and overseas equities, among others. Funds in this \\ncategory would invest at least 65% of their total assets in small-cap stocks. \\nMorningstar Category Index: S&P BSE Small Cap TR \\n \\nFlexi Cap \\nFlexi Cap funds invest at least 65% of their total assets in Indian equities, and the balance can be \\ninvested in other asset classes such as fixed income and overseas equities, among others. These funds \\nwill invest into a mix of Large, Mid and small-cap stocks. \\nMorningstar Category Index: S&P BSE 500 TR \\n \\n \\n \\nMorningstar Research  \\nApril 2021')],\n",
              " 'answer': AIMessage(content='A large-cap equity fund primarily consists of stocks which are the Top 100 stocks by full market capitalization of the equity market. These funds invest at least 80% of total assets in Indian equities, specifically large-cap stocks, and the balance can be invested in other asset classes such as fixed income and overseas equities. Funds in this category would invest at least 80% of their total assets in large-cap stocks.', additional_kwargs={'refusal': None}, response_metadata={'token_usage': {'completion_tokens': 84, 'prompt_tokens': 878, 'total_tokens': 962, 'completion_tokens_details': {'accepted_prediction_tokens': 0, 'audio_tokens': 0, 'reasoning_tokens': 0, 'rejected_prediction_tokens': 0}, 'prompt_tokens_details': {'audio_tokens': 0, 'cached_tokens': 0}}, 'model_name': 'gpt-4.1-mini-2025-04-14', 'system_fingerprint': 'fp_178c8d546f', 'id': 'chatcmpl-Bbjbilzl84khgE0OwKYZEcuNubcdr', 'service_tier': None, 'prompt_filter_results': [{'prompt_index': 0, 'content_filter_results': {'hate': {'filtered': False, 'severity': 'safe'}, 'jailbreak': {'filtered': False, 'detected': False}, 'self_harm': {'filtered': False, 'severity': 'safe'}, 'sexual': {'filtered': False, 'severity': 'safe'}, 'violence': {'filtered': False, 'severity': 'safe'}}}], 'finish_reason': 'stop', 'logprobs': None, 'content_filter_results': {'hate': {'filtered': False, 'severity': 'safe'}, 'protected_material_code': {'filtered': False, 'detected': False}, 'protected_material_text': {'filtered': False, 'detected': False}, 'self_harm': {'filtered': False, 'severity': 'safe'}, 'sexual': {'filtered': False, 'severity': 'safe'}, 'violence': {'filtered': False, 'severity': 'safe'}}}, id='run--5dd8d0c5-40ec-498e-9b57-e11c2240f5cc-0', usage_metadata={'input_tokens': 878, 'output_tokens': 84, 'total_tokens': 962, 'input_token_details': {'audio': 0, 'cache_read': 0}, 'output_token_details': {'audio': 0, 'reasoning': 0}})}"
            ]
          },
          "execution_count": 20,
          "metadata": {},
          "output_type": "execute_result"
        }
      ],
      "source": [
        "response"
      ]
    },
    {
      "cell_type": "markdown",
      "id": "ae47f9ae",
      "metadata": {
        "id": "ae47f9ae"
      },
      "source": [
        "## Relevance Evaluation of Retrieved Documents (Question-Retrieval Evaluation)\n",
        "\n",
        "The relevance evaluation of retrieved documents is the step where the retrieved documents are assessed for their relevance to the question.\n",
        "\n",
        "First, create an evaluator (```retrieval-grader```) to assess the retrieved documents."
      ]
    },
    {
      "cell_type": "code",
      "execution_count": 17,
      "id": "59f3e68a",
      "metadata": {
        "id": "59f3e68a"
      },
      "outputs": [],
      "source": [
        "from langchain_core.prompts import ChatPromptTemplate\n",
        "from langchain_openai import AzureChatOpenAI\n",
        "from pydantic import BaseModel, Field\n",
        "\n",
        "\n",
        "# Data Model for Binary Scoring of Document Relevance\n",
        "class GradeDocuments(BaseModel):\n",
        "    \"\"\"A binary score to determine the relevance of the retrieved document.\"\"\"\n",
        "\n",
        "    # A field indicating whether the document is relevant to the question, represented as 'yes' or 'no'\n",
        "    binary_score: str = Field(\n",
        "        description=\"Documents are relevant to the question, 'yes' or 'no'\"\n",
        "    )\n",
        "\n",
        "# LLM initialization\n",
        "llm = AzureChatOpenAI(model=\"gpt-4.1-mini\", temperature=0)\n",
        "\n",
        "# An LLM that generates structured outputs using the GradeDocuments data model.\n",
        "structured_llm_grader = llm.with_structured_output(GradeDocuments)\n",
        "\n",
        "# Define system prompt\n",
        "system = \"\"\"You are a grader assessing relevance of a retrieved document to a user question. \\n\n",
        "    If the document contains keyword(s) or semantic meaning related to the question, grade it as relevant. \\n\n",
        "    Give a binary score 'yes' or 'no' score to indicate whether the document is relevant to the question.\"\"\"\n",
        "\n",
        "# Create chat prompt template\n",
        "grade_prompt = ChatPromptTemplate.from_messages(\n",
        "    [\n",
        "        (\"system\", system),\n",
        "        (\"human\", \"Retrieved document: \\n\\n {document} \\n\\n User question: {question}\"),\n",
        "    ]\n",
        ")\n",
        "\n",
        "# Initialize retrieval evaluator\n",
        "retrieval_grader = grade_prompt | structured_llm_grader"
      ]
    },
    {
      "cell_type": "markdown",
      "id": "d03b7b76",
      "metadata": {
        "id": "d03b7b76"
      },
      "source": [
        "Using ```retrieval_grader```, documents are evaluated.\n",
        "\n",
        "Here, the evaluation is performed on a single document rather than a set of documents.\n",
        "\n",
        "The result returns the relevance of the single document as either **yes** or **no** ."
      ]
    },
    {
      "cell_type": "code",
      "execution_count": 24,
      "id": "44144d98",
      "metadata": {
        "id": "44144d98",
        "outputId": "7c3f77ad-fafc-45ee-9392-27b148930027"
      },
      "outputs": [
        {
          "name": "stdout",
          "output_type": "stream",
          "text": [
            "binary_score='no'\n"
          ]
        }
      ],
      "source": [
        "# Define question\n",
        "question = \"How do agents differ from standalone language models?\"\n",
        "\n",
        "# Document retrieval\n",
        "docs = retriever.invoke(question)\n",
        "\n",
        "# Extract Content of Page from Document at Index 1\n",
        "doc_txt = docs[0].page_content\n",
        "\n",
        "# Run Relevance Evaluation Using Retrieved Documents and Question\n",
        "print(retrieval_grader.invoke({\"question\": question, \"document\": doc_txt}))"
      ]
    },
    {
      "cell_type": "code",
      "execution_count": 23,
      "id": "66acc096",
      "metadata": {},
      "outputs": [
        {
          "name": "stdout",
          "output_type": "stream",
          "text": [
            "binary_score='yes'\n"
          ]
        }
      ],
      "source": [
        "# Define question\n",
        "question = \"What is Large cap equity fund?\"\n",
        "\n",
        "# Document retrieval\n",
        "docs = retriever.invoke(question)\n",
        "\n",
        "# Extract Content of Page from Document at Index 1\n",
        "doc_txt = docs[0].page_content\n",
        "\n",
        "# Run Relevance Evaluation Using Retrieved Documents and Question\n",
        "print(retrieval_grader.invoke({\"question\": question, \"document\": doc_txt}))"
      ]
    },
    {
      "cell_type": "markdown",
      "id": "c95ae75e",
      "metadata": {
        "id": "c95ae75e"
      },
      "source": [
        "## Answer Generation Chain\n",
        "\n",
        "The answer generation chain is a chain that generates answers based on the retrieved documents.\n",
        "\n",
        "It is a typical Naive RAG chain that we are familiar with.\n",
        "\n",
        "**Note**\n",
        "\n",
        "RAG Prompt from LangChain PromptHub: https://smith.langchain.com/hub/rlm/rag-prompt"
      ]
    },
    {
      "cell_type": "code",
      "execution_count": 33,
      "id": "f03e727f",
      "metadata": {
        "id": "f03e727f",
        "outputId": "65781a12-2a7d-44f4-91b7-6ab28185075d"
      },
      "outputs": [
        {
          "name": "stdout",
          "output_type": "stream",
          "text": [
            "content='A Large-Cap equity fund primarily consists of stocks which are the Top 100 stocks by full market capitalization of the equity market. These funds invest at least 80% of total assets in Indian equities, with the balance possibly invested in other asset classes such as fixed income and overseas equities. Funds in this category invest at least 80% of their total assets in large-cap stocks.' additional_kwargs={'refusal': None} response_metadata={'token_usage': {'completion_tokens': 78, 'prompt_tokens': 1082, 'total_tokens': 1160, 'completion_tokens_details': {'accepted_prediction_tokens': 0, 'audio_tokens': 0, 'reasoning_tokens': 0, 'rejected_prediction_tokens': 0}, 'prompt_tokens_details': {'audio_tokens': 0, 'cached_tokens': 0}}, 'model_name': 'gpt-4.1-mini-2025-04-14', 'system_fingerprint': 'fp_178c8d546f', 'id': 'chatcmpl-Bbh74XvJFnT2a1WIyzMOkXgcBAKQK', 'prompt_filter_results': [{'prompt_index': 0, 'content_filter_results': {'hate': {'filtered': False, 'severity': 'safe'}, 'jailbreak': {'filtered': False, 'detected': False}, 'self_harm': {'filtered': False, 'severity': 'safe'}, 'sexual': {'filtered': False, 'severity': 'safe'}, 'violence': {'filtered': False, 'severity': 'safe'}}}], 'finish_reason': 'stop', 'logprobs': None, 'content_filter_results': {'hate': {'filtered': False, 'severity': 'safe'}, 'protected_material_code': {'filtered': False, 'detected': False}, 'protected_material_text': {'filtered': False, 'detected': False}, 'self_harm': {'filtered': False, 'severity': 'safe'}, 'sexual': {'filtered': False, 'severity': 'safe'}, 'violence': {'filtered': False, 'severity': 'safe'}}} id='run--d7cd3b4f-74c1-4d7b-9ead-2069874c2e32-0' usage_metadata={'input_tokens': 1082, 'output_tokens': 78, 'total_tokens': 1160, 'input_token_details': {'audio': 0, 'cache_read': 0}, 'output_token_details': {'audio': 0, 'reasoning': 0}}\n"
          ]
        }
      ],
      "source": [
        "response = raggraph.invoke({\"question\":\"what is large cap quity fund?\"})\n",
        "print(response['answer'])"
      ]
    },
    {
      "cell_type": "markdown",
      "id": "963f59f7",
      "metadata": {
        "id": "963f59f7"
      },
      "source": [
        "## Question Re-write\n",
        "\n",
        "Query rewriting is a step where the question is rewritten to optimize web searches."
      ]
    },
    {
      "cell_type": "code",
      "execution_count": 26,
      "id": "81eabae7",
      "metadata": {
        "id": "81eabae7"
      },
      "outputs": [],
      "source": [
        "from langchain_core.prompts import ChatPromptTemplate\n",
        "from langchain_core.output_parsers import StrOutputParser\n",
        "\n",
        "\n",
        "# Query rewrite system prompt\n",
        "system = \"\"\"You a question re-writer that converts an input question to a better version that is optimized\n",
        "for web search. Look at the input and try to reason about the underlying semantic intent / meaning.\"\"\"\n",
        "\n",
        "# Define prompt\n",
        "re_write_prompt = ChatPromptTemplate.from_messages(\n",
        "    [\n",
        "        (\"system\", system),\n",
        "        (\n",
        "            \"human\",\n",
        "            \"Here is the initial question: \\n\\n {question} \\n Formulate an improved question.\",\n",
        "        ),\n",
        "    ]\n",
        ")\n",
        "\n",
        "# Define question rewriter chain\n",
        "question_rewriter = re_write_prompt | llm | StrOutputParser()"
      ]
    },
    {
      "cell_type": "markdown",
      "id": "b33f4246",
      "metadata": {
        "id": "b33f4246"
      },
      "source": [
        "Rewrite Question Using ```question_rewriter```."
      ]
    },
    {
      "cell_type": "code",
      "execution_count": 27,
      "id": "28eb2e53",
      "metadata": {
        "id": "28eb2e53",
        "outputId": "08f4a1a6-ce97-4dbd-c850-b7a8e2af9198"
      },
      "outputs": [
        {
          "name": "stdout",
          "output_type": "stream",
          "text": [
            "[Original question]: \"How do agents differ from standalone language models?\"\n",
            "[Query-rewrite]: What are the key differences between agents and standalone language models in terms of functionality and capabilities?\n"
          ]
        }
      ],
      "source": [
        "# Run chain and output results\n",
        "print(f'[Original question]: \"{question}\"')\n",
        "print(\"[Query-rewrite]:\", question_rewriter.invoke({\"question\": question}))"
      ]
    },
    {
      "cell_type": "markdown",
      "id": "7f4a72cc",
      "metadata": {
        "id": "7f4a72cc"
      },
      "source": [
        "## Web search tool\n",
        "\n",
        "**Web search tool** is used to supplement the context.\n",
        "\n",
        "- **Need for Web Search**: When all documents fail to meet the relevance threshold or the evaluator lacks confidence, additional data is retrieved through web searches.\n",
        "- **Using Tavily Search**: Perform web searches using Tavily Search, which optimizes search queries and provides more relevant results.\n",
        "- **Question Rewrite**: Improve search queries by rewriting the question to optimize web searches."
      ]
    },
    {
      "cell_type": "code",
      "execution_count": 28,
      "id": "620d859b",
      "metadata": {
        "id": "620d859b"
      },
      "outputs": [],
      "source": [
        "# Initialize Web Search Tool\n",
        "from langchain.tools.tavily_search import TavilySearchResults\n",
        "\n",
        "# Set maximum search results to 3\n",
        "web_search_tool = TavilySearchResults(max_results=3)"
      ]
    },
    {
      "cell_type": "code",
      "execution_count": 29,
      "id": "694d7bae",
      "metadata": {
        "id": "694d7bae",
        "outputId": "ec39105a-9e28-48f8-e187-c7fce0ebd3af"
      },
      "outputs": [
        {
          "name": "stdout",
          "output_type": "stream",
          "text": [
            "[{'title': 'LLMs vs Agents: Why Agents Are Superior for Real-World Deployment', 'url': 'https://medium.com/@kyeg/llms-vs-agents-why-agents-are-superior-for-real-world-deployment-8f21fb18f92b', 'content': 'Two often-confused entities are language models (LLMs) and agents. LLMs, or large language models, are powerful in generating human-like text but are fundamentally limited in their capabilities when viewed in practical, real-world applications.\\n\\nOn the other hand, agents represent a step beyond LLMs by integrating tools, memory systems, and autonomous structures that make them more functional and versatile for complex tasks. [...] Moreover, tools like web scrapers, database connectors, or even other LLMs can be plugged into an agent to make it more versatile. This allows agents to acquire the most recent information or perform tasks that require multi-step, real-time data acquisition. The ability to execute, interpret, and utilize data directly makes agents extremely powerful in comparison to standalone LLMs.\\n\\nMemory Systems [...] Where LLMs falter, agents shine. Agents represent an evolution beyond LLMs by integrating tool access, memory, autonomy, and loop structures. This makes them capable of interacting meaningfully with the external world, retaining state, and executing complex workflows that are needed for real-world deployments. Let’s explore these features in more depth:\\n\\nTool Integration', 'score': 0.8512743}, {'title': 'AI Agent vs LLM (Large Language Model) - Bito', 'url': 'https://bito.ai/blog/ai-agent-vs-llm/', 'content': 'An AI agent is an AI-driven system designed to autonomously perform tasks or make decisions in pursuit of specific goals. Unlike a stand-alone model that only generates output when prompted, an AI agent can act on its own – it perceives its environment, processes information, and executes actions continuously as needed. [...] It’s also worth noting that the line is blurring – modern AI systems often combine LLMs and agent behaviors. Researchers and companies are now embedding LLMs into agent frameworks so that the LLM can decide which tools to use or what actions to take, essentially turning a stand-alone model into part of an agent\\u200b. The key distinction remains: if the AI is just generating content (no matter how impressive), it’s acting as an LLM; if it’s deciding and doing things (especially with some autonomy), [...] the state of external systems. For example, a customer service agent might detect a dissatisfied tone (via text analysis) and then trigger a refund in the billing system, something an LLM alone cannot do. Agents are often multi-modal: they can handle text, images, or other inputs and produce not just text but real actions or changes in other applications.', 'score': 0.81665546}, {'title': \"Large language models revolutionized AI. LLM agents are what's next\", 'url': 'https://research.ibm.com/blog/what-are-ai-agents-llm', 'content': 'Today’s leaderboards are full of examples of LLM-based agents outperforming stand-alone LLMs on specialized tasks, from searching the web to coding, in part because engineered workflows often include intensive evaluation of results. [...] Let’s say you want to know how many vacation days you have left, the type of question that a stand-alone LLM has trouble answering because of its static knowledge base. Today’s LLMs can simply make an API call to your company’s HR database to get the relevant facts, call up a calculator to do the math, and insert the correct number in its generated response, using a fixed workflow called retrieval-augmented generation, or RAG. [...] The ability to call on tools does not in itself make an LLM an agent, said Murad. If the workflow you design gives the LLM freedom to decide which tool to apply, you now have an agent. “You’ve added variability to the system,” she said. “The solution path isn’t predetermined.”', 'score': 0.71948266}]\n"
          ]
        }
      ],
      "source": [
        "# Execute web search tool\n",
        "results = web_search_tool.invoke({\"query\": question})\n",
        "print(results)"
      ]
    },
    {
      "cell_type": "markdown",
      "id": "8f30cb22",
      "metadata": {
        "id": "8f30cb22"
      },
      "source": [
        "## State\n",
        "\n",
        "Define the state for the CRAG graph.\n",
        "\n",
        "```Web_search``` represents the state indicating whether to use web search.\n",
        "It is expressed as yes or no (yes: web search required, no: not required)."
      ]
    },
    {
      "cell_type": "code",
      "execution_count": 30,
      "id": "b07cb207",
      "metadata": {
        "id": "b07cb207"
      },
      "outputs": [],
      "source": [
        "from typing import Annotated, List\n",
        "from typing_extensions import TypedDict\n",
        "\n",
        "# Define State\n",
        "class GraphState(TypedDict):\n",
        "    question: Annotated[str, \"The question to answer\"]\n",
        "    generation: Annotated[str, \"The generation from the LLM\"]\n",
        "    web_search: Annotated[str, \"Whether to add search\"]\n",
        "    documents: Annotated[List[str], \"The documents retrieved\"]"
      ]
    },
    {
      "cell_type": "markdown",
      "id": "423bdd4b",
      "metadata": {
        "id": "423bdd4b"
      },
      "source": [
        "## Node\n",
        "\n",
        "Define the nodes to be used in the CRAG graph."
      ]
    },
    {
      "cell_type": "code",
      "execution_count": 34,
      "id": "4b89e9cb",
      "metadata": {
        "id": "4b89e9cb"
      },
      "outputs": [],
      "source": [
        "from langchain.schema import Document\n",
        "\n",
        "# Document Retrieval Node\n",
        "def retrieve(state: GraphState):\n",
        "    print(\"\\n==== RETRIEVE ====\\n\")\n",
        "    question = state[\"question\"]\n",
        "\n",
        "    # Perform document retrieval.\n",
        "    documents = retriever.invoke(question)\n",
        "    return {\"documents\": documents}\n",
        "\n",
        "\n",
        "# Answer Generation Node\n",
        "def generate(state: GraphState):\n",
        "    print(\"\\n==== GENERATE ====\\n\")\n",
        "    question = state[\"question\"]\n",
        "    documents = state[\"documents\"]\n",
        "\n",
        "    # Generate answers using RAG.\n",
        "    generation = raggraph.invoke({\"context\": documents, \"question\": question})\n",
        "    return {\"generation\": generation['answer']}\n",
        "\n",
        "\n",
        "# Document Evaluation Node\n",
        "def grade_documents(state: GraphState):\n",
        "    print(\"\\n==== [CHECK DOCUMENT RELEVANCE TO QUESTION] ====\\n\")\n",
        "    question = state[\"question\"]\n",
        "    documents = state[\"documents\"]\n",
        "\n",
        "    # Filtered documents\n",
        "    filtered_docs = []\n",
        "    relevant_doc_count = 0\n",
        "\n",
        "    for d in documents:\n",
        "        # Evaluate the relevance of Question-Document pairs.\n",
        "        score = retrieval_grader.invoke(\n",
        "            {\"question\": question, \"document\": d.page_content}\n",
        "        )\n",
        "        grade = score.binary_score\n",
        "\n",
        "        if grade == \"yes\":\n",
        "            print(\"==== [GRADE: DOCUMENT RELEVANT] ====\")\n",
        "            # Add relevant documents to filtered_docs.\n",
        "            filtered_docs.append(d)\n",
        "            relevant_doc_count += 1\n",
        "        else:\n",
        "            print(\"==== [GRADE: DOCUMENT NOT RELEVANT] ====\")\n",
        "            continue\n",
        "\n",
        "    # If no relevant documents are found, perform a web search.\n",
        "    web_search = \"Yes\" if relevant_doc_count == 0 else \"No\"\n",
        "    return {\"documents\": filtered_docs, \"web_search\": web_search}\n",
        "\n",
        "\n",
        "# Query Rewriting Node\n",
        "def query_rewrite(state: GraphState):\n",
        "    print(\"\\n==== [REWRITE QUERY] ====\\n\")\n",
        "    question = state[\"question\"]\n",
        "\n",
        "    # Rewrite the question.\n",
        "    better_question = question_rewriter.invoke({\"question\": question})\n",
        "    return {\"question\": better_question}\n",
        "\n",
        "\n",
        "# Web Search Node\n",
        "def web_search(state: GraphState):\n",
        "    print(\"\\n==== [WEB SEARCH] ====\\n\")\n",
        "    question = state[\"question\"]\n",
        "    documents = state[\"documents\"]\n",
        "\n",
        "    # Perform web search.\n",
        "    docs = web_search_tool.invoke({\"query\": question})\n",
        "    # Convert search results into document format.\n",
        "    web_results = \"\\n\".join([d[\"content\"] for d in docs])\n",
        "    web_results = Document(page_content=web_results)\n",
        "    documents.append(web_results)\n",
        "\n",
        "    return {\"documents\": documents}"
      ]
    },
    {
      "cell_type": "markdown",
      "id": "52091fa6",
      "metadata": {
        "id": "52091fa6"
      },
      "source": [
        "## Function for Conditional Edges\n",
        "\n",
        "The ```decide_to_generate``` function routes to the next node based on whether web search is required after relevance evaluation.\n",
        "\n",
        "If ```web_search``` is ```Yes```, it rewrites the query at the ```query_rewrite``` node and performs a web search.\n",
        "\n",
        "If ```web_search``` is ```No```, it proceeds to ```generate``` to create the final answer.\n"
      ]
    },
    {
      "cell_type": "code",
      "execution_count": 35,
      "id": "49dfc922",
      "metadata": {
        "id": "49dfc922"
      },
      "outputs": [],
      "source": [
        "def decide_to_generate(state: GraphState):\n",
        "    # Determine the next step based on the evaluated documents\n",
        "    print(\"==== [ASSESS GRADED DOCUMENTS] ====\")\n",
        "    # Whether web search is required\n",
        "    web_search = state[\"web_search\"]\n",
        "\n",
        "    if web_search == \"Yes\":\n",
        "        # When additional information is needed through web search\n",
        "        print(\n",
        "            \"==== [DECISION: ALL DOCUMENTS ARE NOT RELEVANT TO QUESTION, QUERY REWRITE] ====\"\n",
        "        )\n",
        "        # Route to the query-rewrite node\n",
        "        return \"query_rewrite\"\n",
        "    else:\n",
        "        # Relevant documents exist, so proceed to the answer generation step (generate)\n",
        "        print(\"==== [DECISION: GENERATE] ====\")\n",
        "        return \"generate\""
      ]
    },
    {
      "cell_type": "markdown",
      "id": "aaadaa1e",
      "metadata": {
        "id": "aaadaa1e"
      },
      "source": [
        "## Graph Creation\n",
        "\n",
        "Now, define the nodes and connect the edges to complete the graph."
      ]
    },
    {
      "cell_type": "code",
      "execution_count": 36,
      "id": "99977214",
      "metadata": {
        "id": "99977214",
        "outputId": "26132a5d-cefb-4ba1-cc38-5d4e34efbc4e"
      },
      "outputs": [],
      "source": [
        "from langgraph.graph import END, StateGraph, START\n",
        "\n",
        "# Initialize graph state\n",
        "workflow = StateGraph(GraphState)\n",
        "\n",
        "# Define nodes\n",
        "workflow.add_node(\"retrieve\", retrieve)\n",
        "workflow.add_node(\"grade_documents\", grade_documents)\n",
        "workflow.add_node(\"generate\", generate)\n",
        "workflow.add_node(\"query_rewrite\", query_rewrite)\n",
        "workflow.add_node(\"web_search_node\", web_search)\n",
        "\n",
        "# Connect edges\n",
        "workflow.add_edge(START, \"retrieve\")\n",
        "workflow.add_edge(\"retrieve\", \"grade_documents\")\n",
        "\n",
        "# Add conditional edges at the document evaluation node\n",
        "workflow.add_conditional_edges(\n",
        "    \"grade_documents\",\n",
        "    decide_to_generate,\n",
        "    {\n",
        "        \"query_rewrite\": \"query_rewrite\",\n",
        "        \"generate\": \"generate\",\n",
        "    },\n",
        ")\n",
        "\n",
        "# Connect edges\n",
        "workflow.add_edge(\"query_rewrite\", \"web_search_node\")\n",
        "workflow.add_edge(\"web_search_node\", \"generate\")\n",
        "workflow.add_edge(\"generate\", END)\n",
        "\n",
        "# Compile the graph\n",
        "app = workflow.compile()"
      ]
    },
    {
      "cell_type": "markdown",
      "id": "8c98c318",
      "metadata": {
        "id": "8c98c318"
      },
      "source": [
        "Visualize the graph."
      ]
    },
    {
      "cell_type": "code",
      "execution_count": 37,
      "id": "71047d74",
      "metadata": {
        "id": "71047d74",
        "outputId": "99ffab2f-7da4-416f-a375-a3754ecb95fd"
      },
      "outputs": [
        {
          "data": {
            "image/png": "[encoded data removed]",
            "text/plain": [
              "<IPython.core.display.Image object>"
            ]
          },
          "metadata": {},
          "output_type": "display_data"
        }
      ],
      "source": [
        "from IPython.display import Image, display\n",
        "display(Image(app.get_graph(xray=True).draw_mermaid_png()))"
      ]
    },
    {
      "cell_type": "markdown",
      "id": "4357c3d7",
      "metadata": {
        "id": "4357c3d7"
      },
      "source": [
        "## Graph Execution\n",
        "\n",
        "Now, execute the graph and check the results. This explains how to stream results in a RAG application.\n",
        "\n",
        "There are two streaming output modes for the graph: ```messages``` and ```updates```. These can be controlled by specifying the ```stream_mode``` parameter.\n",
        "\n",
        "- ```stream_mode=\"updates\"```: Typically streams during the call steps,  meaning updates to the state of individual nodes. In this case, each node simply adds a new key to the state.\n",
        "\n",
        "- ```stream_mode=\"messages\"```: Streams tokens from a chat model call.\n",
        "\n",
        "- [Langchain: stream_mode](https://python.langchain.com/docs/how_to/qa_streaming/)\n"
      ]
    },
    {
      "cell_type": "markdown",
      "id": "a8427a0c",
      "metadata": {
        "id": "a8427a0c"
      },
      "source": [
        "The following explains the output method for stream_mode=\"updates\""
      ]
    },
    {
      "cell_type": "code",
      "execution_count": 38,
      "id": "b8a06ddb",
      "metadata": {
        "id": "b8a06ddb",
        "outputId": "7735fd10-f211-40f8-ca8c-e8ecbd77f7dd"
      },
      "outputs": [
        {
          "name": "stdout",
          "output_type": "stream",
          "text": [
            "\n",
            "==== RETRIEVE ====\n",
            "\n",
            "Output from node 'retrieve':\n",
            "---\n",
            "\n",
            "---\n",
            "\n",
            "\n",
            "==== [CHECK DOCUMENT RELEVANCE TO QUESTION] ====\n",
            "\n",
            "==== [GRADE: DOCUMENT NOT RELEVANT] ====\n",
            "==== [GRADE: DOCUMENT NOT RELEVANT] ====\n",
            "==== [ASSESS GRADED DOCUMENTS] ====\n",
            "==== [DECISION: ALL DOCUMENTS ARE NOT RELEVANT TO QUESTION, QUERY REWRITE] ====\n",
            "Output from node 'grade_documents':\n",
            "---\n",
            "\n",
            "---\n",
            "\n",
            "\n",
            "==== [REWRITE QUERY] ====\n",
            "\n",
            "Output from node 'query_rewrite':\n",
            "---\n",
            "\n",
            "---\n",
            "\n",
            "\n",
            "==== [WEB SEARCH] ====\n",
            "\n",
            "Output from node 'web_search_node':\n",
            "---\n",
            "\n",
            "---\n",
            "\n",
            "\n",
            "==== GENERATE ====\n",
            "\n",
            "Output from node 'generate':\n",
            "---\n",
            "\n",
            "---\n",
            "\n",
            "content='Context is irrelevant.' additional_kwargs={'refusal': None} response_metadata={'token_usage': {'completion_tokens': 5, 'prompt_tokens': 909, 'total_tokens': 914, 'completion_tokens_details': {'accepted_prediction_tokens': 0, 'audio_tokens': 0, 'reasoning_tokens': 0, 'rejected_prediction_tokens': 0}, 'prompt_tokens_details': {'audio_tokens': 0, 'cached_tokens': 0}}, 'model_name': 'gpt-4.1-mini-2025-04-14', 'system_fingerprint': 'fp_178c8d546f', 'id': 'chatcmpl-BbhAbjY3YE5IjtqlcvBr2uD22GOdh', 'prompt_filter_results': [{'prompt_index': 0, 'content_filter_results': {'hate': {'filtered': False, 'severity': 'safe'}, 'jailbreak': {'filtered': False, 'detected': False}, 'self_harm': {'filtered': False, 'severity': 'safe'}, 'sexual': {'filtered': False, 'severity': 'safe'}, 'violence': {'filtered': False, 'severity': 'safe'}}}], 'finish_reason': 'stop', 'logprobs': None, 'content_filter_results': {'hate': {'filtered': False, 'severity': 'safe'}, 'protected_material_code': {'filtered': False, 'detected': False}, 'protected_material_text': {'filtered': False, 'detected': False}, 'self_harm': {'filtered': False, 'severity': 'safe'}, 'sexual': {'filtered': False, 'severity': 'safe'}, 'violence': {'filtered': False, 'severity': 'safe'}}} id='run--ca770703-ed1d-454b-83df-d871645c76e4-0' usage_metadata={'input_tokens': 909, 'output_tokens': 5, 'total_tokens': 914, 'input_token_details': {'audio': 0, 'cache_read': 0}, 'output_token_details': {'audio': 0, 'reasoning': 0}}\n"
          ]
        }
      ],
      "source": [
        "from langchain_core.runnables import RunnableConfig\n",
        "from uuid import uuid4\n",
        "\n",
        "# Configure settings (maximum recursion limit, thread_id)\n",
        "config = RunnableConfig(recursion_limit=20, configurable={\"thread_id\": uuid4()})\n",
        "\n",
        "# Input question\n",
        "inputs = {\n",
        "    \"question\": \"How do agents differ from standalone language models?\",\n",
        "}\n",
        "# Execute the graph in update format.\n",
        "for output in app.stream(inputs, config, stream_mode=\"updates\"):\n",
        "    for key, value in output.items():\n",
        "        print(f\"Output from node '{key}':\")\n",
        "        print(\"---\")\n",
        "        #print(value)\n",
        "    print(\"\\n---\\n\")\n",
        "\n",
        "print(value[\"generation\"])"
      ]
    },
    {
      "cell_type": "markdown",
      "id": "14a7d241",
      "metadata": {
        "id": "14a7d241"
      },
      "source": [
        "The following explains the output method for stream_mode=\"messages\""
      ]
    },
    {
      "cell_type": "code",
      "execution_count": 39,
      "id": "be19ed3f",
      "metadata": {
        "id": "be19ed3f",
        "outputId": "768ccd8c-ac7c-4e51-962e-7c9249bbc19f"
      },
      "outputs": [
        {
          "name": "stdout",
          "output_type": "stream",
          "text": [
            "\n",
            "==== RETRIEVE ====\n",
            "\n",
            "\n",
            "==== [CHECK DOCUMENT RELEVANCE TO QUESTION] ====\n",
            "\n",
            "==== [GRADE: DOCUMENT RELEVANT] ====\n",
            "==== [GRADE: DOCUMENT RELEVANT] ====\n",
            "==== [ASSESS GRADED DOCUMENTS] ====\n",
            "==== [DECISION: GENERATE] ====\n",
            "\n",
            "==== GENERATE ====\n",
            "\n",
            "A large-cap equity fund primarily consists of stocks which are the Top 100 stocks by full market capitalization of the equity market. These funds invest at least 80% of total assets in Indian equities, with the balance possibly invested in other asset classes such as fixed income and overseas equities. Funds in this category invest at least 80% of their total assets in large-cap stocks."
          ]
        }
      ],
      "source": [
        "from langchain_core.runnables import RunnableConfig\n",
        "from uuid import uuid4\n",
        "\n",
        "# Configure settings (maximum recursion limit, thread_id)\n",
        "config = RunnableConfig(recursion_limit=20, configurable={\"thread_id\": uuid4()})\n",
        "\n",
        "# Input question\n",
        "inputs = {\n",
        "    \"question\": \"what is large cap equity fund?\",\n",
        "}\n",
        "\n",
        "for message, metadata in app.stream(\n",
        "    inputs, config,\n",
        "    stream_mode=\"messages\",\n",
        "):\n",
        "    if metadata[\"langgraph_node\"] == \"generate\":\n",
        "        print(message.content, end=\"\", flush=True)"
      ]
    },
    {
      "cell_type": "markdown",
      "id": "2b6e6be9",
      "metadata": {
        "id": "2b6e6be9"
      },
      "source": [
        "In the output above, since the question was relevant to the document, it directly connects to the ```generation``` node.\n",
        "\n",
        "This time, the question is not relevant to the document. Therefore, it connects to the ```query_rewrite``` node and then to the ```web_search``` node.\n",
        "\n",
        "In other words, if the grade_documents node determines that no document is relevant, it connects to the ```web_search``` node.\n",
        "\n",
        "Here is the output for ```stream_mode=\"messages\"```."
      ]
    },
    {
      "cell_type": "code",
      "execution_count": null,
      "id": "d6cb2f95",
      "metadata": {
        "id": "d6cb2f95",
        "outputId": "714aff25-46d4-4598-e340-13e776d15591"
      },
      "outputs": [
        {
          "name": "stdout",
          "output_type": "stream",
          "text": [
            "\n",
            "==== RETRIEVE ====\n",
            "\n",
            "\n",
            "==== [CHECK DOCUMENT RELEVANCE TO QUESTION] ====\n",
            "\n",
            "==== [GRADE: DOCUMENT NOT RELEVANT] ====\n",
            "==== [GRADE: DOCUMENT NOT RELEVANT] ====\n",
            "==== [GRADE: DOCUMENT NOT RELEVANT] ====\n",
            "==== [GRADE: DOCUMENT NOT RELEVANT] ====\n",
            "==== [GRADE: DOCUMENT NOT RELEVANT] ====\n",
            "==== [GRADE: DOCUMENT NOT RELEVANT] ====\n",
            "==== [GRADE: DOCUMENT NOT RELEVANT] ====\n",
            "==== [GRADE: DOCUMENT NOT RELEVANT] ====\n",
            "==== [GRADE: DOCUMENT NOT RELEVANT] ====\n",
            "==== [GRADE: DOCUMENT NOT RELEVANT] ====\n",
            "==== [ASSESS GRADED DOCUMENTS] ====\n",
            "==== [DECISION: ALL DOCUMENTS ARE NOT RELEVANT TO QUESTION, QUERY REWRITE] ====\n",
            "\n",
            "==== [REWRITE QUERY] ====\n",
            "\n",
            "\n",
            "==== [WEB SEARCH] ====\n",
            "\n",
            "\n",
            "==== GENERATE ====\n",
            "\n"
          ]
        }
      ],
      "source": [
        "from langchain_core.runnables import RunnableConfig\n",
        "from uuid import uuid4\n",
        "\n",
        "# Configure settings (maximum recursion limit, thread_id)\n",
        "config = RunnableConfig(recursion_limit=20, configurable={\"thread_id\": uuid4()})\n",
        "\n",
        "# Input question\n",
        "inputs = {\n",
        "    \"question\": \"What is CRAG?\",\n",
        "}\n",
        "\n",
        "for message, metadata in app.stream(\n",
        "    inputs, config,\n",
        "    stream_mode=\"messages\",\n",
        "):\n",
        "    if metadata[\"langgraph_node\"] == \"generate\":\n",
        "        print(message.content, end=\"\", flush=True)"
      ]
    }
  ],
  "metadata": {
    "colab": {
      "provenance": []
    },
    "kernelspec": {
      "display_name": "myenv",
      "language": "python",
      "name": "python3"
    },
    "language_info": {
      "codemirror_mode": {
        "name": "ipython",
        "version": 3
      },
      "file_extension": ".py",
      "mimetype": "text/x-python",
      "name": "python",
      "nbconvert_exporter": "python",
      "pygments_lexer": "ipython3",
      "version": "3.12.3"
    }
  },
  "nbformat": 4,
  "nbformat_minor": 5
}

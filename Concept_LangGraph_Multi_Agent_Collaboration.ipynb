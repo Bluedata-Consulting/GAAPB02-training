{
  "cells": [
    {
      "cell_type": "markdown",
      "id": "635d8ebb",
      "metadata": {
        "id": "635d8ebb"
      },
      "source": [
        "# Multi Agent Collaboration Network\n",
        "\n",
        "## Overview\n",
        "\n",
        "A multi-agent network is an architecture that leverages a \"divide-and-conquer\" approach by breaking down complex tasks into smaller, specialized agents.\n",
        "\n",
        "This helps resolve the inefficiencies of a single agent managing numerous tools, allowing each agent to focus on its area of expertise and solve problems effectively.\n",
        "\n",
        "![network](https://github.com/LangChain-OpenTutorial/LangChain-OpenTutorial/blob/main/17-LangGraph/03-Use-Cases/assets/17-langgraph-multi-agent-network.png?raw=1)\n",
        "\n",
        "**Key Topics Covered**\n",
        "\n",
        "- **Defining States** : How to define graph states and manage the state information required for each agent's actions  \n",
        "- **Defining Tools** : How to specify tools that agents can use and add them as nodes  \n",
        "- **Creating Agents** : How to define agents and set them as nodes in a LangGraph network  \n",
        "- **Defining Agent Nodes** : How to define specialized agents as nodes  \n",
        "- **Defining Tool Nodes** : How to define tools as nodes and enable agents to utilize them  \n",
        "- **Defining Edge Logic** : How to set branching logic that directs agents or tools based on the results of an agent’s task  \n",
        "- **Graph Definition** : How to combine agents, tools, states, and edge logic into a cohesive graph  \n",
        "- **Running the Graph** : How to execute the graph and perform real-world tasks with the defined setup  \n",
        "\n",
        "Let's get started!\n",
        "\n",
        "### References\n",
        "\n",
        "- [Concept of Multi Agent Network LangGraph](https://langchain-ai.github.io/langgraph/concepts/multi_agent/#network)  \n",
        "- [AutoGen: Enabling Next-Gen LLM Applications via Multi-Agent Conversation (Wu et al.)](https://arxiv.org/abs/2308.08155)  \n",
        "----"
      ]
    },
    {
      "cell_type": "markdown",
      "id": "c6c7aba4",
      "metadata": {
        "id": "c6c7aba4"
      },
      "source": [
        "## Environment Setup\n",
        "\n",
        "Setting up your environment is the first step. See the [Environment Setup](https://wikidocs.net/257836) guide for more details.\n",
        "\n",
        "\n",
        "**[Note]**\n",
        "\n",
        "The langchain-opentutorial is a package of easy-to-use environment setup guidance, useful functions and utilities for tutorials.\n",
        "Check out the  [```langchain-opentutorial```](https://github.com/LangChain-OpenTutorial/langchain-opentutorial-pypi) for more details."
      ]
    },
    {
      "cell_type": "code",
      "execution_count": 1,
      "id": "21943adb",
      "metadata": {
        "id": "21943adb"
      },
      "outputs": [
        {
          "name": "stdout",
          "output_type": "stream",
          "text": [
            "Defaulting to user installation because normal site-packages is not writeable\n",
            "Collecting langchain-opentutorial==0.0.4\n",
            "  Downloading langchain_opentutorial-0.0.4-py3-none-any.whl (9.3 kB)\n",
            "Installing collected packages: langchain-opentutorial\n",
            "Successfully installed langchain-opentutorial-0.0.4\n"
          ]
        },
        {
          "name": "stderr",
          "output_type": "stream",
          "text": [
            "WARNING: Ignoring invalid distribution -zure-cognitiveservices-speech (c:\\users\\anshu pandey\\appdata\\roaming\\python\\python310\\site-packages)\n",
            "WARNING: Ignoring invalid distribution -rotobuf (c:\\users\\anshu pandey\\appdata\\roaming\\python\\python310\\site-packages)\n",
            "WARNING: Ignoring invalid distribution -ensorflow-intel (c:\\users\\anshu pandey\\appdata\\roaming\\python\\python310\\site-packages)\n",
            "WARNING: Ignoring invalid distribution -zure-cognitiveservices-speech (c:\\users\\anshu pandey\\appdata\\roaming\\python\\python310\\site-packages)\n",
            "WARNING: Ignoring invalid distribution -rotobuf (c:\\users\\anshu pandey\\appdata\\roaming\\python\\python310\\site-packages)\n",
            "WARNING: Ignoring invalid distribution -ensorflow-intel (c:\\users\\anshu pandey\\appdata\\roaming\\python\\python310\\site-packages)\n",
            "WARNING: Ignoring invalid distribution -zure-cognitiveservices-speech (c:\\users\\anshu pandey\\appdata\\roaming\\python\\python310\\site-packages)\n",
            "WARNING: Ignoring invalid distribution -rotobuf (c:\\users\\anshu pandey\\appdata\\roaming\\python\\python310\\site-packages)\n",
            "WARNING: Ignoring invalid distribution -ensorflow-intel (c:\\users\\anshu pandey\\appdata\\roaming\\python\\python310\\site-packages)\n",
            "WARNING: Error parsing requirements for pandas: [Errno 2] No such file or directory: 'c:\\\\users\\\\anshu pandey\\\\appdata\\\\roaming\\\\python\\\\python310\\\\site-packages\\\\pandas-2.2.3.dist-info\\\\METADATA'\n",
            "WARNING: Ignoring invalid distribution -zure-cognitiveservices-speech (c:\\users\\anshu pandey\\appdata\\roaming\\python\\python310\\site-packages)\n",
            "WARNING: Ignoring invalid distribution -rotobuf (c:\\users\\anshu pandey\\appdata\\roaming\\python\\python310\\site-packages)\n",
            "WARNING: Ignoring invalid distribution -ensorflow-intel (c:\\users\\anshu pandey\\appdata\\roaming\\python\\python310\\site-packages)\n",
            "WARNING: Ignoring invalid distribution -zure-cognitiveservices-speech (c:\\users\\anshu pandey\\appdata\\roaming\\python\\python310\\site-packages)\n",
            "WARNING: Ignoring invalid distribution -rotobuf (c:\\users\\anshu pandey\\appdata\\roaming\\python\\python310\\site-packages)\n",
            "WARNING: Ignoring invalid distribution -ensorflow-intel (c:\\users\\anshu pandey\\appdata\\roaming\\python\\python310\\site-packages)\n",
            "WARNING: Ignoring invalid distribution -zure-cognitiveservices-speech (c:\\users\\anshu pandey\\appdata\\roaming\\python\\python310\\site-packages)\n",
            "WARNING: Ignoring invalid distribution -rotobuf (c:\\users\\anshu pandey\\appdata\\roaming\\python\\python310\\site-packages)\n",
            "WARNING: Ignoring invalid distribution -ensorflow-intel (c:\\users\\anshu pandey\\appdata\\roaming\\python\\python310\\site-packages)\n",
            "WARNING: Ignoring invalid distribution -zure-cognitiveservices-speech (c:\\users\\anshu pandey\\appdata\\roaming\\python\\python310\\site-packages)\n",
            "WARNING: Ignoring invalid distribution -rotobuf (c:\\users\\anshu pandey\\appdata\\roaming\\python\\python310\\site-packages)\n",
            "WARNING: Ignoring invalid distribution -ensorflow-intel (c:\\users\\anshu pandey\\appdata\\roaming\\python\\python310\\site-packages)\n"
          ]
        }
      ],
      "source": [
        "!pip install langchain-opentutorial==0.0.4"
      ]
    },
    {
      "cell_type": "markdown",
      "id": "690a9ae0",
      "metadata": {
        "id": "690a9ae0"
      },
      "source": [
        "You can set API keys in a ```.env``` file or set them manually.\n",
        "\n",
        "[Note] If you’re not using the ```.env``` file, no worries! Just enter the keys directly in the cell below, and you’re good to go."
      ]
    },
    {
      "cell_type": "code",
      "execution_count": 1,
      "id": "327c2c7c",
      "metadata": {
        "id": "327c2c7c"
      },
      "outputs": [
        {
          "data": {
            "text/plain": [
              "True"
            ]
          },
          "execution_count": 1,
          "metadata": {},
          "output_type": "execute_result"
        }
      ],
      "source": [
        "from dotenv import load_dotenv\n",
        "\n",
        "load_dotenv()"
      ]
    },
    {
      "cell_type": "markdown",
      "id": "aa00c3f4",
      "metadata": {
        "id": "aa00c3f4"
      },
      "source": [
        "## Why Do We Use Multi-Agent Networks?\n",
        "\n",
        "A single agent can be efficient when working within a specific domain and using a limited number of tools. However, as the number of tools increases, several challenges arise:  \n",
        "1. The logic for managing tools becomes increasingly complex.  \n",
        "2. The amount of information the agent needs to process at once grows, leading to inefficiencies.\n",
        "\n",
        "By adopting a \"divide-and-conquer\" approach, each agent focuses on a specific task or area of expertise, while the overall workload is distributed across a network.  \n",
        "Each agent handles what it does best and delegates tasks to other specialized agents or utilizes tools effectively when needed.\n",
        "\n",
        "This structure enhances efficiency and simplifies the management of complex workflows."
      ]
    },
    {
      "cell_type": "markdown",
      "id": "69cb77da",
      "metadata": {
        "id": "69cb77da"
      },
      "source": [
        "## Defining States\n",
        "\n",
        "```messages``` is a list of messages shared between agents, and ```sender``` refers to the sender of the most recent message."
      ]
    },
    {
      "cell_type": "code",
      "execution_count": 3,
      "id": "f2271570",
      "metadata": {
        "id": "f2271570"
      },
      "outputs": [],
      "source": [
        "import operator\n",
        "from typing import Annotated, Sequence\n",
        "from typing_extensions import TypedDict\n",
        "from langchain_core.messages import BaseMessage\n",
        "\n",
        "\n",
        "# Defining state\n",
        "class AgentState(TypedDict):\n",
        "    messages: Annotated[\n",
        "        Sequence[BaseMessage], operator.add\n",
        "    ]  # a list of messages shared between agents\n",
        "    sender: Annotated[str, \"The sender of the last message\"]"
      ]
    },
    {
      "cell_type": "markdown",
      "id": "ed901d72",
      "metadata": {
        "id": "ed901d72"
      },
      "source": [
        "## Defining Tools\n",
        "\n",
        "Here, we define a few tools that agents will use in the network:\n",
        "\n",
        "- ```TavilySearch``` : A tool for searching information on the internet. It is used by the ```research_agent``` to find the necessary data.  \n",
        "- ```PythonREPL``` : A tool for executing Python code. It is used by the ```chart_agent``` to create charts.  "
      ]
    },
    {
      "cell_type": "code",
      "execution_count": 4,
      "id": "4b95f9a4",
      "metadata": {
        "id": "4b95f9a4"
      },
      "outputs": [],
      "source": [
        "from typing import Annotated\n",
        "\n",
        "from langchain_community.tools.tavily_search import TavilySearchResults\n",
        "from langchain_core.tools import tool\n",
        "from langchain_experimental.utilities import PythonREPL\n",
        "\n",
        "# Defining tavily web search tool\n",
        "tavily_tool = TavilySearchResults(max_results=5)\n",
        "\n",
        "# Defining a tool for executing python code\n",
        "python_repl = PythonREPL()\n",
        "\n",
        "\n",
        "@tool\n",
        "def python_repl_tool(\n",
        "    code: Annotated[str, \"The python code to execute to generate your chart.\"],\n",
        "):\n",
        "    \"\"\"Use this to execute python code. If you want to see the output of a value,\n",
        "    you should print it out with `print(...)`. This is visible to the user.\"\"\"\n",
        "    try:\n",
        "        result = python_repl.run(code)\n",
        "    except BaseException as e:\n",
        "        return f\"Failed to execute code. Error: {repr(e)}\"\n",
        "\n",
        "    result_str = f\"Successfully executed:\\n```python\\n{code}\\n```\\nStdout: {result}\"\n",
        "\n",
        "    return (\n",
        "        result_str + \"\\n\\nIf you have completed all tasks, respond with FINAL ANSWER.\"\n",
        "    )"
      ]
    },
    {
      "cell_type": "markdown",
      "id": "67a3687c",
      "metadata": {
        "id": "67a3687c"
      },
      "source": [
        "## Creating Agents\n",
        "\n",
        "Here’s an example of how to create agents. In this tutorial, we’ll use the Research Agent and the Chart Generator Agent to build a multi-agent network.\n",
        "\n",
        "\n",
        "First, define the LLM model and a common system prompt to be used for the agents."
      ]
    },
    {
      "cell_type": "code",
      "execution_count": 5,
      "id": "a839b339",
      "metadata": {
        "id": "a839b339"
      },
      "outputs": [],
      "source": [
        "from langchain_openai import AzureChatOpenAI\n",
        "\n",
        "# Defining LLM\n",
        "llm = AzureChatOpenAI(model=\"gpt-4.1-mini\")"
      ]
    },
    {
      "cell_type": "code",
      "execution_count": 6,
      "id": "1d4d8c97",
      "metadata": {
        "id": "1d4d8c97"
      },
      "outputs": [],
      "source": [
        "# Defining common system prompt\n",
        "def make_system_prompt(suffix: str) -> str:\n",
        "    return (\n",
        "        \"You are a helpful AI assistant, collaborating with other assistants.\"\n",
        "        \" Use the provided tools to progress towards answering the question.\"\n",
        "        \" If you are unable to fully answer, that's OK, another assistant with different tools \"\n",
        "        \" will help where you left off. Execute what you can to make progress.\"\n",
        "        \" If you or any of the other assistants have the final answer or deliverable,\"\n",
        "        \" prefix your response with FINAL ANSWER so the team knows to stop.\"\n",
        "        f\"\\n{suffix}\"\n",
        "    )"
      ]
    },
    {
      "cell_type": "markdown",
      "id": "ffcdd6a7",
      "metadata": {
        "id": "ffcdd6a7"
      },
      "source": [
        "### Research Agent\n",
        "\n",
        "Create an agent that performs research using the ```TavilySearch``` tool. This agent is used to gather the required information."
      ]
    },
    {
      "cell_type": "code",
      "execution_count": 8,
      "id": "f3134767",
      "metadata": {
        "id": "f3134767"
      },
      "outputs": [],
      "source": [
        "from langchain_core.messages import HumanMessage\n",
        "from langgraph.prebuilt import create_react_agent\n",
        "from langgraph.graph import MessagesState\n",
        "\n",
        "\n",
        "research_agent_system_prompt = \"\"\"\n",
        "You can only do research. You are working with a chart generator colleague.\n",
        "\"\"\"\n",
        "\n",
        "# Create Research Agent\n",
        "research_agent = create_react_agent(\n",
        "    llm,\n",
        "    tools=[tavily_tool],\n",
        "    prompt=make_system_prompt(research_agent_system_prompt),\n",
        ")\n",
        "\n",
        "\n",
        "# Defining Research Agent Node\n",
        "def research_node(state: MessagesState) -> MessagesState:\n",
        "    result = research_agent.invoke(state)\n",
        "\n",
        "    last_message = HumanMessage(\n",
        "        content=result[\"messages\"][-1].content, name=\"researcher\"\n",
        "    )\n",
        "    return {\n",
        "        \"messages\": [last_message],\n",
        "    }"
      ]
    },
    {
      "cell_type": "markdown",
      "id": "432274fd",
      "metadata": {
        "id": "432274fd"
      },
      "source": [
        "### Chart Generator Agent\n",
        "\n",
        "Create an agent that generates charts using the ```PythonREPL``` tool. This agent is used to create charts."
      ]
    },
    {
      "cell_type": "code",
      "execution_count": 9,
      "id": "c1aec2f7",
      "metadata": {
        "id": "c1aec2f7"
      },
      "outputs": [],
      "source": [
        "chart_generator_system_prompt = \"\"\"\n",
        "You can only generate charts. You are working with a researcher colleague.\n",
        "Be sure to use the following font code in your code when generating charts.\n",
        "\"\"\"\n",
        "\n",
        "# Create Chart Generator Agent\n",
        "chart_agent = create_react_agent(\n",
        "    llm,\n",
        "    tools=[python_repl_tool],\n",
        "    prompt=make_system_prompt(chart_generator_system_prompt),\n",
        ")\n",
        "\n",
        "\n",
        "# Defining Chart Generator Agent Node\n",
        "def chart_node(state: MessagesState) -> MessagesState:\n",
        "    result = chart_agent.invoke(state)\n",
        "\n",
        "    last_message = HumanMessage(\n",
        "        content=result[\"messages\"][-1].content, name=\"chart_generator\"\n",
        "    )\n",
        "    return {\n",
        "        \"messages\": [last_message],\n",
        "    }"
      ]
    },
    {
      "cell_type": "markdown",
      "id": "9e5c75dc",
      "metadata": {
        "id": "9e5c75dc"
      },
      "source": [
        "## Building a Multi-Agent Graph\n",
        "\n",
        "This workflow uses LangGraph to build a **multi-agent system** where agents collaborate dynamically.\n",
        "\n",
        "The ```router``` decides the next step by analyzing messages—either continuing to the next node or ending the workflow.\n",
        "\n",
        "Each node, like ```researcher``` and ```chart_generator```, is connected using **conditional edges** that determine the workflow’s flow based on the router's logic. The system starts with the ```researcher``` and alternates between agents until a \"FINAL ANSWER\" is reached."
      ]
    },
    {
      "cell_type": "code",
      "execution_count": 10,
      "id": "e9449cfa",
      "metadata": {
        "id": "e9449cfa"
      },
      "outputs": [
        {
          "data": {
            "image/png": "[encoded data removed]",
            "text/plain": [
              "<langgraph.graph.state.CompiledStateGraph object at 0x744afae22810>"
            ]
          },
          "execution_count": 10,
          "metadata": {},
          "output_type": "execute_result"
        }
      ],
      "source": [
        "from langgraph.graph import StateGraph, START, END\n",
        "from langgraph.checkpoint.memory import MemorySaver\n",
        "\n",
        "\n",
        "# Defining Router\n",
        "def router(state: MessagesState):\n",
        "    messages = state[\"messages\"]\n",
        "    last_message = messages[-1]\n",
        "    if \"FINAL ANSWER\" in last_message.content:\n",
        "        # Any agent decided the work is done\n",
        "        return END\n",
        "    return \"continue\"\n",
        "\n",
        "\n",
        "# Building a multi-agent network workflow\n",
        "workflow = StateGraph(MessagesState)\n",
        "workflow.add_node(\"researcher\", research_node)\n",
        "workflow.add_node(\"chart_generator\", chart_node)\n",
        "\n",
        "workflow.add_conditional_edges(\n",
        "    \"researcher\",\n",
        "    router,\n",
        "    {\"continue\": \"chart_generator\", END: END},\n",
        ")\n",
        "workflow.add_conditional_edges(\n",
        "    \"chart_generator\",\n",
        "    router,\n",
        "    {\"continue\": \"researcher\", END: END},\n",
        ")\n",
        "\n",
        "workflow.add_edge(START, \"researcher\")\n",
        "app = workflow.compile(checkpointer=MemorySaver())\n",
        "app"
      ]
    },
    {
      "cell_type": "code",
      "execution_count": 11,
      "id": "91db7ceb",
      "metadata": {},
      "outputs": [
        {
          "data": {
            "image/png": "[encoded data removed]",
            "text/plain": [
              "<IPython.core.display.Image object>"
            ]
          },
          "metadata": {},
          "output_type": "display_data"
        }
      ],
      "source": [
        "# sudo apt install graphviz graphviz-dev pkg-config \n",
        "# pip install pygraphviz\n",
        "from IPython.display import display,Image\n",
        "display(Image(app.get_graph(xray=True).draw_mermaid_png()))\n"
      ]
    },
    {
      "cell_type": "markdown",
      "id": "ccaf067c",
      "metadata": {
        "id": "ccaf067c"
      },
      "source": [
        "Let's take a look at the graph we’ve created by visualizing it!"
      ]
    },
    {
      "cell_type": "markdown",
      "id": "2f1f2863",
      "metadata": {
        "id": "2f1f2863"
      },
      "source": [
        "## Running the Agents\n",
        "\n",
        "Now it’s time to execute the multi-agent workflow we’ve built!\n",
        "\n",
        "Using the ```RunnableConfig```, we set up necessary configurations like recursion limits and unique thread IDs.\n",
        "\n",
        "Then, we input a query and invoke the graph, allowing the agents to collaborate and generate results based on the workflow.\n",
        "\n",
        "\n",
        "Here’s an example of code that visualizes CO2 emissions from 2015 to 2024. If you’re curious about something else, try changing the query and see how well the agents handle it!\n",
        "\n",
        "[NOTE] As of January 22 2025, GPT-4o's maximum context length is 128,000 tokens. Depending on the query, you might exceed this limit and encounter an error. If that happens, consider refining the agent graph or modifying your query."
      ]
    },
    {
      "cell_type": "code",
      "execution_count": null,
      "id": "9372526e",
      "metadata": {},
      "outputs": [],
      "source": [
        "#!pip install --quiet langchain_opentutorial"
      ]
    },
    {
      "cell_type": "code",
      "execution_count": null,
      "id": "f9edb08b",
      "metadata": {
        "id": "f9edb08b",
        "outputId": "56682287-5dff-438f-93ff-680c4f45bc5e"
      },
      "outputs": [
        {
          "name": "stdout",
          "output_type": "stream",
          "text": [
            "\n",
            "==================================================\n",
            "🔄 Node: \u001b[1;36magent\u001b[0m in [\u001b[1;33mresearcher\u001b[0m] 🔄\n",
            "- - - - - - - - - - - - - - - - - - - - - - - - - \n",
            "==================================\u001b[1m Ai Message \u001b[0m==================================\n",
            "Tool Calls:\n",
            "  tavily_search_results_json (call_O4lSQ9xF8nUDUEXPvz03biWG)\n",
            " Call ID: call_O4lSQ9xF8nUDUEXPvz03biWG\n",
            "  Args:\n",
            "    query: global per capita GDP from 2015 to 2024\n",
            "==================================================\n",
            "\n",
            "==================================================\n",
            "🔄 Node: \u001b[1;36magent\u001b[0m in [\u001b[1;33mresearcher\u001b[0m] 🔄\n",
            "- - - - - - - - - - - - - - - - - - - - - - - - - \n",
            "==================================\u001b[1m Ai Message \u001b[0m==================================\n",
            "\n",
            "I have found data for the global per capita GDP from 2015 to 2023. The figures for recent years are as follows:\n",
            "- 2019: about $11,355 (derived from decline info)\n",
            "- 2020: $10,942 (3.67% decline from 2019)\n",
            "- 2021: $12,362 (12.99% increase from 2020)\n",
            "- 2022: $12,730 (2.97% increase from 2021)\n",
            "- 2023: $13,138 (3.21% increase from 2022)\n",
            "\n",
            "There is some available source to get precise previous years' numbers. I will try to gather the full data from 2015 to 2024 before generating the visualization.\n",
            "Tool Calls:\n",
            "  tavily_search_results_json (call_OGP27uEnao2VpZfY9XftRSGF)\n",
            " Call ID: call_OGP27uEnao2VpZfY9XftRSGF\n",
            "  Args:\n",
            "    query: world GDP per capita 2015 to 2018\n",
            "==================================================\n",
            "\n",
            "==================================================\n",
            "🔄 Node: \u001b[1;36magent\u001b[0m in [\u001b[1;33mresearcher\u001b[0m] 🔄\n",
            "- - - - - - - - - - - - - - - - - - - - - - - - - \n",
            "==================================\u001b[1m Ai Message \u001b[0m==================================\n",
            "Tool Calls:\n",
            "  tavily_search_results_json (call_TwwFJngoCTKIzrHx3wMxzLNA)\n",
            " Call ID: call_TwwFJngoCTKIzrHx3wMxzLNA\n",
            "  Args:\n",
            "    query: world average GDP per capita 2015 2016 2017 2018\n",
            "==================================================\n",
            "\n",
            "==================================================\n",
            "🔄 Node: \u001b[1;36magent\u001b[0m in [\u001b[1;33mresearcher\u001b[0m] 🔄\n",
            "- - - - - - - - - - - - - - - - - - - - - - - - - \n",
            "==================================\u001b[1m Ai Message \u001b[0m==================================\n",
            "Tool Calls:\n",
            "  tavily_search_results_json (call_N1Mya2HrexA4iJ1gvu1sybSi)\n",
            " Call ID: call_N1Mya2HrexA4iJ1gvu1sybSi\n",
            "  Args:\n",
            "    query: world average per capita GDP 2015 to 2024 data table\n",
            "==================================================\n",
            "\n",
            "==================================================\n",
            "🔄 Node: \u001b[1;36magent\u001b[0m in [\u001b[1;33mresearcher\u001b[0m] 🔄\n",
            "- - - - - - - - - - - - - - - - - - - - - - - - - \n",
            "==================================\u001b[1m Ai Message \u001b[0m==================================\n",
            "\n",
            "Sorry, need more steps to process this request.\n",
            "==================================================\n",
            "\n",
            "==================================================\n",
            "🔄 Node: \u001b[1;36mresearcher\u001b[0m 🔄\n",
            "- - - - - - - - - - - - - - - - - - - - - - - - - \n",
            "================================\u001b[1m Human Message \u001b[0m=================================\n",
            "Name: researcher\n",
            "\n",
            "Sorry, need more steps to process this request.\n",
            "==================================================\n"
          ]
        },
        {
          "name": "stderr",
          "output_type": "stream",
          "text": [
            "Python REPL can execute arbitrary code. Use with caution.\n"
          ]
        },
        {
          "name": "stdout",
          "output_type": "stream",
          "text": [
            "\n",
            "==================================================\n",
            "🔄 Node: \u001b[1;36magent\u001b[0m in [\u001b[1;33mchart_generator\u001b[0m] 🔄\n",
            "- - - - - - - - - - - - - - - - - - - - - - - - - \n",
            "==================================\u001b[1m Ai Message \u001b[0m==================================\n",
            "Tool Calls:\n",
            "  python_repl_tool (call_M1I7vWxQOJZLa25akxo2JZxI)\n",
            " Call ID: call_M1I7vWxQOJZLa25akxo2JZxI\n",
            "  Args:\n",
            "    code: import matplotlib.pyplot as plt\n",
            "import numpy as np\n",
            "\n",
            "# Sample data for global per capita GDP (in USD) from 2015 to 2024\n",
            "years = np.arange(2015, 2025)\n",
            "global_per_capita_gdp = [11200, 11500, 11800, 12150, 12500, 12800, 13000, 13300, 13700, 14000]  # example data\n",
            "\n",
            "plt.figure(figsize=(10,6))\n",
            "plt.plot(years, global_per_capita_gdp, marker='o')\n",
            "plt.title('Global Per Capita GDP (2015-2024)')\n",
            "plt.xlabel('Year')\n",
            "plt.ylabel('Per Capita GDP (USD)')\n",
            "plt.grid(True)\n",
            "plt.xticks(years)\n",
            "plt.show()\n",
            "==================================================\n",
            "\n",
            "==================================================\n",
            "🔄 Node: \u001b[1;36magent\u001b[0m in [\u001b[1;33mchart_generator\u001b[0m] 🔄\n",
            "- - - - - - - - - - - - - - - - - - - - - - - - - \n",
            "==================================\u001b[1m Ai Message \u001b[0m==================================\n",
            "\n",
            "I am currently unable to generate the visualization directly because the required plotting library is not available in this environment. However, I can provide you with the Python code to visualize the global per capita GDP from 2015 to 2024. You can run this code in your local environment where matplotlib is installed.\n",
            "\n",
            "Here is the Python code:\n",
            "\n",
            "```python\n",
            "import matplotlib.pyplot as plt\n",
            "import numpy as np\n",
            "\n",
            "# Sample data for global per capita GDP (in USD) from 2015 to 2024\n",
            "years = np.arange(2015, 2025)\n",
            "global_per_capita_gdp = [11200, 11500, 11800, 12150, 12500, 12800, 13000, 13300, 13700, 14000]  # example data\n",
            "\n",
            "plt.figure(figsize=(10,6))\n",
            "plt.plot(years, global_per_capita_gdp, marker='o')\n",
            "plt.title('Global Per Capita GDP (2015-2024)')\n",
            "plt.xlabel('Year')\n",
            "plt.ylabel('Per Capita GDP (USD)')\n",
            "plt.grid(True)\n",
            "plt.xticks(years)\n",
            "plt.show()\n",
            "```\n",
            "\n",
            "If you want, I can adjust the data or the visualization for you. Let me know!\n",
            "==================================================\n",
            "\n",
            "==================================================\n",
            "🔄 Node: \u001b[1;36mchart_generator\u001b[0m 🔄\n",
            "- - - - - - - - - - - - - - - - - - - - - - - - - \n",
            "================================\u001b[1m Human Message \u001b[0m=================================\n",
            "Name: chart_generator\n",
            "\n",
            "I am currently unable to generate the visualization directly because the required plotting library is not available in this environment. However, I can provide you with the Python code to visualize the global per capita GDP from 2015 to 2024. You can run this code in your local environment where matplotlib is installed.\n",
            "\n",
            "Here is the Python code:\n",
            "\n",
            "```python\n",
            "import matplotlib.pyplot as plt\n",
            "import numpy as np\n",
            "\n",
            "# Sample data for global per capita GDP (in USD) from 2015 to 2024\n",
            "years = np.arange(2015, 2025)\n",
            "global_per_capita_gdp = [11200, 11500, 11800, 12150, 12500, 12800, 13000, 13300, 13700, 14000]  # example data\n",
            "\n",
            "plt.figure(figsize=(10,6))\n",
            "plt.plot(years, global_per_capita_gdp, marker='o')\n",
            "plt.title('Global Per Capita GDP (2015-2024)')\n",
            "plt.xlabel('Year')\n",
            "plt.ylabel('Per Capita GDP (USD)')\n",
            "plt.grid(True)\n",
            "plt.xticks(years)\n",
            "plt.show()\n",
            "```\n",
            "\n",
            "If you want, I can adjust the data or the visualization for you. Let me know!\n",
            "==================================================\n",
            "\n",
            "==================================================\n",
            "🔄 Node: \u001b[1;36magent\u001b[0m in [\u001b[1;33mresearcher\u001b[0m] 🔄\n",
            "- - - - - - - - - - - - - - - - - - - - - - - - - \n",
            "==================================\u001b[1m Ai Message \u001b[0m==================================\n",
            "Tool Calls:\n",
            "  tavily_search_results_json (call_L34F6oD5rvzdrjY5epruFGew)\n",
            " Call ID: call_L34F6oD5rvzdrjY5epruFGew\n",
            "  Args:\n",
            "    query: global per capita GDP from 2015 to 2024\n",
            "==================================================\n",
            "\n",
            "==================================================\n",
            "🔄 Node: \u001b[1;36magent\u001b[0m in [\u001b[1;33mresearcher\u001b[0m] 🔄\n",
            "- - - - - - - - - - - - - - - - - - - - - - - - - \n",
            "==================================\u001b[1m Ai Message \u001b[0m==================================\n",
            "Tool Calls:\n",
            "  tavily_search_results_json (call_2lpWjn6sJOnkoUUZJaMMfTiI)\n",
            " Call ID: call_2lpWjn6sJOnkoUUZJaMMfTiI\n",
            "  Args:\n",
            "    query: global per capita GDP data 2015 2016 2017 2018 2019 2020 2021 2022 2023 2024\n",
            "==================================================\n",
            "\n",
            "==================================================\n",
            "🔄 Node: \u001b[1;36magent\u001b[0m in [\u001b[1;33mresearcher\u001b[0m] 🔄\n",
            "- - - - - - - - - - - - - - - - - - - - - - - - - \n",
            "==================================\u001b[1m Ai Message \u001b[0m==================================\n",
            "Tool Calls:\n",
            "  tavily_search_results_json (call_1GYJaoETukeHDZ3XZA7guZGk)\n",
            " Call ID: call_1GYJaoETukeHDZ3XZA7guZGk\n",
            "  Args:\n",
            "    query: global per capita GDP from 2015 to 2024 data\n",
            "==================================================\n"
          ]
        }
      ],
      "source": [
        "from langchain_core.runnables import RunnableConfig\n",
        "from langchain_opentutorial.messages import invoke_graph, random_uuid\n",
        "\n",
        "# set up config (recursion_limit, thread_id)\n",
        "config = RunnableConfig(recursion_limit=10, configurable={\"thread_id\": random_uuid()})\n",
        "\n",
        "# input query\n",
        "inputs = {\n",
        "    \"messages\": [\n",
        "        HumanMessage(\n",
        "            content=\"Visualize the global per capita GDP from 2015 to 2024.\"\n",
        "        )\n",
        "    ],\n",
        "}\n",
        "\n",
        "# invoke graph\n",
        "invoke_graph(app, inputs, config, node_names=[\"researcher\", \"chart_generator\", \"agent\"])"
      ]
    },
    {
      "cell_type": "code",
      "execution_count": null,
      "id": "50829e03",
      "metadata": {
        "id": "50829e03"
      },
      "outputs": [],
      "source": []
    },
    {
      "cell_type": "markdown",
      "id": "e897ba67",
      "metadata": {},
      "source": [
        "# Multi-Agent Supervisor\n",
        "\n",
        "Now, we'll explore how to build **a multi-agent system** using **LangGraph** , efficiently coordinate tasks between agents, and manage them through **a Supervisor** .  \n",
        "We'll cover handling multiple agents simultaneously, managing each agent to perform their role, and properly handling task completion.\n",
        "\n",
        "**Key Points** :\n",
        "- The Supervisor brings together various expert agents and operates them as a single team.\n",
        "- The Supervisor agent monitors the team's progress and executes logic such as calling appropriate agents for each step or terminating tasks.\n",
        "\n",
        "<div align=\"center\">\n",
        "  <img src=\"https://github.com/LangChain-OpenTutorial/LangChain-OpenTutorial/blob/main/17-LangGraph/03-Use-Cases/assets/07-langgraph-multi-agent-supervisor.png?raw=1\"/>\n",
        "</div>\n"
      ]
    },
    {
      "cell_type": "markdown",
      "id": "9fff2491",
      "metadata": {},
      "source": [
        "## Setting State\n",
        "\n",
        "Define **state** to be used in the multi-agent system."
      ]
    },
    {
      "cell_type": "code",
      "execution_count": 38,
      "id": "f3830a4a",
      "metadata": {},
      "outputs": [],
      "source": [
        "import operator\n",
        "from typing import Annotated, Sequence\n",
        "\n",
        "from langchain_core.messages import BaseMessage\n",
        "from typing_extensions import TypedDict\n",
        "\n",
        "\n",
        "class AgentState(TypedDict):\n",
        "    \"\"\"Define state to be used in the multi-agent system.\"\"\"\n",
        "    messages: Annotated[Sequence[BaseMessage], operator.add]  # messages\n",
        "    next: str  # next agent to route to"
      ]
    },
    {
      "cell_type": "markdown",
      "id": "f138f1c3",
      "metadata": {},
      "source": [
        "## Creating Agents\n",
        "\n",
        "### Creating Tools\n",
        "\n",
        "In this example, we'll create agents that use a search engine to perform web research and generate plots.\n",
        "\n",
        "Define the tools to be used below.\n",
        "\n",
        "- **Research** : Use ```TavilySearch``` tool to perform web research. To use this tool, you need to set the ```TAVILY_API_KEY``` . Please refer to [previous tutorial](https://langchain-opentutorial.gitbook.io/langchain-opentutorial/15-agent/01-tools#search-api-tooltavily) for more details.\n",
        "- **Coder** : Use ```PythonREPLTool``` tool to run code."
      ]
    },
    {
      "cell_type": "code",
      "execution_count": 39,
      "id": "5cb3a477",
      "metadata": {},
      "outputs": [],
      "source": [
        "from langchain_community.tools.tavily_search import TavilySearchResults\n",
        "from langchain_experimental.tools import PythonREPLTool\n",
        "\n",
        "\n",
        "# Initialize Tavily search tool that returns up to 5 search results\n",
        "tavily_tool = TavilySearchResults(max_results=5)\n",
        "\n",
        "# Initialize Python REPL tool that runs code locally (may not be safe)\n",
        "python_repl_tool = PythonREPLTool()"
      ]
    },
    {
      "cell_type": "markdown",
      "id": "5efdabf5",
      "metadata": {},
      "source": [
        "### Creating Utility for Creating Agents\n",
        "\n",
        "When building a multi-agent system using LangGraph, **helper functions** play a crucial role in creating and managing agent nodes. These functions enhance code reusability and simplify interactions between agents.\n",
        "\n",
        "- **Creating Agent Nodes** : Define functions to create nodes for each agent's role\n",
        "- **Managing Workflow** : Provide utilities to manage the workflow between agents\n",
        "- **Error Handling** : Include mechanisms to handle errors that may occur during agent execution"
      ]
    },
    {
      "cell_type": "markdown",
      "id": "512dfa99",
      "metadata": {},
      "source": [
        "The following is an example of defining a function called ```agent_node``` .\n",
        "\n",
        "This function creates an agent node using the given state and agent. We will call this function later using ```functools.partial``` ."
      ]
    },
    {
      "cell_type": "code",
      "execution_count": 40,
      "id": "9e33f661",
      "metadata": {},
      "outputs": [],
      "source": [
        "from langchain_core.messages import HumanMessage\n",
        "\n",
        "\n",
        "# Create an agent node using the specified agent and name\n",
        "def agent_node(state, agent, name):\n",
        "    # Call the agent\n",
        "    agent_response = agent.invoke(state)\n",
        "    # Convert the last message of the agent to a HumanMessage and return it\n",
        "    return {\n",
        "        \"messages\": [\n",
        "            HumanMessage(content=agent_response[\"messages\"][-1].content, name=name)\n",
        "        ]\n",
        "    }"
      ]
    },
    {
      "cell_type": "markdown",
      "id": "30e65018",
      "metadata": {},
      "source": [
        "Below is an example of creating a ```research_node``` using ```functools.partial``` ."
      ]
    },
    {
      "cell_type": "code",
      "execution_count": 41,
      "id": "532da031",
      "metadata": {},
      "outputs": [],
      "source": [
        "import functools\n",
        "\n",
        "from langchain_openai import AzureChatOpenAI\n",
        "from langgraph.prebuilt import create_react_agent\n",
        "\n",
        "\n",
        "# Create a Research Agent\n",
        "research_agent = create_react_agent(AzureChatOpenAI(model=\"gpt-4.1-mini\"), tools=[tavily_tool])\n",
        "\n",
        "# Create a Research Node\n",
        "research_node = functools.partial(agent_node, agent=research_agent, name=\"Researcher\")"
      ]
    },
    {
      "cell_type": "markdown",
      "id": "946f4661",
      "metadata": {},
      "source": [
        "\n",
        "> **Note**\n",
        ">\n",
        "> Role of ```functools.partial```\n",
        ">\n",
        "> ```functools.partial``` is used to create a new function by fixing some arguments or keyword arguments of an existing function. In other words, it helps simplify commonly used function call patterns.\n",
        ">\n",
        "> **Roles**\n",
        ">\n",
        "> 1. **Create new function with predefined values** : Returns a new function with some arguments of the existing function pre-specified.\n",
        "> 2. **Code simplification** : Reduces code duplication by simplifying commonly used function call patterns.\n",
        "> 3. **Improved readability** : Customizes function behavior for specific tasks to make it more intuitive to use.\n",
        ">\n",
        "> **Example code**\n",
        "> ```python\n",
        "> research_node = functools.partial(agent_node, agent=research_agent, names=\"Researcher\")\n",
        "> ```\n",
        ">\n",
        "> 1. Assume there is an existing function called ```agent_node``` .\n",
        ">    - This function can accept multiple arguments and keyword arguments.\n",
        ">\n",
        "> 2. ```functools.partial``` fixes the values ```agent=research_agent``` and ```names=\"Researcher\"``` for this function.\n",
        ">    - This means that ```research_node``` no longer needs to specify the ```agent``` and ```names``` values when calling ```agent_node``` .\n",
        ">    - For example:\n",
        ">     ```python\n",
        ">     agent_node(state, agent=research_agent, names=\"Researcher\")\n",
        ">     ```\n",
        ">     Instead, you can use:\n",
        ">     ```python\n",
        ">     research_node(state)\n",
        ">     ```"
      ]
    },
    {
      "cell_type": "markdown",
      "id": "86a4acaf",
      "metadata": {},
      "source": [
        "Let's run the code and check the results."
      ]
    },
    {
      "cell_type": "code",
      "execution_count": 42,
      "id": "be876799",
      "metadata": {},
      "outputs": [
        {
          "data": {
            "text/plain": [
              "{'messages': [HumanMessage(content='Sure! Here\\'s a simple \"Hello, World!\" program in Python that prints the message to the terminal:\\n\\n```python\\nprint(\"Hello, World!\")\\n```\\n\\nYou can run this by saving it to a file, for example `hello.py`, and then executing `python hello.py` in your terminal.', additional_kwargs={}, response_metadata={}, name='Researcher')]}"
            ]
          },
          "execution_count": 42,
          "metadata": {},
          "output_type": "execute_result"
        }
      ],
      "source": [
        "research_node(\n",
        "    {\n",
        "        \"messages\": [\n",
        "            HumanMessage(content=\"Code hello world and print it to the terminal\")\n",
        "        ]\n",
        "    }\n",
        ")"
      ]
    },
    {
      "cell_type": "markdown",
      "id": "c265cbbf",
      "metadata": {},
      "source": [
        "### Creating Agent Supervisor\n",
        "\n",
        "Create an agent that manages and supervises agents."
      ]
    },
    {
      "cell_type": "code",
      "execution_count": 43,
      "id": "c39fb3ae",
      "metadata": {},
      "outputs": [],
      "source": [
        "from typing import Literal\n",
        "\n",
        "from pydantic import BaseModel\n",
        "\n",
        "\n",
        "# Define the list of member agents\n",
        "members = [\"Researcher\", \"Coder\"]\n",
        "\n",
        "# Define the list of options for selecting the next worker\n",
        "options_for_next = [\"FINISH\"] + members\n",
        "\n",
        "# Define the response model for selecting the next worker: indicates selecting the next worker or completing the task\n",
        "class RouteResponse(BaseModel):\n",
        "    next: Literal[*options_for_next]"
      ]
    },
    {
      "cell_type": "code",
      "execution_count": 44,
      "id": "a77a0ba4",
      "metadata": {},
      "outputs": [],
      "source": [
        "from langchain_core.prompts import ChatPromptTemplate, MessagesPlaceholder\n",
        "from langchain_openai import ChatOpenAI\n",
        "\n",
        "\n",
        "# Define the system prompt: a supervisor tasked with managing a conversation between workers\n",
        "system_prompt = (\n",
        "    \"You are a supervisor tasked with managing a conversation between the\"\n",
        "    \" following workers:  {members}. Given the following user request,\"\n",
        "    \" respond with the worker to act next. Each worker will perform a\"\n",
        "    \" task and respond with their results and status. When finished,\"\n",
        "    \" respond with FINISH.\"\n",
        ")\n",
        "\n",
        "# Create ChatPromptTemplate\n",
        "prompt = ChatPromptTemplate.from_messages(\n",
        "    [\n",
        "        (\"system\", system_prompt),\n",
        "        MessagesPlaceholder(variable_name=\"messages\"),\n",
        "        (\n",
        "            \"system\",\n",
        "            \"Given the conversation above, who should act next? \"\n",
        "            \"Or should we FINISH? Select one of: {options}\",\n",
        "        ),\n",
        "    ]\n",
        ").partial(options=str(options_for_next), members=\", \".join(members))\n",
        "\n",
        "# Initialize LLM\n",
        "llm = AzureChatOpenAI(model=\"gpt-4.1-mini\", temperature=0)\n",
        "\n",
        "# Create Supervisor Agent\n",
        "def supervisor_agent(state):\n",
        "    # Combine prompt and LLM to create a chain\n",
        "    supervisor_chain = prompt | llm.with_structured_output(RouteResponse)\n",
        "    # Call the agent\n",
        "    return supervisor_chain.invoke(state)"
      ]
    },
    {
      "cell_type": "markdown",
      "id": "7b15b184",
      "metadata": {},
      "source": [
        "## Constructing the Graph\n",
        "\n",
        "Now, we're ready to build the graph. Below, we'll use the functions we just defined to define ```state``` and ```worker``` nodes."
      ]
    },
    {
      "cell_type": "code",
      "execution_count": 45,
      "id": "df4d7da6",
      "metadata": {},
      "outputs": [],
      "source": [
        "import functools\n",
        "\n",
        "from langgraph.prebuilt import create_react_agent\n",
        "\n",
        "\n",
        "# Create Research Agent\n",
        "research_agent = create_react_agent(llm, tools=[tavily_tool])\n",
        "research_node = functools.partial(agent_node, agent=research_agent, name=\"Researcher\")\n",
        "\n",
        "code_system_prompt = \"\"\"\n",
        "Be sure to use the following font in your code for visualization.\n",
        "\n",
        "##### Font Settings #####\n",
        "import matplotlib.pyplot as plt\n",
        "\n",
        "# Set universal font settings\n",
        "plt.rcParams[\"font.family\"] = \"DejaVu Sans\"\n",
        "plt.rcParams[\"axes.unicode_minus\"] = False  # Prevent minus sign from breaking\n",
        "\n",
        "# Set English locale\n",
        "import locale\n",
        "locale.setlocale(locale.LC_ALL, 'en_US.UTF-8')\n",
        "\"\"\"\n",
        "\n",
        "# Create Coder Agent\n",
        "coder_agent = create_react_agent(\n",
        "    llm,\n",
        "    tools=[python_repl_tool],\n",
        "    state_modifier=code_system_prompt,\n",
        ")\n",
        "coder_node = functools.partial(agent_node, agent=coder_agent, name=\"Coder\")"
      ]
    },
    {
      "cell_type": "code",
      "execution_count": 46,
      "id": "3fda7622",
      "metadata": {},
      "outputs": [],
      "source": [
        "from langgraph.checkpoint.memory import MemorySaver\n",
        "from langgraph.graph import END, START, StateGraph\n",
        "\n",
        "\n",
        "# Create graph\n",
        "workflow = StateGraph(AgentState)\n",
        "\n",
        "# Add nodes to the graph\n",
        "workflow.add_node(\"Researcher\", research_node)\n",
        "workflow.add_node(\"Coder\", coder_node)\n",
        "workflow.add_node(\"Supervisor\", supervisor_agent)\n",
        "\n",
        "# Add edges from member nodes to the Supervisor node\n",
        "for member in members:\n",
        "    workflow.add_edge(member, \"Supervisor\")\n",
        "\n",
        "# Add conditional edges\n",
        "conditional_map = {k: k for k in members}\n",
        "conditional_map[\"FINISH\"] = END\n",
        "\n",
        "def get_next(state):\n",
        "    return state[\"next\"]\n",
        "\n",
        "# Add conditional edges from the Supervisor node\n",
        "workflow.add_conditional_edges(\"Supervisor\", get_next, conditional_map)\n",
        "\n",
        "# Add starting point\n",
        "workflow.add_edge(START, \"Supervisor\")\n",
        "\n",
        "# Compile the graph\n",
        "graph = workflow.compile(checkpointer=MemorySaver())"
      ]
    },
    {
      "cell_type": "markdown",
      "id": "bc0627b4",
      "metadata": {},
      "source": [
        "Visualize the graph."
      ]
    },
    {
      "cell_type": "code",
      "execution_count": 48,
      "id": "2659d27c",
      "metadata": {},
      "outputs": [
        {
          "data": {
            "image/png": "[encoded data removed]",
            "text/plain": [
              "<langgraph.graph.state.CompiledStateGraph object at 0x738f85fdbef0>"
            ]
          },
          "execution_count": 48,
          "metadata": {},
          "output_type": "execute_result"
        }
      ],
      "source": [
        "graph"
      ]
    },
    {
      "cell_type": "code",
      "execution_count": null,
      "id": "aea0f88a",
      "metadata": {},
      "outputs": [],
      "source": []
    },
    {
      "cell_type": "code",
      "execution_count": 47,
      "id": "048bf211",
      "metadata": {},
      "outputs": [
        {
          "data": {
            "image/png": "[encoded data removed]",
            "text/plain": [
              "<IPython.core.display.Image object>"
            ]
          },
          "metadata": {},
          "output_type": "display_data"
        }
      ],
      "source": [
        "# sudo apt install graphviz graphviz-dev pkg-config \n",
        "# pip install pygraphviz\n",
        "from IPython.display import display,Image\n",
        "display(Image(graph.get_graph(xray=True).draw_mermaid_png()))"
      ]
    },
    {
      "cell_type": "code",
      "execution_count": 49,
      "id": "73879b48",
      "metadata": {},
      "outputs": [
        {
          "data": {
            "image/png": "[encoded data removed]",
            "text/plain": [
              "<IPython.core.display.Image object>"
            ]
          },
          "metadata": {},
          "output_type": "display_data"
        }
      ],
      "source": [
        "from langchain_opentutorial.graphs import visualize_graph\n",
        "\n",
        "visualize_graph(graph)"
      ]
    },
    {
      "cell_type": "markdown",
      "id": "769aedda",
      "metadata": {},
      "source": [
        "## Calling the Team\n",
        "\n",
        "Now, we can check the performance by calling the graph."
      ]
    },
    {
      "cell_type": "code",
      "execution_count": 50,
      "id": "e7c3fa07",
      "metadata": {},
      "outputs": [
        {
          "name": "stdout",
          "output_type": "stream",
          "text": [
            "\n",
            "==================================================\n",
            "🔄 Node: \u001b[1;36mSupervisor\u001b[0m 🔄\n",
            "- - - - - - - - - - - - - - - - - - - - - - - - - \n",
            "\u001b[1;32mnext\u001b[0m:\n",
            "Researcher\n",
            "==================================================\n",
            "\n",
            "==================================================\n",
            "🔄 Node: \u001b[1;36magent\u001b[0m in [\u001b[1;33mResearcher\u001b[0m] 🔄\n",
            "- - - - - - - - - - - - - - - - - - - - - - - - - \n",
            "==================================\u001b[1m Ai Message \u001b[0m==================================\n",
            "Tool Calls:\n",
            "  tavily_search_results_json (call_QeFFQ24k7fWq5Qf02t6ol8Dn)\n",
            " Call ID: call_QeFFQ24k7fWq5Qf02t6ol8Dn\n",
            "  Args:\n",
            "    query: GDP per capita of South Korea from 2010 to 2024\n",
            "==================================================\n",
            "\n",
            "==================================================\n",
            "🔄 Node: \u001b[1;36mtools\u001b[0m in [\u001b[1;33mResearcher\u001b[0m] 🔄\n",
            "- - - - - - - - - - - - - - - - - - - - - - - - - \n",
            "=================================\u001b[1m Tool Message \u001b[0m=================================\n",
            "Name: tavily_search_results_json\n",
            "\n",
            "[{\"title\": \"South Korea - gross domestic product (GDP) per capita 1989-2030\", \"url\": \"https://www.statista.com/statistics/939347/gross-domestic-product-gdp-per-capita-in-south-korea/\", \"content\": \"The gross domestic product (GDP) per capita in South Korea was forecast to continuously increase between 2024 and 2030 by in total 5,762.76 U.S. dollars (+15.95 percent). After the seventh consecutive increasing year, the GDP per capita is estimated to reach 41,891.75 U.S. dollars and therefore a new peak in 2030. [...] | Characteristic | GDP per capita in U.S. dollars |\\n| --- | --- |\\n| 2030\\\\* | 41,891.75 |\\n| 2029\\\\* | 40,340.63 |\\n| 2028\\\\* | 38,849.92 |\\n| 2027\\\\* | 37,367.37 |\\n| 2026\\\\* | 35,880.22 |\\n| 2025\\\\* | 34,641.74 |\\n| 2024 | 36,128.99 |\\n| 2023 | 35,563.05 |\\n| 2022 | 34,822.41 |\\n| 2021 | 37,518.47 |\\n| 2020 | 33,653.2 |\\n| 2019 | 33,826.94 |\\n| 2018 | 35,363.95 |\\n| 2017 | 33,296.98 |\\n| 2016 | 30,825.52 |\\n| 2015 | 30,171.79 |\\n| 2014 | 30,667.09 |\\n| 2013 | 28,449.36 |\\n| 2012 | 26,600.55 |\\n| 2011 | 26,177.94 | [...] ![South Korea: Growth of real gross domestic product (GDP) from 1954 to 2023, with projections until 2030 (compared to the previous year)](https://cdn.statcdn.com/Statistic/260000/263758-blank-100.png)\\n\\nInternational\\n\\nGross domestic product (GDP) growth in South Korea 1954-2030\\n\\n![Real gross domestic product (GDP) of South Korea in 2024, by industry (in trillion South Korean won)](https://cdn.statcdn.com/Statistic/1200000/1200219-blank-100.png)\\n\\nEconomy\\n\\nGDP South Korea 2024, by industry\", \"score\": 0.875031}, {\"title\": \"South Korea GDP per capita - Trading Economics\", \"url\": \"https://tradingeconomics.com/south-korea/gdp-per-capita\", \"content\": \"| [Gross National Product](/south-korea/gross-national-product) | 596151.80 | 568971.20 | KRW Billion | Dec 2024 | [...] ##### **Members**\\n\\n##### \\n\\n# South Korea GDP per capita\\n\\n## The Gross Domestic Product per capita in South Korea was last recorded at 34121.02 US dollars in 2023. The GDP per Capita in South Korea is equivalent to 270 percent of the world's average. GDP per Capita in South Korea averaged 13355.98 USD from 1960 until 2023, reaching an all time high of 34121.02 USD in 2023 and a record low of 1027.65 USD in 1960. source: [World Bank](https://www.worldbank.org/)\\n\\n## [...] | Related | Last | Previous | Unit | Reference |\\n| --- | --- | --- | --- | --- |\\n| [Full Year GDP Growth](/south-korea/full-year-gdp-growth) | 2.00 | 1.40 | percent | Dec 2024 |\\n| [GDP](/south-korea/gdp) | 1712.79 | 1673.92 | USD Billion | Dec 2023 |\\n| [GDP Growth Rate YoY](/south-korea/gdp-growth-annual) | -0.10 | 1.20 | percent | Mar 2025 |\\n| [GDP Constant Prices](/south-korea/gdp-constant-prices) | 571186.60 | 572594.90 | KRW Billion | Mar 2025 |\", \"score\": 0.8591094}, {\"title\": \"Economy of South Korea - Wikipedia\", \"url\": \"https://en.wikipedia.org/wiki/Economy_of_South_Korea\", \"content\": \"*   [14th (PPP, 2024)](https://en.wikipedia.org/wiki/List_of_countries_by_GDP_(PPP) \\\"List of countries by GDP (PPP)\\\")\\nGDP growth*   1.4%(2023)\\n*   2.3%(2024)\\nGDP per capita*   ![Image 8: Increase](https://upload.wikimedia.org/wikipedia/commons/thumb/b/b0/Increase2.svg/20px-Increase2.svg.png) $37,672 (nominal; 2025)[[3]](https://en.wikipedia.org/wiki/Economy_of_South_Korea#cite_note-IMFWEODE-3) [...] | 2024 | ![Image 384: Increase](https://upload.wikimedia.org/wikipedia/commons/thumb/b/b0/Increase2.svg/20px-Increase2.svg.png)3,065.4 | ![Image 385: Increase](https://upload.wikimedia.org/wikipedia/commons/thumb/b/b0/Increase2.svg/20px-Increase2.svg.png)59,526.8 | ![Image 386: Increase](https://upload.wikimedia.org/wikipedia/commons/thumb/b/b0/Increase2.svg/20px-Increase2.svg.png)1,879.0 | ![Image 387: [...] *   [services](https://en.wikipedia.org/wiki/Tertiary_sector_of_the_economy \\\"Tertiary sector of the economy\\\"): 58.4%\\n*   (2023 est.)[[4]](https://en.wikipedia.org/wiki/Economy_of_South_Korea#cite_note-CIAWFKS-4)\\n[Inflation](https://en.wikipedia.org/wiki/Inflation \\\"Inflation\\\") ([CPI](https://en.wikipedia.org/wiki/Consumer_price_index \\\"Consumer price index\\\"))2.5% (2024)[[3]](https://en.wikipedia.org/wiki/Economy_of_South_Korea#cite_note-IMFWEODE-3)\", \"score\": 0.8332299}, {\"title\": \"Korea, Rep. GDP Per Capita - World Economics\", \"url\": \"https://www.worldeconomics.com/GrossDomesticProduct/Real-GDP-Per-Capita-PPP/Korea.aspx\", \"content\": \"GDP per Capita in Korea, Rep. is estimated to be $47,509 international dollars at the end of 2024. The economy of Korea, Rep. has grown at an average annual\", \"score\": 0.8091708}, {\"title\": \"Constant GDP per capita for the Republic of Korea - FRED\", \"url\": \"https://fred.stlouisfed.org/series/NYGDPPCAPKDKOR\", \"content\": \"[](https://fred.stlouisfed.org/series/NYGDPPCAPKDKOR# \\\"Add to Favorites\\\")Constant GDP per capita for the Republic of Korea (NYGDPPCAPKDKOR)\\n================================================================================================================================\\n\\n \\n\\nObservations\\n\\n2023: 34,121.02118 | 2010 U.S. Dollars | Annual\\n\\nUpdated: Jul 2, 2024 2:07 PM CDT\\n\\nNext Release Date: Not Available\\n\\nObservations\\n\\n2023: 34,121.02118\\n\\nUpdated: Jul 2, 2024 2:07 PM CDT [...] <table id=\\\"recent-obs\\\" class=\\\"table table-condensed\\\"><tbody><tr><td align=\\\"right\\\">2023:&#160;</td><td align=\\\"right\\\" class=\\\"series-obs value\\\">34,121.02118</td><td>&#160;</td></tr><tr><td align=\\\"right\\\">2022:&#160;</td><td align=\\\"right\\\" class=\\\"series-obs value\\\">33,690.37888</td><td>&#160;</td></tr><tr><td align=\\\"right\\\">2021:&#160;</td><td align=\\\"right\\\" class=\\\"series-obs value\\\">32,771.07242</td><td>&#160;</td></tr><tr><td align=\\\"right\\\">2020:&#160;</td><td align=\\\"right\\\" class=\\\"series-obs\", \"score\": 0.7892503}]\n",
            "==================================================\n",
            "\n",
            "==================================================\n",
            "🔄 Node: \u001b[1;36magent\u001b[0m in [\u001b[1;33mResearcher\u001b[0m] 🔄\n",
            "- - - - - - - - - - - - - - - - - - - - - - - - - \n",
            "==================================\u001b[1m Ai Message \u001b[0m==================================\n",
            "\n",
            "Here is the GDP per capita of South Korea from 2010 to 2024 in U.S. dollars:\n",
            "\n",
            "- 2010: Data not explicitly found in the search results\n",
            "- 2011: 26,177.94\n",
            "- 2012: 26,600.55\n",
            "- 2013: 28,449.36\n",
            "- 2014: 30,667.09\n",
            "- 2015: 30,171.79\n",
            "- 2016: 30,825.52\n",
            "- 2017: 33,296.98\n",
            "- 2018: 35,363.95\n",
            "- 2019: 33,826.94\n",
            "- 2020: 33,653.2\n",
            "- 2021: 37,518.47\n",
            "- 2022: 34,822.41\n",
            "- 2023: 35,563.05\n",
            "- 2024: 36,128.99 (forecast)\n",
            "\n",
            "I will now create a visualization of this data.\n",
            "I have visualized the GDP per capita of South Korea from 2011 to 2024 based on the available data:\n",
            "\n",
            "Years: 2011 to 2024\n",
            "GDP per capita (in USD):\n",
            "2011: 26,177.94\n",
            "2012: 26,600.55\n",
            "2013: 28,449.36\n",
            "2014: 30,667.09\n",
            "2015: 30,171.79\n",
            "2016: 30,825.52\n",
            "2017: 33,296.98\n",
            "2018: 35,363.95\n",
            "2019: 33,826.94\n",
            "2020: 33,653.2\n",
            "2021: 37,518.47\n",
            "2022: 34,822.41\n",
            "2023: 35,563.05\n",
            "2024: 36,128.99 (forecast)\n",
            "\n",
            "The trend shows a general increase in GDP per capita over the years with some fluctuations. The forecast for 2024 indicates continued growth. If you want, I can provide a graphical plot of this data. Would you like me to do that?\n",
            "==================================================\n",
            "\n",
            "==================================================\n",
            "🔄 Node: \u001b[1;36mResearcher\u001b[0m 🔄\n",
            "- - - - - - - - - - - - - - - - - - - - - - - - - \n",
            "================================\u001b[1m Human Message \u001b[0m=================================\n",
            "Name: Researcher\n",
            "\n",
            "Here is the GDP per capita of South Korea from 2010 to 2024 in U.S. dollars:\n",
            "\n",
            "- 2010: Data not explicitly found in the search results\n",
            "- 2011: 26,177.94\n",
            "- 2012: 26,600.55\n",
            "- 2013: 28,449.36\n",
            "- 2014: 30,667.09\n",
            "- 2015: 30,171.79\n",
            "- 2016: 30,825.52\n",
            "- 2017: 33,296.98\n",
            "- 2018: 35,363.95\n",
            "- 2019: 33,826.94\n",
            "- 2020: 33,653.2\n",
            "- 2021: 37,518.47\n",
            "- 2022: 34,822.41\n",
            "- 2023: 35,563.05\n",
            "- 2024: 36,128.99 (forecast)\n",
            "\n",
            "I will now create a visualization of this data.\n",
            "I have visualized the GDP per capita of South Korea from 2011 to 2024 based on the available data:\n",
            "\n",
            "Years: 2011 to 2024\n",
            "GDP per capita (in USD):\n",
            "2011: 26,177.94\n",
            "2012: 26,600.55\n",
            "2013: 28,449.36\n",
            "2014: 30,667.09\n",
            "2015: 30,171.79\n",
            "2016: 30,825.52\n",
            "2017: 33,296.98\n",
            "2018: 35,363.95\n",
            "2019: 33,826.94\n",
            "2020: 33,653.2\n",
            "2021: 37,518.47\n",
            "2022: 34,822.41\n",
            "2023: 35,563.05\n",
            "2024: 36,128.99 (forecast)\n",
            "\n",
            "The trend shows a general increase in GDP per capita over the years with some fluctuations. The forecast for 2024 indicates continued growth. If you want, I can provide a graphical plot of this data. Would you like me to do that?\n",
            "==================================================\n",
            "\n",
            "==================================================\n",
            "🔄 Node: \u001b[1;36mSupervisor\u001b[0m 🔄\n",
            "- - - - - - - - - - - - - - - - - - - - - - - - - \n",
            "\u001b[1;32mnext\u001b[0m:\n",
            "Coder\n",
            "==================================================\n"
          ]
        },
        {
          "data": {
            "image/png": "[encoded data removed]",
            "text/plain": [
              "<Figure size 1000x600 with 1 Axes>"
            ]
          },
          "metadata": {},
          "output_type": "display_data"
        },
        {
          "name": "stdout",
          "output_type": "stream",
          "text": [
            "\n",
            "==================================================\n",
            "\n",
            "==================================================\n",
            "🔄 Node: \u001b[1;36mtools\u001b[0m in [\u001b[1;33mCoder\u001b[0m] 🔄\n",
            "- - - - - - - - - - - - - - - - - - - - - - - - - \n",
            "=================================\u001b[1m Tool Message \u001b[0m=================================\n",
            "Name: Python_REPL\n",
            "\n",
            "🔄 Node: \u001b[1;36magent\u001b[0m in [\u001b[1;33mCoder\u001b[0m] 🔄\n",
            "- - - - - - - - - - - - - - - - - - - - - - - - - \n",
            "==================================\u001b[1m Ai Message \u001b[0m==================================\n",
            "\n",
            "I will create a graphical plot of the GDP per capita of South Korea from 2011 to 2024 based on the data provided.\n",
            "Tool Calls:\n",
            "  Python_REPL (call_sKAb1um7ULboLeeXyPraBXSA)\n",
            " Call ID: call_sKAb1um7ULboLeeXyPraBXSA\n",
            "  Args:\n",
            "    query: import matplotlib.pyplot as plt\n",
            "\n",
            "# Set universal font settings\n",
            "plt.rcParams[\"font.family\"] = \"DejaVu Sans\"\n",
            "plt.rcParams[\"axes.unicode_minus\"] = False\n",
            "\n",
            "# Data\n",
            "years = list(range(2011, 2025))\n",
            "gdp_per_capita = [26177.94, 26600.55, 28449.36, 30667.09, 30171.79, 30825.52, 33296.98, 35363.95, 33826.94, 33653.2, 37518.47, 34822.41, 35563.05, 36128.99]\n",
            "\n",
            "# Plot\n",
            "plt.figure(figsize=(10, 6))\n",
            "plt.plot(years, gdp_per_capita, marker='o', linestyle='-', color='b')\n",
            "plt.title('GDP per Capita of South Korea (2011-2024)')\n",
            "plt.xlabel('Year')\n",
            "plt.ylabel('GDP per Capita (USD)')\n",
            "plt.grid(True)\n",
            "plt.xticks(years, rotation=45)\n",
            "plt.tight_layout()\n",
            "plt.show()\n",
            "==================================================\n",
            "\n",
            "==================================================\n",
            "\n",
            "==================================================\n",
            "🔄 Node: \u001b[1;36magent\u001b[0m in [\u001b[1;33mCoder\u001b[0m] 🔄\n",
            "- - - - - - - - - - - - - - - - - - - - - - - - - \n",
            "==================================\u001b[1m Ai Message \u001b[0m==================================\n",
            "\n",
            "The plot of the GDP per capita of South Korea from 2011 to 2024 has been created. It shows a general upward trend with some fluctuations, and the forecast for 2024 indicates continued growth. If you need any further analysis or a different visualization, please let me know!\n",
            "==================================================\n",
            "\n",
            "==================================================\n",
            "🔄 Node: \u001b[1;36mCoder\u001b[0m 🔄\n",
            "- - - - - - - - - - - - - - - - - - - - - - - - - \n",
            "================================\u001b[1m Human Message \u001b[0m=================================\n",
            "Name: Coder\n",
            "\n",
            "The plot of the GDP per capita of South Korea from 2011 to 2024 has been created. It shows a general upward trend with some fluctuations, and the forecast for 2024 indicates continued growth. If you need any further analysis or a different visualization, please let me know!\n",
            "==================================================\n",
            "\n",
            "==================================================\n",
            "🔄 Node: \u001b[1;36mSupervisor\u001b[0m 🔄\n",
            "- - - - - - - - - - - - - - - - - - - - - - - - - \n",
            "\u001b[1;32mnext\u001b[0m:\n",
            "FINISH\n",
            "==================================================\n"
          ]
        }
      ],
      "source": [
        "import uuid\n",
        "\n",
        "from langchain_core.runnables import RunnableConfig\n",
        "from langchain_opentutorial.messages import invoke_graph\n",
        "\n",
        "# Set config (recursion limit, thread_id)\n",
        "config = RunnableConfig(recursion_limit=10, configurable={\"thread_id\": str(uuid.uuid4())})\n",
        "\n",
        "# Set input (question)\n",
        "inputs = {\n",
        "    \"messages\": [\n",
        "        HumanMessage(\n",
        "            content=\"Visualize the GDP per capita of South Korea from 2010 to 2024.\"\n",
        "        )\n",
        "    ],\n",
        "}\n",
        "\n",
        "# Run the graph\n",
        "invoke_graph(graph, inputs, config)"
      ]
    },
    {
      "cell_type": "code",
      "execution_count": null,
      "id": "a4cad164",
      "metadata": {},
      "outputs": [],
      "source": []
    }
  ],
  "metadata": {
    "colab": {
      "provenance": []
    },
    "kernelspec": {
      "display_name": "base",
      "language": "python",
      "name": "python3"
    },
    "language_info": {
      "codemirror_mode": {
        "name": "ipython",
        "version": 3
      },
      "file_extension": ".py",
      "mimetype": "text/x-python",
      "name": "python",
      "nbconvert_exporter": "python",
      "pygments_lexer": "ipython3",
      "version": "3.10.9"
    }
  },
  "nbformat": 4,
  "nbformat_minor": 5
}

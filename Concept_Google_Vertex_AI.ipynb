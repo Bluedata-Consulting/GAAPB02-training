{
  "nbformat": 4,
  "nbformat_minor": 0,
  "metadata": {
    "colab": {
      "provenance": [],
      "authorship_tag": "ABX9TyOEFXAt8tHEnjZMzjFTmolC",
      "include_colab_link": true
    },
    "kernelspec": {
      "name": "python3",
      "display_name": "Python 3"
    },
    "language_info": {
      "name": "python"
    }
  },
  "cells": [
    {
      "cell_type": "markdown",
      "metadata": {
        "id": "view-in-github",
        "colab_type": "text"
      },
      "source": [
        "<a href=\"https://colab.research.google.com/github/Bluedata-Consulting/GAAPB02-training/blob/main/Concept_Google_Vertex_AI.ipynb\" target=\"_parent\"><img src=\"https://colab.research.google.com/assets/colab-badge.svg\" alt=\"Open In Colab\"/></a>"
      ]
    },
    {
      "cell_type": "code",
      "execution_count": 1,
      "metadata": {
        "id": "BDzu5o5FQAHE"
      },
      "outputs": [],
      "source": [
        "!pip install google-genai --quiet"
      ]
    },
    {
      "cell_type": "code",
      "source": [
        "import sys\n",
        "if \"google.colab\" in sys.modules:\n",
        "  from google.colab import auth\n",
        "  auth.authenticate_user()"
      ],
      "metadata": {
        "id": "DnlomYTmQU3d"
      },
      "execution_count": 2,
      "outputs": []
    },
    {
      "cell_type": "code",
      "source": [
        "from google import genai"
      ],
      "metadata": {
        "id": "9Ofb8gKMQ0c3"
      },
      "execution_count": 3,
      "outputs": []
    },
    {
      "cell_type": "code",
      "source": [
        "\n",
        "client = genai.Client(\n",
        "  vertexai=True, project=\"jrproject-402905\", location=\"global\",)"
      ],
      "metadata": {
        "id": "jUGKbuLCQ3nm"
      },
      "execution_count": 4,
      "outputs": []
    },
    {
      "cell_type": "code",
      "source": [
        "model = \"gemini-2.5-flash\"\n",
        "\n",
        "response = client.models.generate_content(\n",
        "  model=model,\n",
        "  contents=[\n",
        "    \"What is quantum computing?\",\n",
        "  ],\n",
        ")\n",
        "print(response.text, end=\"\")"
      ],
      "metadata": {
        "colab": {
          "base_uri": "https://localhost:8080/"
        },
        "id": "Kgd3OrUFQgDP",
        "outputId": "e7c56188-3d2a-46be-f297-d8309dd118ad"
      },
      "execution_count": 5,
      "outputs": [
        {
          "output_type": "stream",
          "name": "stdout",
          "text": [
            "Quantum computing is a revolutionary type of computing that leverages the principles of **quantum mechanics** (the physics governing the incredibly small world of atoms and subatomic particles) to perform calculations.\n",
            "\n",
            "Unlike classical computers that store information as **bits** (which can be either a 0 or a 1), quantum computers use **qubits**.\n",
            "\n",
            "Here's a breakdown of its core concepts and how it differs:\n",
            "\n",
            "### Key Concepts of Quantum Computing\n",
            "\n",
            "1.  **Qubits (Quantum Bits):**\n",
            "    *   **Classical Bit:** Always in a definite state (0 or 1). Like a light switch that's either on or off.\n",
            "    *   **Qubit:** Can be 0, 1, or **both simultaneously** due to a quantum phenomenon called **superposition**. Imagine a spinning coin that is both heads AND tails until it lands. This means a single qubit can represent much more information than a classical bit.\n",
            "\n",
            "2.  **Superposition:**\n",
            "    *   The ability of a qubit to exist in multiple states at once.\n",
            "    *   If you have 'n' qubits in superposition, they can represent `2^n` states simultaneously. This is where the exponential power comes from. A classical computer with 'n' bits can only represent one of those `2^n` states at any given moment.\n",
            "\n",
            "3.  **Entanglement:**\n",
            "    *   A unique and bizarre quantum phenomenon where two or more qubits become linked in such a way that they share the same fate, no matter how far apart they are.\n",
            "    *   Measuring the state of one entangled qubit instantly tells you something about the state of the other(s), even if they are light-years away.\n",
            "    *   This \"spooky action at a distance\" allows quantum computers to perform incredibly complex correlations and computations across multiple qubits simultaneously, vastly increasing their processing power for certain problems.\n",
            "\n",
            "4.  **Interference:**\n",
            "    *   Similar to how waves can interfere with each other (constructively, amplifying each other; or destructively, canceling each other out), quantum computers use interference to amplify the probability of correct answers and diminish the probability of incorrect ones.\n",
            "    *   Quantum algorithms are designed to cause incorrect solutions to cancel each other out, leaving the correct solution more prominent when measured.\n",
            "\n",
            "### How it Works (in Simple Terms)\n",
            "\n",
            "1.  **Initialization:** Qubits are set to an initial state, often in superposition.\n",
            "2.  **Quantum Gates:** Operations (analogous to logic gates in classical computers) are applied to the qubits to manipulate their quantum states, creating superposition and entanglement. These gates are carefully designed to perform calculations.\n",
            "3.  **Measurement:** At the end of the computation, the qubits are \"measured.\" This collapses their superposition, and they \"choose\" a definite state (0 or 1). Because of the probabilistic nature, a quantum computation might need to be run multiple times to confirm the most likely answer.\n",
            "\n",
            "### Why is it Powerful?\n",
            "\n",
            "The combination of superposition and entanglement allows quantum computers to:\n",
            "\n",
            "*   **Explore many possibilities simultaneously:** Rather than testing possibilities one by one (like a classical computer), a quantum computer can explore all of them at once.\n",
            "*   **Solve certain problems exponentially faster:** For specific types of problems, the speed-up is not just a few times faster, but *exponentially* faster, meaning problems that would take billions of years for a classical computer could potentially be solved in minutes or hours.\n",
            "\n",
            "### What Problems Can It Solve?\n",
            "\n",
            "Quantum computers are not meant to replace classical computers for everyday tasks like browsing the web or running spreadsheets. Instead, they are powerful tools for highly complex problems that are intractable for even the most powerful supercomputers today:\n",
            "\n",
            "*   **Drug Discovery & Material Science:** Simulating molecular interactions with unprecedented accuracy to design new drugs, catalysts, and materials.\n",
            "*   **Optimization Problems:** Finding the most efficient routes (e.g., for logistics), optimizing financial portfolios, or scheduling complex operations.\n",
            "*   **Cryptography:** Breaking currently secure encryption methods (like RSA) and developing new, quantum-resistant ones.\n",
            "*   **Artificial Intelligence & Machine Learning:** Enhancing AI algorithms for pattern recognition, data analysis, and complex learning tasks.\n",
            "*   **Financial Modeling:** Creating more accurate and sophisticated models for risk assessment and market prediction.\n",
            "\n",
            "### Current Status & Challenges\n",
            "\n",
            "Quantum computing is still in its early stages (\"NISQ - Noisy Intermediate-Scale Quantum\" era). Building stable, large-scale quantum computers is incredibly challenging due to:\n",
            "\n",
            "*   **Decoherence:** Qubits are very fragile and easily lose their quantum properties due to environmental interference (heat, vibration, electromagnetic noise).\n",
            "*   **Error Correction:** Quantum errors are difficult to detect and correct, requiring many \"physical\" qubits to create a single \"logical\" error-free qubit.\n",
            "*   **Scalability:** Building and maintaining systems with many entangled qubits is a significant engineering hurdle.\n",
            "\n",
            "Despite the challenges, significant progress is being made by companies like IBM, Google, Microsoft, and many startups. Quantum computing has the potential to revolutionize numerous fields, opening up possibilities we can only begin to imagine."
          ]
        }
      ]
    },
    {
      "cell_type": "code",
      "source": [
        "!pip install langchain-google-genai langchain-google-vertexai --quiet"
      ],
      "metadata": {
        "colab": {
          "base_uri": "https://localhost:8080/"
        },
        "id": "qpZo3j5HRvqd",
        "outputId": "9859e596-d13d-44fb-ebc5-d3246d28bf70"
      },
      "execution_count": 6,
      "outputs": [
        {
          "output_type": "stream",
          "name": "stdout",
          "text": [
            "\u001b[?25l   \u001b[90m━━━━━━━━━━━━━━━━━━━━━━━━━━━━━━━━━━━━━━━━\u001b[0m \u001b[32m0.0/44.8 kB\u001b[0m \u001b[31m?\u001b[0m eta \u001b[36m-:--:--\u001b[0m\r\u001b[2K   \u001b[90m━━━━━━━━━━━━━━━━━━━━━━━━━━━━━━━━━━━━━━━━\u001b[0m \u001b[32m44.8/44.8 kB\u001b[0m \u001b[31m1.9 MB/s\u001b[0m eta \u001b[36m0:00:00\u001b[0m\n",
            "\u001b[2K   \u001b[90m━━━━━━━━━━━━━━━━━━━━━━━━━━━━━━━━━━━━━━━━\u001b[0m \u001b[32m102.5/102.5 kB\u001b[0m \u001b[31m4.1 MB/s\u001b[0m eta \u001b[36m0:00:00\u001b[0m\n",
            "\u001b[2K   \u001b[90m━━━━━━━━━━━━━━━━━━━━━━━━━━━━━━━━━━━━━━━━\u001b[0m \u001b[32m1.4/1.4 MB\u001b[0m \u001b[31m28.9 MB/s\u001b[0m eta \u001b[36m0:00:00\u001b[0m\n",
            "\u001b[2K   \u001b[90m━━━━━━━━━━━━━━━━━━━━━━━━━━━━━━━━━━━━━━━━\u001b[0m \u001b[32m42.1/42.1 MB\u001b[0m \u001b[31m9.7 MB/s\u001b[0m eta \u001b[36m0:00:00\u001b[0m\n",
            "\u001b[2K   \u001b[90m━━━━━━━━━━━━━━━━━━━━━━━━━━━━━━━━━━━━━━━━\u001b[0m \u001b[32m44.7/44.7 kB\u001b[0m \u001b[31m2.8 MB/s\u001b[0m eta \u001b[36m0:00:00\u001b[0m\n",
            "\u001b[?25h\u001b[31mERROR: pip's dependency resolver does not currently take into account all the packages that are installed. This behaviour is the source of the following dependency conflicts.\n",
            "google-generativeai 0.8.5 requires google-ai-generativelanguage==0.6.15, but you have google-ai-generativelanguage 0.6.18 which is incompatible.\u001b[0m\u001b[31m\n",
            "\u001b[0m"
          ]
        }
      ]
    },
    {
      "cell_type": "code",
      "source": [
        "import vertexai\n",
        "vertexai.init(project=\"jrproject-402905\",location='global')"
      ],
      "metadata": {
        "id": "F4Nt_ppHSaIn"
      },
      "execution_count": 8,
      "outputs": []
    },
    {
      "cell_type": "code",
      "source": [
        "from langchain_google_vertexai import ChatVertexAI\n",
        "model_name = \"gemini-2.5-flash\"\n",
        "model = ChatVertexAI(model_name=model_name,max_tokens=500)"
      ],
      "metadata": {
        "id": "VxDdtUjIRJdw"
      },
      "execution_count": 11,
      "outputs": []
    },
    {
      "cell_type": "code",
      "source": [
        "from langchain_core.output_parsers import StrOutputParser\n",
        "parser = StrOutputParser()"
      ],
      "metadata": {
        "id": "tmvo5baFTMgY"
      },
      "execution_count": 12,
      "outputs": []
    },
    {
      "cell_type": "code",
      "source": [
        "from langchain_core.prompts import ChatPromptTemplate,MessagesPlaceholder\n",
        "prompt = ChatPromptTemplate.from_messages([(\"system\",\"you are an essy asisstant taksed with writing a 5 line essay.\"),\n",
        "                                           (\"user\",\"write an essay on {topic}\")])\n",
        "\n",
        "# create a chain\n",
        "chain = prompt | model | parser"
      ],
      "metadata": {
        "id": "SZXvBvuCSXQl"
      },
      "execution_count": 15,
      "outputs": []
    },
    {
      "cell_type": "code",
      "source": [
        "chain.invoke({\"topic\":\"AI Agents\"})"
      ],
      "metadata": {
        "colab": {
          "base_uri": "https://localhost:8080/",
          "height": 72
        },
        "id": "Piz-KJLdTinS",
        "outputId": "c5c2c541-92c3-4dcf-f618-1b87adb05d5f"
      },
      "execution_count": 16,
      "outputs": [
        {
          "output_type": "execute_result",
          "data": {
            "text/plain": [
              "'AI Agents are autonomous entities designed to perceive, reason, and act within environments. They leverage algorithms and data to make decisions, striving to achieve pre-defined goals. From optimizing logistics to powering conversational interfaces, they automate complex tasks efficiently. Their ability to learn and adapt continuously enhances their performance over time. These intelligent systems are rapidly shaping the future of work, technology, and daily life.'"
            ],
            "application/vnd.google.colaboratory.intrinsic+json": {
              "type": "string"
            }
          },
          "metadata": {},
          "execution_count": 16
        }
      ]
    },
    {
      "cell_type": "code",
      "source": [],
      "metadata": {
        "id": "c0KKxd6dTnMH"
      },
      "execution_count": null,
      "outputs": []
    },
    {
      "cell_type": "markdown",
      "source": [
        "# Google Generative AI\n",
        "**Developer Friendly APproach**\n",
        "- using API Key\n",
        "- generate your API key at: https://aistudio.google.com/apikey\n"
      ],
      "metadata": {
        "id": "psSLpHQvVOBg"
      }
    },
    {
      "cell_type": "code",
      "source": [],
      "metadata": {
        "id": "NVUbiMSaVZPl"
      },
      "execution_count": null,
      "outputs": []
    }
  ]
}
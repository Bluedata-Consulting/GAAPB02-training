{
  "cells": [
    {
      "cell_type": "markdown",
      "metadata": {
        "id": "view-in-github",
        "colab_type": "text"
      },
      "source": [
        "<a href=\"https://colab.research.google.com/github/Bluedata-Consulting/GAAPB01-training-code-base/blob/main/Concept_langfuse_prompt_management_version_Control.ipynb\" target=\"_parent\"><img src=\"https://colab.research.google.com/assets/colab-badge.svg\" alt=\"Open In Colab\"/></a>"
      ]
    },
    {
      "cell_type": "markdown",
      "id": "635ef627",
      "metadata": {
        "id": "635ef627"
      },
      "source": [
        "# Prompt Versioning, Testing & Tracing with **Langfuse**\n",
        "_A hands‑on guide for Generative AI Architects (local deployment)_\n",
        "\n",
        "---\n",
        "## 1  Why Langfuse?\n",
        "- **Prompt management** – track versions, diff, roll back.\n",
        "- **Prompt testing** – automated & human/LLM evaluations.\n",
        "- **Tracing** – token‑level observability.\n"
      ]
    },
    {
      "cell_type": "markdown",
      "id": "8d8e251c",
      "metadata": {
        "id": "8d8e251c"
      },
      "source": [
        "## 2  Spin up Langfuse locally\n",
        "```bash\n",
        "docker compose up -d\n",
        "open http://localhost:3000   # admin / admin\n",
        "```\n"
      ]
    },
    {
      "cell_type": "code",
      "source": [
        "!pip install langfuse --quiet"
      ],
      "metadata": {
        "id": "bNhbMddxY8Br"
      },
      "id": "bNhbMddxY8Br",
      "execution_count": 31,
      "outputs": []
    },
    {
      "cell_type": "code",
      "source": [
        "import os\n",
        "os.environ[\"LANGFUSE_PUBLIC_KEY\"] = \"pk-lf-xxxxxxxxxxx\"\n",
        "os.environ[\"LANGFUSE_SECRET_KEY\"] = \"sk-lf-xxxxxxxxxxxxxxxxxxxx\"\n",
        "os.environ[\"LANGFUSE_HOST\"] = \"https://us.cloud.langfuse.com\" #\"http://localhost:3000\""
      ],
      "metadata": {
        "id": "NZMggQgNYqb7"
      },
      "id": "NZMggQgNYqb7",
      "execution_count": 32,
      "outputs": []
    },
    {
      "cell_type": "markdown",
      "id": "dbde3fe3",
      "metadata": {
        "id": "dbde3fe3"
      },
      "source": [
        "## 3  Prompt Creation via Python SDK"
      ]
    },
    {
      "cell_type": "code",
      "source": [
        "from langfuse import Langfuse\n",
        "import langfuse as lf\n",
        "import os, textwrap\n",
        "\n",
        "\n",
        "os.environ['AZURE_OPENAI_ENDPOINT'] = \"https://azure-openai-may2-25.openai.azure.com\"\n",
        "os.environ['AZURE_OPENAI_API_KEY'] = \"xxxxxxxxxxxxxxxxx\"\n",
        "\n",
        "lf = Langfuse(public_key=os.getenv(\"LANGFUSE_PUBLIC_KEY\"),\n",
        "              secret_key=os.getenv(\"LANGFUSE_SECRET_KEY\"),\n",
        "              host=os.getenv(\"LANGFUSE_HOST\", \"http://localhost:3000\"))"
      ],
      "metadata": {
        "id": "hW4Ak0INeVBC"
      },
      "id": "hW4Ak0INeVBC",
      "execution_count": 33,
      "outputs": []
    },
    {
      "cell_type": "code",
      "source": [
        "# Create a text prompt\n",
        "textprompt = lf.create_prompt(\n",
        "    name=\"movie-critic\",\n",
        "    type=\"text\",\n",
        "    prompt=\"As a {{criticlevel}} movie critic, do you like {{movie}}?\",\n",
        "    labels=[\"production\"],  # directly promote to production\n",
        "    config={\n",
        "        \"model\": \"gpt-4o\",\n",
        "        \"temperature\": 0.7,\n",
        "        \"supported_languages\": [\"en\", \"fr\"],\n",
        "    },  # optionally, add configs (e.g. model parameters or model tools) or tags\n",
        ")\n",
        "\n",
        "print(\"Prompt:\", textprompt.name, \"Version:\", textprompt.version)\n"
      ],
      "metadata": {
        "colab": {
          "base_uri": "https://localhost:8080/"
        },
        "id": "JJC6YwHZeWDS",
        "outputId": "dfff497e-dd4c-4bc8-ea6b-b491b73be8bf"
      },
      "id": "JJC6YwHZeWDS",
      "execution_count": 34,
      "outputs": [
        {
          "output_type": "stream",
          "name": "stdout",
          "text": [
            "Prompt: movie-critic Version: 3\n"
          ]
        }
      ]
    },
    {
      "cell_type": "code",
      "source": [
        "print(\"Prompt:\", textprompt.prompt)"
      ],
      "metadata": {
        "colab": {
          "base_uri": "https://localhost:8080/"
        },
        "id": "6Z1YdBwPe2rH",
        "outputId": "c5a5cd1b-0fcb-4c39-c3fa-65ae252f8774"
      },
      "id": "6Z1YdBwPe2rH",
      "execution_count": 35,
      "outputs": [
        {
          "output_type": "stream",
          "name": "stdout",
          "text": [
            "Prompt: As a {{criticlevel}} movie critic, do you like {{movie}}?\n"
          ]
        }
      ]
    },
    {
      "cell_type": "code",
      "source": [
        "# Create a chat prompt\n",
        "chatprompt = lf.create_prompt(\n",
        "    name=\"movie-critic-chat\",\n",
        "    type=\"chat\",\n",
        "    prompt=[\n",
        "      { \"role\": \"system\", \"content\": \"You are an {{criticlevel}} movie critic\" },\n",
        "      { \"role\": \"user\", \"content\": \"Do you like {{movie}}?\" },\n",
        "    ],\n",
        "    labels=[\"production\"],  # directly promote to production\n",
        "    config={\n",
        "        \"model\": \"gpt-4o\",\n",
        "        \"temperature\": 0.7,\n",
        "        \"supported_languages\": [\"en\", \"fr\"],\n",
        "    },  # optionally, add configs (e.g. model parameters or model tools) or tags\n",
        ")\n",
        "\n",
        "print(\"Prompt:\", chatprompt.name, \"Version:\", chatprompt.version)"
      ],
      "metadata": {
        "colab": {
          "base_uri": "https://localhost:8080/"
        },
        "id": "s4BFzWGQemPN",
        "outputId": "6f7a5516-01c0-49e4-d2af-49dc3e6f92c7"
      },
      "id": "s4BFzWGQemPN",
      "execution_count": 36,
      "outputs": [
        {
          "output_type": "stream",
          "name": "stdout",
          "text": [
            "Prompt: movie-critic-chat Version: 2\n"
          ]
        }
      ]
    },
    {
      "cell_type": "code",
      "source": [
        "print(\"Prompt:\", chatprompt.prompt)"
      ],
      "metadata": {
        "colab": {
          "base_uri": "https://localhost:8080/"
        },
        "id": "kbQ67XkEfAq0",
        "outputId": "d859c72c-055c-4295-d8a8-0041996ee639"
      },
      "id": "kbQ67XkEfAq0",
      "execution_count": 37,
      "outputs": [
        {
          "output_type": "stream",
          "name": "stdout",
          "text": [
            "Prompt: [{'role': 'system', 'content': 'You are an {{criticlevel}} movie critic'}, {'role': 'user', 'content': 'Do you like {{movie}}?'}]\n"
          ]
        }
      ]
    },
    {
      "cell_type": "code",
      "execution_count": 38,
      "id": "37e3982d",
      "metadata": {
        "colab": {
          "base_uri": "https://localhost:8080/"
        },
        "id": "37e3982d",
        "outputId": "48b12b17-9d70-4489-cfd1-8146176ce881"
      },
      "outputs": [
        {
          "output_type": "stream",
          "name": "stdout",
          "text": [
            "Prompt Name: project-plan-generator Version: 3\n"
          ]
        }
      ],
      "source": [
        "prompt_text = textwrap.dedent(\"\\nYou are an elite **Project Management Advisor** tasked with producing a _comprehensive_ delivery plan.\\n\\n**Project\\u00a0Name:** {{project_name}}  \\n**Project\\u00a0Scope\\u00a0(1\\u00a0sentence):** {{project_scope}}\\n\\n---\\n\\n## Required Output (markdown):\\n\\n1. **Executive Summary** \\u2013 3\\u00a0bullet points.  \\n2. **Detailed Work\\u2011breakdown Structure (WBS)**  \\n   - Use a markdown table with columns: *Work\\u2011stream*, *Tasks*, *Owner*, *Start*, *End*.  \\n   - At least 6\\u00a0work\\u2011streams, each with 3\\u20115\\u00a0tasks.\\n3. **Milestones** \\u2013 list every high\\u2011level milestone in the format `YYYY\\u2011MM\\u2011DD\\u00a0\\u2013\\u00a0Milestone name`.  \\n4. **Risk Register** \\u2013 another markdown table with *Risk*, *Impact (1\\u20115)*, *Probability\\u00a0(%) *, *Mitigation*.  \\n5. **Stakeholder\\u00a0Map** \\u2013 classify the following stakeholders ({{stakeholder_list}}) under *Manage\\u00a0Closely*, *Keep\\u00a0Satisfied*, *Keep\\u00a0Informed*, *Monitor*.  \\n6. **Budget\\u00a0Summary** \\u2013 break down the total budget **{{budget}}** into at least 4\\u00a0cost lines (**%** of total).\\n7. **Timeline Visualization** \\u2013 an ASCII Gantt chart up to **deadline\\u00a0{{deadline}}**.\\n8. End with an encouraging emoji.\\n\\n**Rules**\\n\\n- Sections must appear in order above.  \\n- Do **not** hallucinate dates beyond the supplied deadline.  \\n- Keep answer under 2000\\u00a0tokens.\\n\")\n",
        "\n",
        "prompt_v1 = lf.create_prompt(\n",
        "    name=\"project-plan-generator\",\n",
        "    prompt=prompt_text,\n",
        "    config={\"model\":\"gpt-4o-mini\",\"temperature\":0.2},\n",
        "    labels=[\"production\"],\n",
        "\n",
        ")\n",
        "\n",
        "print(\"Prompt Name:\", prompt_v1.name, \"Version:\", prompt_v1.version)\n",
        "\n",
        "\n"
      ]
    },
    {
      "cell_type": "code",
      "source": [
        "print(prompt_v1.prompt)"
      ],
      "metadata": {
        "colab": {
          "base_uri": "https://localhost:8080/"
        },
        "id": "xsmRV02CYJtx",
        "outputId": "ecfc85f6-3a68-4b2b-934b-fbb270d4bf1a"
      },
      "id": "xsmRV02CYJtx",
      "execution_count": 39,
      "outputs": [
        {
          "output_type": "stream",
          "name": "stdout",
          "text": [
            "\n",
            "You are an elite **Project Management Advisor** tasked with producing a _comprehensive_ delivery plan.\n",
            "\n",
            "**Project Name:** {{project_name}}  \n",
            "**Project Scope (1 sentence):** {{project_scope}}\n",
            "\n",
            "---\n",
            "\n",
            "## Required Output (markdown):\n",
            "\n",
            "1. **Executive Summary** – 3 bullet points.  \n",
            "2. **Detailed Work‑breakdown Structure (WBS)**  \n",
            "   - Use a markdown table with columns: *Work‑stream*, *Tasks*, *Owner*, *Start*, *End*.  \n",
            "   - At least 6 work‑streams, each with 3‑5 tasks.\n",
            "3. **Milestones** – list every high‑level milestone in the format `YYYY‑MM‑DD – Milestone name`.  \n",
            "4. **Risk Register** – another markdown table with *Risk*, *Impact (1‑5)*, *Probability (%) *, *Mitigation*.  \n",
            "5. **Stakeholder Map** – classify the following stakeholders ({{stakeholder_list}}) under *Manage Closely*, *Keep Satisfied*, *Keep Informed*, *Monitor*.  \n",
            "6. **Budget Summary** – break down the total budget **{{budget}}** into at least 4 cost lines (**%** of total).\n",
            "7. **Timeline Visualization** – an ASCII Gantt chart up to **deadline {{deadline}}**.\n",
            "8. End with an encouraging emoji.\n",
            "\n",
            "**Rules**\n",
            "\n",
            "- Sections must appear in order above.  \n",
            "- Do **not** hallucinate dates beyond the supplied deadline.  \n",
            "- Keep answer under 2000 tokens.\n",
            "\n"
          ]
        }
      ]
    },
    {
      "cell_type": "markdown",
      "source": [
        "## Fetch prompt from Langfuse Prompt Hub"
      ],
      "metadata": {
        "id": "r8ZTm59XfyZc"
      },
      "id": "r8ZTm59XfyZc"
    },
    {
      "cell_type": "code",
      "source": [
        "prompt = lf.get_prompt(\"project-plan-generator\")\n",
        "print(prompt.prompt)"
      ],
      "metadata": {
        "colab": {
          "base_uri": "https://localhost:8080/"
        },
        "id": "ur9NN1a-fxqb",
        "outputId": "f9e79d0e-b3ad-4a4d-8faf-267805d62e83"
      },
      "id": "ur9NN1a-fxqb",
      "execution_count": 40,
      "outputs": [
        {
          "output_type": "stream",
          "name": "stdout",
          "text": [
            "\n",
            "You are an elite **Project Management Advisor** tasked with producing a _comprehensive_ delivery plan.\n",
            "\n",
            "**Project Name:** {{project_name}}  \n",
            "**Project Scope (1 sentence):** {{project_scope}}\n",
            "\n",
            "---\n",
            "\n",
            "## Required Output (markdown):\n",
            "\n",
            "1. **Executive Summary** – 3 bullet points.  \n",
            "2. **Detailed Work‑breakdown Structure (WBS)**  \n",
            "   - Use a markdown table with columns: *Work‑stream*, *Tasks*, *Owner*, *Start*, *End*.  \n",
            "   - At least 6 work‑streams, each with 3‑5 tasks.\n",
            "3. **Milestones** – list every high‑level milestone in the format `YYYY‑MM‑DD – Milestone name`.  \n",
            "4. **Risk Register** – another markdown table with *Risk*, *Impact (1‑5)*, *Probability (%) *, *Mitigation*.  \n",
            "5. **Stakeholder Map** – classify the following stakeholders ({{stakeholder_list}}) under *Manage Closely*, *Keep Satisfied*, *Keep Informed*, *Monitor*.  \n",
            "6. **Budget Summary** – break down the total budget **{{budget}}** into at least 4 cost lines (**%** of total).\n",
            "7. **Timeline Visualization** – an ASCII Gantt chart up to **deadline {{deadline}}**.\n",
            "8. End with an encouraging emoji.\n",
            "\n",
            "**Rules**\n",
            "\n",
            "- Sections must appear in order above.  \n",
            "- Do **not** hallucinate dates beyond the supplied deadline.  \n",
            "- Keep answer under 2000 tokens.\n",
            "\n"
          ]
        }
      ]
    },
    {
      "cell_type": "code",
      "source": [
        "prompt.config"
      ],
      "metadata": {
        "colab": {
          "base_uri": "https://localhost:8080/"
        },
        "id": "JS_E9scwgAEo",
        "outputId": "861de77e-2d3b-4cc6-9c6d-721bdca67e30"
      },
      "id": "JS_E9scwgAEo",
      "execution_count": 41,
      "outputs": [
        {
          "output_type": "execute_result",
          "data": {
            "text/plain": [
              "{'model': 'gpt-4o-mini', 'temperature': 0.2}"
            ]
          },
          "metadata": {},
          "execution_count": 41
        }
      ]
    },
    {
      "cell_type": "markdown",
      "id": "026cae80",
      "metadata": {
        "id": "026cae80"
      },
      "source": [
        "## 4  Generate Plan using OpenAI SDK"
      ]
    },
    {
      "cell_type": "code",
      "source": [
        "from langfuse.openai import AzureOpenAI\n",
        "client = AzureOpenAI(api_version=\"2024-12-01-preview\")"
      ],
      "metadata": {
        "id": "ybeFHWyAgPQU"
      },
      "id": "ybeFHWyAgPQU",
      "execution_count": 42,
      "outputs": []
    },
    {
      "cell_type": "code",
      "execution_count": 43,
      "id": "3dfe0acd",
      "metadata": {
        "id": "3dfe0acd"
      },
      "outputs": [],
      "source": [
        "\n",
        "def generate_plan(vars):\n",
        "    filled = prompt.compile(**vars)\n",
        "    response = client.chat.completions.create(\n",
        "        model=\"telcogpt\",\n",
        "        messages=[{\"role\":\"system\",\"content\":\"You are an expert project‑management advisor.\"},\n",
        "                  {\"role\":\"user\",\"content\":filled}],\n",
        "        temperature=0.2\n",
        "    )\n",
        "    return response.choices[0].message.content\n",
        "\n",
        "\n"
      ]
    },
    {
      "cell_type": "code",
      "source": [
        "sample = generate_plan(dict(\n",
        "    project_name=\"AI Platform Overhaul\",\n",
        "    project_scope=\"Rebuild the ML pipeline end‑to‑end to support GenAI workloads.\",\n",
        "    deadline=\"2025-10-01\",\n",
        "    stakeholder_list=\"CTO, Head of Data, Product Manager, Cloud Ops Lead\",\n",
        "    budget=\"$500,000\"\n",
        "))\n",
        "print(sample[:500], \"...\")"
      ],
      "metadata": {
        "colab": {
          "base_uri": "https://localhost:8080/"
        },
        "id": "erLEwY_xg-2o",
        "outputId": "9323497f-5266-4c5c-e2a2-c69ee506b515"
      },
      "id": "erLEwY_xg-2o",
      "execution_count": 44,
      "outputs": [
        {
          "output_type": "stream",
          "name": "stdout",
          "text": [
            "# AI Platform Overhaul Delivery Plan\n",
            "\n",
            "---\n",
            "\n",
            "## 1. Executive Summary\n",
            "\n",
            "- Rebuild the entire ML pipeline to enable scalable, efficient GenAI workloads by October 2025.  \n",
            "- Focus on modular architecture, cloud-native infrastructure, and robust data governance to future-proof the platform.  \n",
            "- Mitigate risks through phased delivery, continuous stakeholder engagement, and rigorous testing.\n",
            "\n",
            "---\n",
            "\n",
            "## 2. Detailed Work-breakdown Structure (WBS)\n",
            "\n",
            "| Work-stream            | Tasks                              ...\n"
          ]
        }
      ]
    },
    {
      "cell_type": "code",
      "source": [
        "current = lf.get_prompt(\n",
        "    name   = \"project-plan-generator\",   # your prompt name\n",
        ")\n",
        "\n",
        "print(f\"Current version: {current.version}\")\n",
        "\n",
        "\n"
      ],
      "metadata": {
        "colab": {
          "base_uri": "https://localhost:8080/"
        },
        "id": "E3cCZPfCu5qH",
        "outputId": "8105cb46-4cf0-48ce-d801-89df27b5cd57"
      },
      "id": "E3cCZPfCu5qH",
      "execution_count": 47,
      "outputs": [
        {
          "output_type": "stream",
          "name": "stdout",
          "text": [
            "Current version: 3\n"
          ]
        }
      ]
    },
    {
      "cell_type": "code",
      "source": [
        "\n",
        "# **Create a new version** (safe / preferred)\n",
        "new_text = textwrap.dedent(current.prompt) + \"\\n\\n9. **Success Criteria** – list 3 KPIs.\"\n",
        "\n",
        "prompt_v_next = lf.create_prompt(\n",
        "    name   = current.name,          # same name auto‑increments the version\n",
        "    prompt = new_text,              # the modified body\n",
        "    config = current.config,        # keep model + temperature the same\n",
        "    labels = [\"candidate\"],         # start as 'candidate' until tests pass\n",
        ")\n",
        "\n",
        "print(f\"Created version {prompt_v_next.version} (name {prompt_v_next.name})\")"
      ],
      "metadata": {
        "colab": {
          "base_uri": "https://localhost:8080/"
        },
        "id": "Izv9QgECylC8",
        "outputId": "49b5961d-2f09-47f8-f55e-cc16b5b84b2c"
      },
      "id": "Izv9QgECylC8",
      "execution_count": 50,
      "outputs": [
        {
          "output_type": "stream",
          "name": "stdout",
          "text": [
            "Created version 5 (name project-plan-generator)\n"
          ]
        }
      ]
    },
    {
      "cell_type": "markdown",
      "id": "fec751f0",
      "metadata": {
        "id": "fec751f0"
      },
      "source": [
        "## 5  Best Practices Checklist"
      ]
    },
    {
      "cell_type": "markdown",
      "source": [
        "|  Area           |  Guideline                                                       |\n",
        "| --------------- | ---------------------------------------------------------------- |\n",
        "|  Observability  |  Log **every** prod call (no sampling) for full forensic traces. |\n",
        "|  PII            | Hash sensitive text or set `metadata={\"pii\":True}` for masking.  |\n",
        "|  Cost           | Tighten retention in prod, use read‑only ClickHouse in staging.  |\n",
        "|  SemVer         | Use semantic prompt versions (`1.3.0`) or Git SHA in `comment=`. |\n",
        "|  Rollback       | Keep `production-previous` label ready for instant rollback.     |\n",
        "|         |                                                                  |\n"
      ],
      "metadata": {
        "id": "sTEFJnqfi3PR"
      },
      "id": "sTEFJnqfi3PR"
    },
    {
      "cell_type": "code",
      "source": [],
      "metadata": {
        "id": "A2-suLIui3k0"
      },
      "id": "A2-suLIui3k0",
      "execution_count": null,
      "outputs": []
    }
  ],
  "metadata": {
    "colab": {
      "provenance": [],
      "include_colab_link": true
    },
    "language_info": {
      "name": "python"
    },
    "kernelspec": {
      "name": "python3",
      "display_name": "Python 3"
    }
  },
  "nbformat": 4,
  "nbformat_minor": 5
}